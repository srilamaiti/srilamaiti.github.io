{
  "nbformat": 4,
  "nbformat_minor": 0,
  "metadata": {
    "colab": {
      "provenance": [],
      "authorship_tag": "ABX9TyPzHAVLUxn+4oWIvUQTt8ik",
      "include_colab_link": true
    },
    "kernelspec": {
      "name": "python3",
      "display_name": "Python 3"
    },
    "language_info": {
      "name": "python"
    }
  },
  "cells": [
    {
      "cell_type": "markdown",
      "metadata": {
        "id": "view-in-github",
        "colab_type": "text"
      },
      "source": [
        "<a href=\"https://colab.research.google.com/github/srilamaiti/srilamaiti.github.io/blob/main/agents/conversational_agent.ipynb\" target=\"_parent\"><img src=\"https://colab.research.google.com/assets/colab-badge.svg\" alt=\"Open In Colab\"/></a>"
      ]
    },
    {
      "cell_type": "code",
      "execution_count": 83,
      "metadata": {
        "colab": {
          "base_uri": "https://localhost:8080/"
        },
        "id": "J9UZ4DMyuYEz",
        "outputId": "6808310a-d3c1-40a5-e733-5b1a8238ace6"
      },
      "outputs": [
        {
          "output_type": "stream",
          "name": "stdout",
          "text": [
            "Requirement already satisfied: langchain in /usr/local/lib/python3.11/dist-packages (0.3.18)\n",
            "Requirement already satisfied: langchain-community in /usr/local/lib/python3.11/dist-packages (0.3.17)\n",
            "Requirement already satisfied: langchain-core<1.0.0,>=0.3.34 in /usr/local/lib/python3.11/dist-packages (from langchain) (0.3.34)\n",
            "Requirement already satisfied: langchain-text-splitters<1.0.0,>=0.3.6 in /usr/local/lib/python3.11/dist-packages (from langchain) (0.3.6)\n",
            "Requirement already satisfied: langsmith<0.4,>=0.1.17 in /usr/local/lib/python3.11/dist-packages (from langchain) (0.3.6)\n",
            "Requirement already satisfied: pydantic<3.0.0,>=2.7.4 in /usr/local/lib/python3.11/dist-packages (from langchain) (2.10.6)\n",
            "Requirement already satisfied: SQLAlchemy<3,>=1.4 in /usr/local/lib/python3.11/dist-packages (from langchain) (2.0.37)\n",
            "Requirement already satisfied: requests<3,>=2 in /usr/local/lib/python3.11/dist-packages (from langchain) (2.32.3)\n",
            "Requirement already satisfied: PyYAML>=5.3 in /usr/local/lib/python3.11/dist-packages (from langchain) (6.0.2)\n",
            "Requirement already satisfied: aiohttp<4.0.0,>=3.8.3 in /usr/local/lib/python3.11/dist-packages (from langchain) (3.11.12)\n",
            "Requirement already satisfied: tenacity!=8.4.0,<10,>=8.1.0 in /usr/local/lib/python3.11/dist-packages (from langchain) (9.0.0)\n",
            "Requirement already satisfied: numpy<2,>=1.26.4 in /usr/local/lib/python3.11/dist-packages (from langchain) (1.26.4)\n",
            "Requirement already satisfied: dataclasses-json<0.7,>=0.5.7 in /usr/local/lib/python3.11/dist-packages (from langchain-community) (0.6.7)\n",
            "Requirement already satisfied: pydantic-settings<3.0.0,>=2.4.0 in /usr/local/lib/python3.11/dist-packages (from langchain-community) (2.7.1)\n",
            "Requirement already satisfied: httpx-sse<1.0.0,>=0.4.0 in /usr/local/lib/python3.11/dist-packages (from langchain-community) (0.4.0)\n",
            "Requirement already satisfied: aiohappyeyeballs>=2.3.0 in /usr/local/lib/python3.11/dist-packages (from aiohttp<4.0.0,>=3.8.3->langchain) (2.4.4)\n",
            "Requirement already satisfied: aiosignal>=1.1.2 in /usr/local/lib/python3.11/dist-packages (from aiohttp<4.0.0,>=3.8.3->langchain) (1.3.2)\n",
            "Requirement already satisfied: attrs>=17.3.0 in /usr/local/lib/python3.11/dist-packages (from aiohttp<4.0.0,>=3.8.3->langchain) (25.1.0)\n",
            "Requirement already satisfied: frozenlist>=1.1.1 in /usr/local/lib/python3.11/dist-packages (from aiohttp<4.0.0,>=3.8.3->langchain) (1.5.0)\n",
            "Requirement already satisfied: multidict<7.0,>=4.5 in /usr/local/lib/python3.11/dist-packages (from aiohttp<4.0.0,>=3.8.3->langchain) (6.1.0)\n",
            "Requirement already satisfied: propcache>=0.2.0 in /usr/local/lib/python3.11/dist-packages (from aiohttp<4.0.0,>=3.8.3->langchain) (0.2.1)\n",
            "Requirement already satisfied: yarl<2.0,>=1.17.0 in /usr/local/lib/python3.11/dist-packages (from aiohttp<4.0.0,>=3.8.3->langchain) (1.18.3)\n",
            "Requirement already satisfied: marshmallow<4.0.0,>=3.18.0 in /usr/local/lib/python3.11/dist-packages (from dataclasses-json<0.7,>=0.5.7->langchain-community) (3.26.1)\n",
            "Requirement already satisfied: typing-inspect<1,>=0.4.0 in /usr/local/lib/python3.11/dist-packages (from dataclasses-json<0.7,>=0.5.7->langchain-community) (0.9.0)\n",
            "Requirement already satisfied: jsonpatch<2.0,>=1.33 in /usr/local/lib/python3.11/dist-packages (from langchain-core<1.0.0,>=0.3.34->langchain) (1.33)\n",
            "Requirement already satisfied: packaging<25,>=23.2 in /usr/local/lib/python3.11/dist-packages (from langchain-core<1.0.0,>=0.3.34->langchain) (24.2)\n",
            "Requirement already satisfied: typing-extensions>=4.7 in /usr/local/lib/python3.11/dist-packages (from langchain-core<1.0.0,>=0.3.34->langchain) (4.12.2)\n",
            "Requirement already satisfied: httpx<1,>=0.23.0 in /usr/local/lib/python3.11/dist-packages (from langsmith<0.4,>=0.1.17->langchain) (0.28.1)\n",
            "Requirement already satisfied: orjson<4.0.0,>=3.9.14 in /usr/local/lib/python3.11/dist-packages (from langsmith<0.4,>=0.1.17->langchain) (3.10.15)\n",
            "Requirement already satisfied: requests-toolbelt<2.0.0,>=1.0.0 in /usr/local/lib/python3.11/dist-packages (from langsmith<0.4,>=0.1.17->langchain) (1.0.0)\n",
            "Requirement already satisfied: zstandard<0.24.0,>=0.23.0 in /usr/local/lib/python3.11/dist-packages (from langsmith<0.4,>=0.1.17->langchain) (0.23.0)\n",
            "Requirement already satisfied: annotated-types>=0.6.0 in /usr/local/lib/python3.11/dist-packages (from pydantic<3.0.0,>=2.7.4->langchain) (0.7.0)\n",
            "Requirement already satisfied: pydantic-core==2.27.2 in /usr/local/lib/python3.11/dist-packages (from pydantic<3.0.0,>=2.7.4->langchain) (2.27.2)\n",
            "Requirement already satisfied: python-dotenv>=0.21.0 in /usr/local/lib/python3.11/dist-packages (from pydantic-settings<3.0.0,>=2.4.0->langchain-community) (1.0.1)\n",
            "Requirement already satisfied: charset-normalizer<4,>=2 in /usr/local/lib/python3.11/dist-packages (from requests<3,>=2->langchain) (3.4.1)\n",
            "Requirement already satisfied: idna<4,>=2.5 in /usr/local/lib/python3.11/dist-packages (from requests<3,>=2->langchain) (3.10)\n",
            "Requirement already satisfied: urllib3<3,>=1.21.1 in /usr/local/lib/python3.11/dist-packages (from requests<3,>=2->langchain) (2.3.0)\n",
            "Requirement already satisfied: certifi>=2017.4.17 in /usr/local/lib/python3.11/dist-packages (from requests<3,>=2->langchain) (2025.1.31)\n",
            "Requirement already satisfied: greenlet!=0.4.17 in /usr/local/lib/python3.11/dist-packages (from SQLAlchemy<3,>=1.4->langchain) (3.1.1)\n",
            "Requirement already satisfied: anyio in /usr/local/lib/python3.11/dist-packages (from httpx<1,>=0.23.0->langsmith<0.4,>=0.1.17->langchain) (3.7.1)\n",
            "Requirement already satisfied: httpcore==1.* in /usr/local/lib/python3.11/dist-packages (from httpx<1,>=0.23.0->langsmith<0.4,>=0.1.17->langchain) (1.0.7)\n",
            "Requirement already satisfied: h11<0.15,>=0.13 in /usr/local/lib/python3.11/dist-packages (from httpcore==1.*->httpx<1,>=0.23.0->langsmith<0.4,>=0.1.17->langchain) (0.14.0)\n",
            "Requirement already satisfied: jsonpointer>=1.9 in /usr/local/lib/python3.11/dist-packages (from jsonpatch<2.0,>=1.33->langchain-core<1.0.0,>=0.3.34->langchain) (3.0.0)\n",
            "Requirement already satisfied: mypy-extensions>=0.3.0 in /usr/local/lib/python3.11/dist-packages (from typing-inspect<1,>=0.4.0->dataclasses-json<0.7,>=0.5.7->langchain-community) (1.0.0)\n",
            "Requirement already satisfied: sniffio>=1.1 in /usr/local/lib/python3.11/dist-packages (from anyio->httpx<1,>=0.23.0->langsmith<0.4,>=0.1.17->langchain) (1.3.1)\n",
            "Requirement already satisfied: openai in /usr/local/lib/python3.11/dist-packages (1.61.1)\n",
            "Requirement already satisfied: anyio<5,>=3.5.0 in /usr/local/lib/python3.11/dist-packages (from openai) (3.7.1)\n",
            "Requirement already satisfied: distro<2,>=1.7.0 in /usr/local/lib/python3.11/dist-packages (from openai) (1.9.0)\n",
            "Requirement already satisfied: httpx<1,>=0.23.0 in /usr/local/lib/python3.11/dist-packages (from openai) (0.28.1)\n",
            "Requirement already satisfied: jiter<1,>=0.4.0 in /usr/local/lib/python3.11/dist-packages (from openai) (0.8.2)\n",
            "Requirement already satisfied: pydantic<3,>=1.9.0 in /usr/local/lib/python3.11/dist-packages (from openai) (2.10.6)\n",
            "Requirement already satisfied: sniffio in /usr/local/lib/python3.11/dist-packages (from openai) (1.3.1)\n",
            "Requirement already satisfied: tqdm>4 in /usr/local/lib/python3.11/dist-packages (from openai) (4.67.1)\n",
            "Requirement already satisfied: typing-extensions<5,>=4.11 in /usr/local/lib/python3.11/dist-packages (from openai) (4.12.2)\n",
            "Requirement already satisfied: idna>=2.8 in /usr/local/lib/python3.11/dist-packages (from anyio<5,>=3.5.0->openai) (3.10)\n",
            "Requirement already satisfied: certifi in /usr/local/lib/python3.11/dist-packages (from httpx<1,>=0.23.0->openai) (2025.1.31)\n",
            "Requirement already satisfied: httpcore==1.* in /usr/local/lib/python3.11/dist-packages (from httpx<1,>=0.23.0->openai) (1.0.7)\n",
            "Requirement already satisfied: h11<0.15,>=0.13 in /usr/local/lib/python3.11/dist-packages (from httpcore==1.*->httpx<1,>=0.23.0->openai) (0.14.0)\n",
            "Requirement already satisfied: annotated-types>=0.6.0 in /usr/local/lib/python3.11/dist-packages (from pydantic<3,>=1.9.0->openai) (0.7.0)\n",
            "Requirement already satisfied: pydantic-core==2.27.2 in /usr/local/lib/python3.11/dist-packages (from pydantic<3,>=1.9.0->openai) (2.27.2)\n",
            "Requirement already satisfied: python-dotenv in /usr/local/lib/python3.11/dist-packages (1.0.1)\n",
            "Requirement already satisfied: google-search-results in /usr/local/lib/python3.11/dist-packages (2.4.2)\n",
            "Requirement already satisfied: requests in /usr/local/lib/python3.11/dist-packages (from google-search-results) (2.32.3)\n",
            "Requirement already satisfied: charset-normalizer<4,>=2 in /usr/local/lib/python3.11/dist-packages (from requests->google-search-results) (3.4.1)\n",
            "Requirement already satisfied: idna<4,>=2.5 in /usr/local/lib/python3.11/dist-packages (from requests->google-search-results) (3.10)\n",
            "Requirement already satisfied: urllib3<3,>=1.21.1 in /usr/local/lib/python3.11/dist-packages (from requests->google-search-results) (2.3.0)\n",
            "Requirement already satisfied: certifi>=2017.4.17 in /usr/local/lib/python3.11/dist-packages (from requests->google-search-results) (2025.1.31)\n",
            "Requirement already satisfied: google in /usr/local/lib/python3.11/dist-packages (2.0.3)\n",
            "Requirement already satisfied: beautifulsoup4 in /usr/local/lib/python3.11/dist-packages (from google) (4.13.3)\n",
            "Requirement already satisfied: soupsieve>1.2 in /usr/local/lib/python3.11/dist-packages (from beautifulsoup4->google) (2.6)\n",
            "Requirement already satisfied: typing-extensions>=4.0.0 in /usr/local/lib/python3.11/dist-packages (from beautifulsoup4->google) (4.12.2)\n",
            "Requirement already satisfied: wikipedia in /usr/local/lib/python3.11/dist-packages (1.4.0)\n",
            "Requirement already satisfied: beautifulsoup4 in /usr/local/lib/python3.11/dist-packages (from wikipedia) (4.13.3)\n",
            "Requirement already satisfied: requests<3.0.0,>=2.0.0 in /usr/local/lib/python3.11/dist-packages (from wikipedia) (2.32.3)\n",
            "Requirement already satisfied: charset-normalizer<4,>=2 in /usr/local/lib/python3.11/dist-packages (from requests<3.0.0,>=2.0.0->wikipedia) (3.4.1)\n",
            "Requirement already satisfied: idna<4,>=2.5 in /usr/local/lib/python3.11/dist-packages (from requests<3.0.0,>=2.0.0->wikipedia) (3.10)\n",
            "Requirement already satisfied: urllib3<3,>=1.21.1 in /usr/local/lib/python3.11/dist-packages (from requests<3.0.0,>=2.0.0->wikipedia) (2.3.0)\n",
            "Requirement already satisfied: certifi>=2017.4.17 in /usr/local/lib/python3.11/dist-packages (from requests<3.0.0,>=2.0.0->wikipedia) (2025.1.31)\n",
            "Requirement already satisfied: soupsieve>1.2 in /usr/local/lib/python3.11/dist-packages (from beautifulsoup4->wikipedia) (2.6)\n",
            "Requirement already satisfied: typing-extensions>=4.0.0 in /usr/local/lib/python3.11/dist-packages (from beautifulsoup4->wikipedia) (4.12.2)\n",
            "Requirement already satisfied: duckduckgo-search in /usr/local/lib/python3.11/dist-packages (7.3.2)\n",
            "Requirement already satisfied: click>=8.1.8 in /usr/local/lib/python3.11/dist-packages (from duckduckgo-search) (8.1.8)\n",
            "Requirement already satisfied: primp>=0.11.0 in /usr/local/lib/python3.11/dist-packages (from duckduckgo-search) (0.12.1)\n",
            "Requirement already satisfied: lxml>=5.3.0 in /usr/local/lib/python3.11/dist-packages (from duckduckgo-search) (5.3.0)\n",
            "Requirement already satisfied: arxiv in /usr/local/lib/python3.11/dist-packages (2.1.3)\n",
            "Requirement already satisfied: feedparser~=6.0.10 in /usr/local/lib/python3.11/dist-packages (from arxiv) (6.0.11)\n",
            "Requirement already satisfied: requests~=2.32.0 in /usr/local/lib/python3.11/dist-packages (from arxiv) (2.32.3)\n",
            "Requirement already satisfied: sgmllib3k in /usr/local/lib/python3.11/dist-packages (from feedparser~=6.0.10->arxiv) (1.0.0)\n",
            "Requirement already satisfied: charset-normalizer<4,>=2 in /usr/local/lib/python3.11/dist-packages (from requests~=2.32.0->arxiv) (3.4.1)\n",
            "Requirement already satisfied: idna<4,>=2.5 in /usr/local/lib/python3.11/dist-packages (from requests~=2.32.0->arxiv) (3.10)\n",
            "Requirement already satisfied: urllib3<3,>=1.21.1 in /usr/local/lib/python3.11/dist-packages (from requests~=2.32.0->arxiv) (2.3.0)\n",
            "Requirement already satisfied: certifi>=2017.4.17 in /usr/local/lib/python3.11/dist-packages (from requests~=2.32.0->arxiv) (2025.1.31)\n",
            "Requirement already satisfied: tiktoken in /usr/local/lib/python3.11/dist-packages (0.8.0)\n",
            "Requirement already satisfied: regex>=2022.1.18 in /usr/local/lib/python3.11/dist-packages (from tiktoken) (2024.11.6)\n",
            "Requirement already satisfied: requests>=2.26.0 in /usr/local/lib/python3.11/dist-packages (from tiktoken) (2.32.3)\n",
            "Requirement already satisfied: charset-normalizer<4,>=2 in /usr/local/lib/python3.11/dist-packages (from requests>=2.26.0->tiktoken) (3.4.1)\n",
            "Requirement already satisfied: idna<4,>=2.5 in /usr/local/lib/python3.11/dist-packages (from requests>=2.26.0->tiktoken) (3.10)\n",
            "Requirement already satisfied: urllib3<3,>=1.21.1 in /usr/local/lib/python3.11/dist-packages (from requests>=2.26.0->tiktoken) (2.3.0)\n",
            "Requirement already satisfied: certifi>=2017.4.17 in /usr/local/lib/python3.11/dist-packages (from requests>=2.26.0->tiktoken) (2025.1.31)\n",
            "Requirement already satisfied: langgraph in /usr/local/lib/python3.11/dist-packages (0.2.71)\n",
            "Requirement already satisfied: langchain-core!=0.3.0,!=0.3.1,!=0.3.10,!=0.3.11,!=0.3.12,!=0.3.13,!=0.3.14,!=0.3.15,!=0.3.16,!=0.3.17,!=0.3.18,!=0.3.19,!=0.3.2,!=0.3.20,!=0.3.21,!=0.3.22,!=0.3.3,!=0.3.4,!=0.3.5,!=0.3.6,!=0.3.7,!=0.3.8,!=0.3.9,<0.4.0,>=0.2.43 in /usr/local/lib/python3.11/dist-packages (from langgraph) (0.3.34)\n",
            "Requirement already satisfied: langgraph-checkpoint<3.0.0,>=2.0.10 in /usr/local/lib/python3.11/dist-packages (from langgraph) (2.0.12)\n",
            "Requirement already satisfied: langgraph-sdk<0.2.0,>=0.1.42 in /usr/local/lib/python3.11/dist-packages (from langgraph) (0.1.51)\n",
            "Requirement already satisfied: langsmith<0.4,>=0.1.125 in /usr/local/lib/python3.11/dist-packages (from langchain-core!=0.3.0,!=0.3.1,!=0.3.10,!=0.3.11,!=0.3.12,!=0.3.13,!=0.3.14,!=0.3.15,!=0.3.16,!=0.3.17,!=0.3.18,!=0.3.19,!=0.3.2,!=0.3.20,!=0.3.21,!=0.3.22,!=0.3.3,!=0.3.4,!=0.3.5,!=0.3.6,!=0.3.7,!=0.3.8,!=0.3.9,<0.4.0,>=0.2.43->langgraph) (0.3.6)\n",
            "Requirement already satisfied: tenacity!=8.4.0,<10.0.0,>=8.1.0 in /usr/local/lib/python3.11/dist-packages (from langchain-core!=0.3.0,!=0.3.1,!=0.3.10,!=0.3.11,!=0.3.12,!=0.3.13,!=0.3.14,!=0.3.15,!=0.3.16,!=0.3.17,!=0.3.18,!=0.3.19,!=0.3.2,!=0.3.20,!=0.3.21,!=0.3.22,!=0.3.3,!=0.3.4,!=0.3.5,!=0.3.6,!=0.3.7,!=0.3.8,!=0.3.9,<0.4.0,>=0.2.43->langgraph) (9.0.0)\n",
            "Requirement already satisfied: jsonpatch<2.0,>=1.33 in /usr/local/lib/python3.11/dist-packages (from langchain-core!=0.3.0,!=0.3.1,!=0.3.10,!=0.3.11,!=0.3.12,!=0.3.13,!=0.3.14,!=0.3.15,!=0.3.16,!=0.3.17,!=0.3.18,!=0.3.19,!=0.3.2,!=0.3.20,!=0.3.21,!=0.3.22,!=0.3.3,!=0.3.4,!=0.3.5,!=0.3.6,!=0.3.7,!=0.3.8,!=0.3.9,<0.4.0,>=0.2.43->langgraph) (1.33)\n",
            "Requirement already satisfied: PyYAML>=5.3 in /usr/local/lib/python3.11/dist-packages (from langchain-core!=0.3.0,!=0.3.1,!=0.3.10,!=0.3.11,!=0.3.12,!=0.3.13,!=0.3.14,!=0.3.15,!=0.3.16,!=0.3.17,!=0.3.18,!=0.3.19,!=0.3.2,!=0.3.20,!=0.3.21,!=0.3.22,!=0.3.3,!=0.3.4,!=0.3.5,!=0.3.6,!=0.3.7,!=0.3.8,!=0.3.9,<0.4.0,>=0.2.43->langgraph) (6.0.2)\n",
            "Requirement already satisfied: packaging<25,>=23.2 in /usr/local/lib/python3.11/dist-packages (from langchain-core!=0.3.0,!=0.3.1,!=0.3.10,!=0.3.11,!=0.3.12,!=0.3.13,!=0.3.14,!=0.3.15,!=0.3.16,!=0.3.17,!=0.3.18,!=0.3.19,!=0.3.2,!=0.3.20,!=0.3.21,!=0.3.22,!=0.3.3,!=0.3.4,!=0.3.5,!=0.3.6,!=0.3.7,!=0.3.8,!=0.3.9,<0.4.0,>=0.2.43->langgraph) (24.2)\n",
            "Requirement already satisfied: typing-extensions>=4.7 in /usr/local/lib/python3.11/dist-packages (from langchain-core!=0.3.0,!=0.3.1,!=0.3.10,!=0.3.11,!=0.3.12,!=0.3.13,!=0.3.14,!=0.3.15,!=0.3.16,!=0.3.17,!=0.3.18,!=0.3.19,!=0.3.2,!=0.3.20,!=0.3.21,!=0.3.22,!=0.3.3,!=0.3.4,!=0.3.5,!=0.3.6,!=0.3.7,!=0.3.8,!=0.3.9,<0.4.0,>=0.2.43->langgraph) (4.12.2)\n",
            "Requirement already satisfied: pydantic<3.0.0,>=2.5.2 in /usr/local/lib/python3.11/dist-packages (from langchain-core!=0.3.0,!=0.3.1,!=0.3.10,!=0.3.11,!=0.3.12,!=0.3.13,!=0.3.14,!=0.3.15,!=0.3.16,!=0.3.17,!=0.3.18,!=0.3.19,!=0.3.2,!=0.3.20,!=0.3.21,!=0.3.22,!=0.3.3,!=0.3.4,!=0.3.5,!=0.3.6,!=0.3.7,!=0.3.8,!=0.3.9,<0.4.0,>=0.2.43->langgraph) (2.10.6)\n",
            "Requirement already satisfied: msgpack<2.0.0,>=1.1.0 in /usr/local/lib/python3.11/dist-packages (from langgraph-checkpoint<3.0.0,>=2.0.10->langgraph) (1.1.0)\n",
            "Requirement already satisfied: httpx>=0.25.2 in /usr/local/lib/python3.11/dist-packages (from langgraph-sdk<0.2.0,>=0.1.42->langgraph) (0.28.1)\n",
            "Requirement already satisfied: orjson>=3.10.1 in /usr/local/lib/python3.11/dist-packages (from langgraph-sdk<0.2.0,>=0.1.42->langgraph) (3.10.15)\n",
            "Requirement already satisfied: anyio in /usr/local/lib/python3.11/dist-packages (from httpx>=0.25.2->langgraph-sdk<0.2.0,>=0.1.42->langgraph) (3.7.1)\n",
            "Requirement already satisfied: certifi in /usr/local/lib/python3.11/dist-packages (from httpx>=0.25.2->langgraph-sdk<0.2.0,>=0.1.42->langgraph) (2025.1.31)\n",
            "Requirement already satisfied: httpcore==1.* in /usr/local/lib/python3.11/dist-packages (from httpx>=0.25.2->langgraph-sdk<0.2.0,>=0.1.42->langgraph) (1.0.7)\n",
            "Requirement already satisfied: idna in /usr/local/lib/python3.11/dist-packages (from httpx>=0.25.2->langgraph-sdk<0.2.0,>=0.1.42->langgraph) (3.10)\n",
            "Requirement already satisfied: h11<0.15,>=0.13 in /usr/local/lib/python3.11/dist-packages (from httpcore==1.*->httpx>=0.25.2->langgraph-sdk<0.2.0,>=0.1.42->langgraph) (0.14.0)\n",
            "Requirement already satisfied: jsonpointer>=1.9 in /usr/local/lib/python3.11/dist-packages (from jsonpatch<2.0,>=1.33->langchain-core!=0.3.0,!=0.3.1,!=0.3.10,!=0.3.11,!=0.3.12,!=0.3.13,!=0.3.14,!=0.3.15,!=0.3.16,!=0.3.17,!=0.3.18,!=0.3.19,!=0.3.2,!=0.3.20,!=0.3.21,!=0.3.22,!=0.3.3,!=0.3.4,!=0.3.5,!=0.3.6,!=0.3.7,!=0.3.8,!=0.3.9,<0.4.0,>=0.2.43->langgraph) (3.0.0)\n",
            "Requirement already satisfied: requests<3,>=2 in /usr/local/lib/python3.11/dist-packages (from langsmith<0.4,>=0.1.125->langchain-core!=0.3.0,!=0.3.1,!=0.3.10,!=0.3.11,!=0.3.12,!=0.3.13,!=0.3.14,!=0.3.15,!=0.3.16,!=0.3.17,!=0.3.18,!=0.3.19,!=0.3.2,!=0.3.20,!=0.3.21,!=0.3.22,!=0.3.3,!=0.3.4,!=0.3.5,!=0.3.6,!=0.3.7,!=0.3.8,!=0.3.9,<0.4.0,>=0.2.43->langgraph) (2.32.3)\n",
            "Requirement already satisfied: requests-toolbelt<2.0.0,>=1.0.0 in /usr/local/lib/python3.11/dist-packages (from langsmith<0.4,>=0.1.125->langchain-core!=0.3.0,!=0.3.1,!=0.3.10,!=0.3.11,!=0.3.12,!=0.3.13,!=0.3.14,!=0.3.15,!=0.3.16,!=0.3.17,!=0.3.18,!=0.3.19,!=0.3.2,!=0.3.20,!=0.3.21,!=0.3.22,!=0.3.3,!=0.3.4,!=0.3.5,!=0.3.6,!=0.3.7,!=0.3.8,!=0.3.9,<0.4.0,>=0.2.43->langgraph) (1.0.0)\n",
            "Requirement already satisfied: zstandard<0.24.0,>=0.23.0 in /usr/local/lib/python3.11/dist-packages (from langsmith<0.4,>=0.1.125->langchain-core!=0.3.0,!=0.3.1,!=0.3.10,!=0.3.11,!=0.3.12,!=0.3.13,!=0.3.14,!=0.3.15,!=0.3.16,!=0.3.17,!=0.3.18,!=0.3.19,!=0.3.2,!=0.3.20,!=0.3.21,!=0.3.22,!=0.3.3,!=0.3.4,!=0.3.5,!=0.3.6,!=0.3.7,!=0.3.8,!=0.3.9,<0.4.0,>=0.2.43->langgraph) (0.23.0)\n",
            "Requirement already satisfied: annotated-types>=0.6.0 in /usr/local/lib/python3.11/dist-packages (from pydantic<3.0.0,>=2.5.2->langchain-core!=0.3.0,!=0.3.1,!=0.3.10,!=0.3.11,!=0.3.12,!=0.3.13,!=0.3.14,!=0.3.15,!=0.3.16,!=0.3.17,!=0.3.18,!=0.3.19,!=0.3.2,!=0.3.20,!=0.3.21,!=0.3.22,!=0.3.3,!=0.3.4,!=0.3.5,!=0.3.6,!=0.3.7,!=0.3.8,!=0.3.9,<0.4.0,>=0.2.43->langgraph) (0.7.0)\n",
            "Requirement already satisfied: pydantic-core==2.27.2 in /usr/local/lib/python3.11/dist-packages (from pydantic<3.0.0,>=2.5.2->langchain-core!=0.3.0,!=0.3.1,!=0.3.10,!=0.3.11,!=0.3.12,!=0.3.13,!=0.3.14,!=0.3.15,!=0.3.16,!=0.3.17,!=0.3.18,!=0.3.19,!=0.3.2,!=0.3.20,!=0.3.21,!=0.3.22,!=0.3.3,!=0.3.4,!=0.3.5,!=0.3.6,!=0.3.7,!=0.3.8,!=0.3.9,<0.4.0,>=0.2.43->langgraph) (2.27.2)\n",
            "Requirement already satisfied: charset-normalizer<4,>=2 in /usr/local/lib/python3.11/dist-packages (from requests<3,>=2->langsmith<0.4,>=0.1.125->langchain-core!=0.3.0,!=0.3.1,!=0.3.10,!=0.3.11,!=0.3.12,!=0.3.13,!=0.3.14,!=0.3.15,!=0.3.16,!=0.3.17,!=0.3.18,!=0.3.19,!=0.3.2,!=0.3.20,!=0.3.21,!=0.3.22,!=0.3.3,!=0.3.4,!=0.3.5,!=0.3.6,!=0.3.7,!=0.3.8,!=0.3.9,<0.4.0,>=0.2.43->langgraph) (3.4.1)\n",
            "Requirement already satisfied: urllib3<3,>=1.21.1 in /usr/local/lib/python3.11/dist-packages (from requests<3,>=2->langsmith<0.4,>=0.1.125->langchain-core!=0.3.0,!=0.3.1,!=0.3.10,!=0.3.11,!=0.3.12,!=0.3.13,!=0.3.14,!=0.3.15,!=0.3.16,!=0.3.17,!=0.3.18,!=0.3.19,!=0.3.2,!=0.3.20,!=0.3.21,!=0.3.22,!=0.3.3,!=0.3.4,!=0.3.5,!=0.3.6,!=0.3.7,!=0.3.8,!=0.3.9,<0.4.0,>=0.2.43->langgraph) (2.3.0)\n",
            "Requirement already satisfied: sniffio>=1.1 in /usr/local/lib/python3.11/dist-packages (from anyio->httpx>=0.25.2->langgraph-sdk<0.2.0,>=0.1.42->langgraph) (1.3.1)\n",
            "Requirement already satisfied: langchain-experimental in /usr/local/lib/python3.11/dist-packages (0.3.4)\n",
            "Requirement already satisfied: langchain-community<0.4.0,>=0.3.0 in /usr/local/lib/python3.11/dist-packages (from langchain-experimental) (0.3.17)\n",
            "Requirement already satisfied: langchain-core<0.4.0,>=0.3.28 in /usr/local/lib/python3.11/dist-packages (from langchain-experimental) (0.3.34)\n",
            "Requirement already satisfied: langchain<1.0.0,>=0.3.18 in /usr/local/lib/python3.11/dist-packages (from langchain-community<0.4.0,>=0.3.0->langchain-experimental) (0.3.18)\n",
            "Requirement already satisfied: SQLAlchemy<3,>=1.4 in /usr/local/lib/python3.11/dist-packages (from langchain-community<0.4.0,>=0.3.0->langchain-experimental) (2.0.37)\n",
            "Requirement already satisfied: requests<3,>=2 in /usr/local/lib/python3.11/dist-packages (from langchain-community<0.4.0,>=0.3.0->langchain-experimental) (2.32.3)\n",
            "Requirement already satisfied: PyYAML>=5.3 in /usr/local/lib/python3.11/dist-packages (from langchain-community<0.4.0,>=0.3.0->langchain-experimental) (6.0.2)\n",
            "Requirement already satisfied: aiohttp<4.0.0,>=3.8.3 in /usr/local/lib/python3.11/dist-packages (from langchain-community<0.4.0,>=0.3.0->langchain-experimental) (3.11.12)\n",
            "Requirement already satisfied: tenacity!=8.4.0,<10,>=8.1.0 in /usr/local/lib/python3.11/dist-packages (from langchain-community<0.4.0,>=0.3.0->langchain-experimental) (9.0.0)\n",
            "Requirement already satisfied: dataclasses-json<0.7,>=0.5.7 in /usr/local/lib/python3.11/dist-packages (from langchain-community<0.4.0,>=0.3.0->langchain-experimental) (0.6.7)\n",
            "Requirement already satisfied: pydantic-settings<3.0.0,>=2.4.0 in /usr/local/lib/python3.11/dist-packages (from langchain-community<0.4.0,>=0.3.0->langchain-experimental) (2.7.1)\n",
            "Requirement already satisfied: langsmith<0.4,>=0.1.125 in /usr/local/lib/python3.11/dist-packages (from langchain-community<0.4.0,>=0.3.0->langchain-experimental) (0.3.6)\n",
            "Requirement already satisfied: httpx-sse<1.0.0,>=0.4.0 in /usr/local/lib/python3.11/dist-packages (from langchain-community<0.4.0,>=0.3.0->langchain-experimental) (0.4.0)\n",
            "Requirement already satisfied: numpy<2,>=1.26.4 in /usr/local/lib/python3.11/dist-packages (from langchain-community<0.4.0,>=0.3.0->langchain-experimental) (1.26.4)\n",
            "Requirement already satisfied: jsonpatch<2.0,>=1.33 in /usr/local/lib/python3.11/dist-packages (from langchain-core<0.4.0,>=0.3.28->langchain-experimental) (1.33)\n",
            "Requirement already satisfied: packaging<25,>=23.2 in /usr/local/lib/python3.11/dist-packages (from langchain-core<0.4.0,>=0.3.28->langchain-experimental) (24.2)\n",
            "Requirement already satisfied: typing-extensions>=4.7 in /usr/local/lib/python3.11/dist-packages (from langchain-core<0.4.0,>=0.3.28->langchain-experimental) (4.12.2)\n",
            "Requirement already satisfied: pydantic<3.0.0,>=2.5.2 in /usr/local/lib/python3.11/dist-packages (from langchain-core<0.4.0,>=0.3.28->langchain-experimental) (2.10.6)\n",
            "Requirement already satisfied: aiohappyeyeballs>=2.3.0 in /usr/local/lib/python3.11/dist-packages (from aiohttp<4.0.0,>=3.8.3->langchain-community<0.4.0,>=0.3.0->langchain-experimental) (2.4.4)\n",
            "Requirement already satisfied: aiosignal>=1.1.2 in /usr/local/lib/python3.11/dist-packages (from aiohttp<4.0.0,>=3.8.3->langchain-community<0.4.0,>=0.3.0->langchain-experimental) (1.3.2)\n",
            "Requirement already satisfied: attrs>=17.3.0 in /usr/local/lib/python3.11/dist-packages (from aiohttp<4.0.0,>=3.8.3->langchain-community<0.4.0,>=0.3.0->langchain-experimental) (25.1.0)\n",
            "Requirement already satisfied: frozenlist>=1.1.1 in /usr/local/lib/python3.11/dist-packages (from aiohttp<4.0.0,>=3.8.3->langchain-community<0.4.0,>=0.3.0->langchain-experimental) (1.5.0)\n",
            "Requirement already satisfied: multidict<7.0,>=4.5 in /usr/local/lib/python3.11/dist-packages (from aiohttp<4.0.0,>=3.8.3->langchain-community<0.4.0,>=0.3.0->langchain-experimental) (6.1.0)\n",
            "Requirement already satisfied: propcache>=0.2.0 in /usr/local/lib/python3.11/dist-packages (from aiohttp<4.0.0,>=3.8.3->langchain-community<0.4.0,>=0.3.0->langchain-experimental) (0.2.1)\n",
            "Requirement already satisfied: yarl<2.0,>=1.17.0 in /usr/local/lib/python3.11/dist-packages (from aiohttp<4.0.0,>=3.8.3->langchain-community<0.4.0,>=0.3.0->langchain-experimental) (1.18.3)\n",
            "Requirement already satisfied: marshmallow<4.0.0,>=3.18.0 in /usr/local/lib/python3.11/dist-packages (from dataclasses-json<0.7,>=0.5.7->langchain-community<0.4.0,>=0.3.0->langchain-experimental) (3.26.1)\n",
            "Requirement already satisfied: typing-inspect<1,>=0.4.0 in /usr/local/lib/python3.11/dist-packages (from dataclasses-json<0.7,>=0.5.7->langchain-community<0.4.0,>=0.3.0->langchain-experimental) (0.9.0)\n",
            "Requirement already satisfied: jsonpointer>=1.9 in /usr/local/lib/python3.11/dist-packages (from jsonpatch<2.0,>=1.33->langchain-core<0.4.0,>=0.3.28->langchain-experimental) (3.0.0)\n",
            "Requirement already satisfied: langchain-text-splitters<1.0.0,>=0.3.6 in /usr/local/lib/python3.11/dist-packages (from langchain<1.0.0,>=0.3.18->langchain-community<0.4.0,>=0.3.0->langchain-experimental) (0.3.6)\n",
            "Requirement already satisfied: httpx<1,>=0.23.0 in /usr/local/lib/python3.11/dist-packages (from langsmith<0.4,>=0.1.125->langchain-community<0.4.0,>=0.3.0->langchain-experimental) (0.28.1)\n",
            "Requirement already satisfied: orjson<4.0.0,>=3.9.14 in /usr/local/lib/python3.11/dist-packages (from langsmith<0.4,>=0.1.125->langchain-community<0.4.0,>=0.3.0->langchain-experimental) (3.10.15)\n",
            "Requirement already satisfied: requests-toolbelt<2.0.0,>=1.0.0 in /usr/local/lib/python3.11/dist-packages (from langsmith<0.4,>=0.1.125->langchain-community<0.4.0,>=0.3.0->langchain-experimental) (1.0.0)\n",
            "Requirement already satisfied: zstandard<0.24.0,>=0.23.0 in /usr/local/lib/python3.11/dist-packages (from langsmith<0.4,>=0.1.125->langchain-community<0.4.0,>=0.3.0->langchain-experimental) (0.23.0)\n",
            "Requirement already satisfied: annotated-types>=0.6.0 in /usr/local/lib/python3.11/dist-packages (from pydantic<3.0.0,>=2.5.2->langchain-core<0.4.0,>=0.3.28->langchain-experimental) (0.7.0)\n",
            "Requirement already satisfied: pydantic-core==2.27.2 in /usr/local/lib/python3.11/dist-packages (from pydantic<3.0.0,>=2.5.2->langchain-core<0.4.0,>=0.3.28->langchain-experimental) (2.27.2)\n",
            "Requirement already satisfied: python-dotenv>=0.21.0 in /usr/local/lib/python3.11/dist-packages (from pydantic-settings<3.0.0,>=2.4.0->langchain-community<0.4.0,>=0.3.0->langchain-experimental) (1.0.1)\n",
            "Requirement already satisfied: charset-normalizer<4,>=2 in /usr/local/lib/python3.11/dist-packages (from requests<3,>=2->langchain-community<0.4.0,>=0.3.0->langchain-experimental) (3.4.1)\n",
            "Requirement already satisfied: idna<4,>=2.5 in /usr/local/lib/python3.11/dist-packages (from requests<3,>=2->langchain-community<0.4.0,>=0.3.0->langchain-experimental) (3.10)\n",
            "Requirement already satisfied: urllib3<3,>=1.21.1 in /usr/local/lib/python3.11/dist-packages (from requests<3,>=2->langchain-community<0.4.0,>=0.3.0->langchain-experimental) (2.3.0)\n",
            "Requirement already satisfied: certifi>=2017.4.17 in /usr/local/lib/python3.11/dist-packages (from requests<3,>=2->langchain-community<0.4.0,>=0.3.0->langchain-experimental) (2025.1.31)\n",
            "Requirement already satisfied: greenlet!=0.4.17 in /usr/local/lib/python3.11/dist-packages (from SQLAlchemy<3,>=1.4->langchain-community<0.4.0,>=0.3.0->langchain-experimental) (3.1.1)\n",
            "Requirement already satisfied: anyio in /usr/local/lib/python3.11/dist-packages (from httpx<1,>=0.23.0->langsmith<0.4,>=0.1.125->langchain-community<0.4.0,>=0.3.0->langchain-experimental) (3.7.1)\n",
            "Requirement already satisfied: httpcore==1.* in /usr/local/lib/python3.11/dist-packages (from httpx<1,>=0.23.0->langsmith<0.4,>=0.1.125->langchain-community<0.4.0,>=0.3.0->langchain-experimental) (1.0.7)\n",
            "Requirement already satisfied: h11<0.15,>=0.13 in /usr/local/lib/python3.11/dist-packages (from httpcore==1.*->httpx<1,>=0.23.0->langsmith<0.4,>=0.1.125->langchain-community<0.4.0,>=0.3.0->langchain-experimental) (0.14.0)\n",
            "Requirement already satisfied: mypy-extensions>=0.3.0 in /usr/local/lib/python3.11/dist-packages (from typing-inspect<1,>=0.4.0->dataclasses-json<0.7,>=0.5.7->langchain-community<0.4.0,>=0.3.0->langchain-experimental) (1.0.0)\n",
            "Requirement already satisfied: sniffio>=1.1 in /usr/local/lib/python3.11/dist-packages (from anyio->httpx<1,>=0.23.0->langsmith<0.4,>=0.1.125->langchain-community<0.4.0,>=0.3.0->langchain-experimental) (1.3.1)\n"
          ]
        }
      ],
      "source": [
        "!pip install --upgrade langchain langchain-community\n",
        "!pip install openai\n",
        "!pip install python-dotenv\n",
        "!pip install google-search-results\n",
        "!pip install google\n",
        "!pip install wikipedia\n",
        "!pip install duckduckgo-search\n",
        "!pip install arxiv\n",
        "!pip install tiktoken\n",
        "!pip install langgraph\n",
        "!pip install langchain-experimental"
      ]
    },
    {
      "cell_type": "code",
      "source": [
        "import langchain\n",
        "from langchain.agents import initialize_agent, Tool\n",
        "from langchain.llms import OpenAI\n",
        "from dotenv import load_dotenv\n",
        "import os\n",
        "import getpass\n",
        "from langchain_community.tools.ddg_search.tool import DuckDuckGoSearchRun\n",
        "from langchain_community.tools.file_management import ReadFileTool\n",
        "from langchain_community.utilities.wikipedia import WikipediaAPIWrapper\n",
        "from langchain_community.tools.arxiv.tool import ArxivQueryRun\n",
        "from google.colab import drive\n",
        "from IPython.display import Image, display\n",
        "from langgraph.graph import StateGraph, START, END\n",
        "from langchain.agents import initialize_agent, Tool\n",
        "from langchain.agents import AgentType\n",
        "from langchain.chat_models import ChatOpenAI\n",
        "from langgraph.graph import MessagesState\n",
        "from langchain.schema import AIMessage, HumanMessage, SystemMessage\n",
        "from langgraph.checkpoint.memory import MemorySaver\n",
        "from langgraph.graph import START, StateGraph\n",
        "from langgraph.prebuilt import tools_condition, ToolNode\n",
        "from IPython.display import Image, display\n",
        "from langgraph.prebuilt import tools_condition\n",
        "drive.mount(\"/content/drive\", force_remount=True)\n",
        "os.environ['GDRIVE_CONFIG_DIR'] = \"/content/drive/MyDrive\""
      ],
      "metadata": {
        "colab": {
          "base_uri": "https://localhost:8080/"
        },
        "id": "EriOh0yOux6E",
        "outputId": "6787a089-c7dc-46ae-d1a0-44e8abe78d10"
      },
      "execution_count": 84,
      "outputs": [
        {
          "output_type": "stream",
          "name": "stdout",
          "text": [
            "Mounted at /content/drive\n"
          ]
        }
      ]
    },
    {
      "cell_type": "code",
      "source": [
        "from typing_extensions import TypedDict\n",
        "from typing import Literal, Optional, List\n",
        "from langchain_core.messages import AnyMessage\n",
        "from typing import Annotated\n",
        "from langgraph.graph.message import add_messages\n",
        "from pydantic import BaseModel, field_validator, ValidationError\n",
        "\n",
        "class MessagesState(TypedDict):\n",
        "    messages: list[AnyMessage]\n",
        "\n",
        "class MessagesState(TypedDict):\n",
        "    messages: Annotated[list[AnyMessage], add_messages]"
      ],
      "metadata": {
        "id": "sSFJ4nxGtsQm"
      },
      "execution_count": 85,
      "outputs": []
    },
    {
      "cell_type": "code",
      "source": [
        "!rm -rf .env\n",
        "!touch .env\n",
        "!cat /content/drive/MyDrive/openai_api_key.txt >> .env"
      ],
      "metadata": {
        "id": "ItGTuLIVu1MJ"
      },
      "execution_count": 86,
      "outputs": []
    },
    {
      "cell_type": "code",
      "source": [
        "load_dotenv()\n",
        "openai_api_key = os.getenv(\"OPENAI_API_KEY\")"
      ],
      "metadata": {
        "id": "4ZZg_4bnya9V"
      },
      "execution_count": 87,
      "outputs": []
    },
    {
      "cell_type": "code",
      "source": [
        "# Web Search Tool using DuckDuckGo\n",
        "search_tool = Tool(\n",
        "    name=\"DuckDuckGo Search\",\n",
        "    func=DuckDuckGoSearchRun().run,\n",
        "    description=\"Use this tool to perform web searches using DuckDuckGo.\"\n",
        ")\n",
        "\n",
        "llm = OpenAI(temperature=0)\n",
        "tools = [search_tool]\n",
        "agent = initialize_agent(tools, llm, agent=AgentType.ZERO_SHOT_REACT_DESCRIPTION, verbose=True)\n",
        "# System message\n",
        "sys_msg = SystemMessage(content=\"You are a helpful assistant tasked with web search based on user query.\")"
      ],
      "metadata": {
        "id": "mkPDVsa63iay"
      },
      "execution_count": 88,
      "outputs": []
    },
    {
      "cell_type": "code",
      "source": [
        "from langchain.schema import AIMessage # Import AIMessage for creating message objects\n",
        "\n",
        "\n",
        "def simple_assistant(state: MessagesState):\n",
        "    # Get the agent's response\n",
        "    response = agent.invoke([sys_msg] + state[\"messages\"])\n",
        "\n",
        "    # Assuming 'response' is a dictionary and contains the key 'output'\n",
        "    # Adjust if your agent returns a different format\n",
        "    content = response['output']\n",
        "\n",
        "    # Create an AIMessage object with the response content\n",
        "    ai_message = AIMessage(content=content)\n",
        "\n",
        "    # Return the message in the expected format\n",
        "    return {\"messages\": [ai_message]}"
      ],
      "metadata": {
        "id": "H5FeBALseFB7"
      },
      "execution_count": 89,
      "outputs": []
    },
    {
      "cell_type": "code",
      "source": [
        "# Define Assistant Node\n",
        "def assistant(messages):\n",
        "    \"\"\"Processes user input and determines next steps\"\"\"\n",
        "\n",
        "    # Check if the message list is empty (except for the welcome message)\n",
        "    if len(messages) <= 1:\n",
        "        return {\"messages\": messages, \"next\": \"product_type_finder\"}\n",
        "\n",
        "    user_input = messages[-1].content.strip().lower()\n",
        "\n",
        "    if user_input in [\"bye\", \"quit\"]:\n",
        "        return {\"messages\": [HumanMessage(content=\"Goodbye! Exiting.\")], \"end\": True}\n",
        "\n",
        "    return {\"messages\": [HumanMessage(content=f\"Processing request for '{user_input}'...\")], \"next\": \"product_type_finder\"}"
      ],
      "metadata": {
        "id": "Vs--2SM1Z7y5"
      },
      "execution_count": 90,
      "outputs": []
    },
    {
      "cell_type": "code",
      "source": [
        "# Graph\n",
        "builder = StateGraph(MessagesState)\n",
        "\n",
        "# Define nodes: these do the work\n",
        "builder.add_node(\"assistant\", simple_assistant)\n",
        "builder.add_node(\"tools\", ToolNode(tools=[search_tool]))\n",
        "\n",
        "# Define edges: these determine how the control flow moves\n",
        "builder.add_edge(START, \"assistant\")\n",
        "builder.add_conditional_edges(\n",
        "    \"assistant\",\n",
        "    # If the latest message (result) from assistant is a tool call -> tools_condition routes to tools\n",
        "    # If the latest message (result) from assistant is a not a tool call -> tools_condition routes to END\n",
        "    tools_condition,\n",
        ")\n",
        "builder.add_edge(\"tools\", \"assistant\")\n",
        "react_graph = builder.compile()\n",
        "\n",
        "# Show\n",
        "display(Image(react_graph.get_graph(xray=True).draw_mermaid_png()))"
      ],
      "metadata": {
        "colab": {
          "base_uri": "https://localhost:8080/",
          "height": 266
        },
        "id": "QH28nbr0oo36",
        "outputId": "358cc9db-18d6-4b6e-9d2d-d4f7a48b3b24"
      },
      "execution_count": 91,
      "outputs": [
        {
          "output_type": "display_data",
          "data": {
            "image/png": "[encoded data removed]",
            "text/plain": [
              "<IPython.core.display.Image object>"
            ]
          },
          "metadata": {}
        }
      ]
    },
    {
      "cell_type": "code",
      "source": [
        "user_input = input(\"Enter your product: \")\n",
        "product = user_input.strip()\n",
        "# Create an initial message with user input, and wrap it in a list\n",
        "initial_messages = [HumanMessage(content=f\"What kind of product is {product}?\")]\n",
        "# Pass the initial messages to the state graph's `messages` key within the input dictionary\n",
        "messages = react_graph.invoke({\"messages\": initial_messages})\n",
        "for m in messages['messages']:\n",
        "    m.pretty_print()"
      ],
      "metadata": {
        "colab": {
          "base_uri": "https://localhost:8080/"
        },
        "id": "kMAAzSRidfvC",
        "outputId": "e26a77e4-e18d-416b-de18-e23b2d584621"
      },
      "execution_count": 92,
      "outputs": [
        {
          "output_type": "stream",
          "name": "stdout",
          "text": [
            "Enter your product: CMCN618B\n",
            "\n",
            "\n",
            "\u001b[1m> Entering new AgentExecutor chain...\u001b[0m\n",
            "\u001b[32;1m\u001b[1;3m I should use DuckDuckGo Search to perform a web search.\n",
            "Action: DuckDuckGo Search\n",
            "Action Input: 'CMCN618B'\u001b[0m\n",
            "Observation: \u001b[36;1m\u001b[1;3mSee more Craftsman CMCN618B V20 18-Gauge Brad Nailer To... Share. Picture 1 of 3. 11. Gallery. Picture 1 of 3. Have one to sell? Sell now. Craftsman 18 GA Brad Nailer V20 Cordless Model CMCN618B - TOOL ONLY (NEW) fl3-agfam (1025) 100% positive; Seller's other items Seller's other items; Contact seller; US $65.00. 1 bid. See more Craftsman CMCN618B V20 18-Gauge Brad Nailer To... Share. Picture 1 of 7. Gallery. Picture 1 of 7. Have one to sell? Sell now. CRAFTSMAN V20 Brad Nailer, 18GA, Cordless, Bare Tool Only (CMCN618B) usuzhenyidia (17) 100% positive; Seller's other items Seller's other items; Contact seller; US $120.65. The Craftsman Cordless Brad Nailer 20V, 18ga (Tool Only) Cmcn618b is a powerful and reliable cordless nailer designed for a variety of nailing tasks. With a 20V power source, this tool offers efficient performance and precision. It features a sequential firing mode and tool-free depth control for easy adjustments. The nailer is suitable for use with 18 gauge nails ranging from 5/8 inches to 2 ... Model: CRAFTSMAN V20 Brad Nailer, 18GA, Cordless, Bare Tool Only (CMCN618B) Deal History Deal History includes data from multiple reputable stores, such as Best Buy, Target, and Walmart. The lowest price among stores for a given day is selected as the \"Sale Price\". Model: CMCN618B; ↑ less. Buy Now. Details. Comments. Published 1/6/2025 Verified 1/7/2025 . Popularity: 1/5 . All Deals Air Nailers Amazon Craftsman. Popularity: 1/5. Related Offers. Lowe's · 3 mos ago . Bosch 18V 4Ah Lithium Battery Starter Kit . Free w/ Bosch 18V Nailer purchase ...\u001b[0m\n",
            "Thought:\u001b[32;1m\u001b[1;3m I should look for the Craftsman CMCN618B V20 18-Gauge Brad Nailer.\n",
            "Action: DuckDuckGo Search\n",
            "Action Input: 'Craftsman CMCN618B V20 18-Gauge Brad Nailer'\u001b[0m\n",
            "Observation: \u001b[36;1m\u001b[1;3mSee more Craftsman CMCN618B V20 18-Gauge Brad Nailer To... Share. Picture 1 of 3. 11. Gallery. Picture 1 of 3. Have one to sell? Sell now. Craftsman 18 GA Brad Nailer V20 Cordless Model CMCN618B - TOOL ONLY (NEW) fl3-agfam (1025) 100% positive; Seller's other items Seller's other items; Contact seller; US $65.00. 1 bid. See more Craftsman CMCN618B V20 18-Gauge Brad Nailer To... Share. Picture 1 of 7. Gallery. Picture 1 of 7. Have one to sell? Sell now. CRAFTSMAN V20 Brad Nailer, 18GA, Cordless, Bare Tool Only (CMCN618B) usuzhenyidia (17) 100% positive; Seller's other items Seller's other items; Contact seller; US $120.65. See more Craftsman CMCN618B V20 18-Gauge Brad Nailer To... Share. Picture 1 of 1. 1 watched in the last 24 hours. 1. Gallery. Picture 1 of 1. Have one to sell? Sell now. CRAFTSMAN V20 2-in 18-Gauge Cordless Straight Brad Nailer (Battery and Charger N. PAOTexas (632) 97.8% positive; Seller's other items Seller's other items; Set Alert for Craftsman CMCN618 Cordless 20 Volt 18-Gauge Brad Nailer Tool Only - $89.00. Your Email. Desired Price $ ... Be the first to review \"CRAFTSMAN V20 Brad Nailer\" Cancel reply. ... Craftsman Cordless Brad Nailer 20V,18ga (Tool Only CMCN618B . $134.00 ... CRAFTSMAN V20 Brad Nailer, 18GA, Cordless, Bare Tool Only (CMCN618B) - 38% $ 44.99 Original price was: $44.99. $ 27.93 Current price is: $27.93. Add to wishlist Added to wishlist Removed from wishlist 0. Shop Now on Amazon.com. As an Amazon Associate I earn from qualifying purchases.\u001b[0m\n",
            "Thought:\u001b[32;1m\u001b[1;3m I should compare prices and read reviews before making a purchase.\n",
            "Action: DuckDuckGo Search\n",
            "Action Input: 'Craftsman CMCN618B V20 18-Gauge Brad Nailer reviews'\u001b[0m\n",
            "Observation: \u001b[36;1m\u001b[1;3mSet Alert for Craftsman CMCN618 Cordless 20 Volt 18-Gauge Brad Nailer Tool Only - $89.00. Your Email. ... Additional information. Specification: CRAFTSMAN V20 Brad Nailer. Manufacturer: CRAFTSMAN. Part Number: CMCN618B. Item Weight (pounds) 6.89. Product Dimensions: 13.87 x 4.9 x 11.99 inches. ... Be the first to review \"CRAFTSMAN V20 Brad ... Product ratings and reviews. Learn more. 5.0. 3 product ratings. 5. 3 users rated this 5 out of 5 stars. 3. 4. 0 users rated this 4 out of 5 stars. 0. 3. 0 users rated this 3 out of 5 stars ... See More Details about \"Craftsman CMCN618B V20 18-Gauge Brad Nailer Tool Only\" Return to top. More to explore : Craftsman Brad Nailers Guns, Brad Nailer ... The V20 18GA Cordless Brad Nailer Kit is a versatile and convenient tool that is designed to make your woodworking projects easier and more efficient. This cordless nailer eliminates the need for bulky compressors, hoses, or expensive gas cartridges, making it ideal for both professional contractors and DIY enthusiasts. With a powerful motor that delivers […] Product ratings and reviews. Learn more. 5.0. 3 product ratings. 5. 3 users rated this 5 out of 5 stars. 3. 4. 0 users rated this 4 out of 5 stars. 0. 3. 0 users rated this 3 out of 5 stars. 0. 2. ... See More Details about \"Craftsman CMCN618B V20 18-Gauge Brad Nailer Tool Only\" Return to top. More to explore : Craftsman Brad Nailers Guns, 18 V ... UPGRADE PICK: Craftsman CMCN618C1 V20 Cordless Brad Nailer Kit BEST PNEUMATIC: Ridgid R213BNF 18-Gauge 2⅛-Inch Brad Nailer BEST CORDED: DeWalt DWHT75021 Electric 5-in-1 Multi-Tacker\u001b[0m\n",
            "Thought:\u001b[32;1m\u001b[1;3m I should compare different models and consider my budget before making a final decision.\n",
            "Action: DuckDuckGo Search\n",
            "Action Input: 'Best cordless brad nailers'\u001b[0m\n",
            "Observation: \u001b[36;1m\u001b[1;3mIf you're looking for an alternative to your cumbersome pneumatic nailer and compressor, look no further. A contractor favorite, the DeWalt 18-gauge cordless brad nailer, features a brushless motor and is compatible with other DeWalt tools with 20-volt batteries. This straight shooter drives nails from 5/8 inches to 2 1/8 inches. The Best Cordless Nail Guns . Best Overall: Metabo HPT 18V MultiVolt Cordless Brad Nailer ; Best Value: Ryobi P320 Cordless Nail Gun ; Best Budget: Craftsman CMCN616C1 Cordless Nail Gun; Most ... BEST PNEUMATIC: Ridgid R213BNF 18-Gauge 2⅛-Inch Brad Nailer; BEST CORDED: DeWalt DWHT75021 Electric 5-in-1 Multi-Tacker; BEST CORDLESS: DeWalt DCN680D1 20V MAX Cordless Brad Nailer Kit; Photo ... In this best cordless brad nailer review, the Makita one is placed low because it shares some big cons with its pros. However, it is a good enough machine for you if you prefer to do lightweight work. With a magazine capacity of 110 nails, it can drive a range of 18 gauge brad nails from 5/8″ to 2″. The best cordless finish nailers are powerful and easy to use. We researched the top finish nailers for various purposes. ... The Brad nailer can shoot 18-gauge nails from 5/8 inch to 2 1/8 inches long and hold up to 110 nails in its magazine. While pricey, this powerful nailer is a great set with DEWALT's reliable performance and durability.\u001b[0m\n",
            "Thought:\u001b[32;1m\u001b[1;3m I now know that the Craftsman CMCN618B V20 18-Gauge Brad Nailer is a highly rated and affordable option for my needs.\n",
            "Final Answer: The Craftsman CMCN618B V20 18-Gauge Brad Nailer is a highly rated and affordable option for woodworking projects.\u001b[0m\n",
            "\n",
            "\u001b[1m> Finished chain.\u001b[0m\n",
            "================================\u001b[1m Human Message \u001b[0m=================================\n",
            "\n",
            "What kind of product is CMCN618B?\n",
            "==================================\u001b[1m Ai Message \u001b[0m==================================\n",
            "\n",
            "The Craftsman CMCN618B V20 18-Gauge Brad Nailer is a highly rated and affordable option for woodworking projects.\n"
          ]
        }
      ]
    },
    {
      "cell_type": "code",
      "source": [
        "memory = MemorySaver()\n",
        "react_graph_memory = builder.compile(checkpointer=memory)"
      ],
      "metadata": {
        "id": "wrDrQf-B2v35"
      },
      "execution_count": 93,
      "outputs": []
    },
    {
      "cell_type": "code",
      "source": [
        "# Specify a thread\n",
        "config = {\"configurable\": {\"thread_id\": \"1\"}}\n",
        "\n",
        "# Specify an input\n",
        "user_input = input(\"Enter your product: \")\n",
        "product = user_input.strip()\n",
        "messages = [HumanMessage(content=f\"What kind of product is {product}?\")]\n",
        "# Run\n",
        "messages = react_graph_memory.invoke({\"messages\": messages},config)\n",
        "for m in messages['messages']:\n",
        "    m.pretty_print()"
      ],
      "metadata": {
        "colab": {
          "base_uri": "https://localhost:8080/"
        },
        "id": "Q3Vehtk3R2rG",
        "outputId": "b4c20621-d00a-4093-8670-3c2a2ca2a090"
      },
      "execution_count": 94,
      "outputs": [
        {
          "output_type": "stream",
          "name": "stdout",
          "text": [
            "Enter your product: CMCN618B\n",
            "\n",
            "\n",
            "\u001b[1m> Entering new AgentExecutor chain...\u001b[0m\n",
            "\u001b[32;1m\u001b[1;3m I should use DuckDuckGo Search to perform a web search.\n",
            "Action: DuckDuckGo Search\n",
            "Action Input: 'CMCN618B'\u001b[0m\n",
            "Observation: \u001b[36;1m\u001b[1;3mSee more Craftsman CMCN618B V20 18-Gauge Brad Nailer To... Share. Picture 1 of 3. 11. Gallery. Picture 1 of 3. Have one to sell? Sell now. Craftsman 18 GA Brad Nailer V20 Cordless Model CMCN618B - TOOL ONLY (NEW) fl3-agfam (1025) 100% positive; Seller's other items Seller's other items; Contact seller; US $65.00. 1 bid. See more Craftsman CMCN618B V20 18-Gauge Brad Nailer To... Share. Picture 1 of 7. Gallery. Picture 1 of 7. Have one to sell? Sell now. CRAFTSMAN V20 Brad Nailer, 18GA, Cordless, Bare Tool Only (CMCN618B) usuzhenyidia (17) 100% positive; Seller's other items Seller's other items; Contact seller; US $120.65. The Craftsman Cordless Brad Nailer 20V, 18ga (Tool Only) Cmcn618b is a powerful and reliable cordless nailer designed for a variety of nailing tasks. With a 20V power source, this tool offers efficient performance and precision. It features a sequential firing mode and tool-free depth control for easy adjustments. The nailer is suitable for use with 18 gauge nails ranging from 5/8 inches to 2 ... Model: CRAFTSMAN V20 Brad Nailer, 18GA, Cordless, Bare Tool Only (CMCN618B) Deal History Deal History includes data from multiple reputable stores, such as Best Buy, Target, and Walmart. The lowest price among stores for a given day is selected as the \"Sale Price\". CMCN618B. Item Weight (pounds) 6.89. Product Dimensions: 13.87 x 4.9 x 11.99 inches. Country of Origin: China. Item model number: CMCN618B. Color: Black, Red. Power Source: Battery Powered. Voltage (Volts) 20. Item Package Quantity: 1. Included Components (1) CMCN618 18 Ga. Cordless Brad Nailer Battery and Charger Sold Separately.\u001b[0m\n",
            "Thought:\u001b[32;1m\u001b[1;3m This is the product information for CMCN618B.\n",
            "Action: DuckDuckGo Search\n",
            "Action Input: 'CMCN618B product information'\u001b[0m\n",
            "Observation: \u001b[36;1m\u001b[1;3mSet Alert for Product: CRAFTSMAN V20 Brad Nailer, 18GA, Cordless, Bare Tool Only (CMCN618B) - Your Email: Desired price: & Free shipping . BUY NOW . $89.00 out of stock. BUY NOW . $134.00 $205.99 out of stock. BUY NOW . Check all prices. Already Sold: 31%. Powerful motor: drives up to 420 nails per charge** No need for compressors: fully ... Model: CRAFTSMAN V20 Brad Nailer, 18GA, Cordless, Bare Tool Only (CMCN618B) Deal History Deal History includes data from multiple reputable stores, such as Best Buy, Target, and Walmart. See more Craftsman CMCN618B V20 18-Gauge Brad Nailer To... Share. Picture 1 of 7. Gallery. Picture 1 of 7. Have one to sell? Sell now. ... Shop Top Sellers and Highly Rated Products in Nail & Staple Guns. Best Sellers. Milwaukee M18 FUEL™ 18 Gauge Brad Nailer (2746-20) Milwaukee M12 2448-20 Staple Gun - Red; A brand-new, unused, unopened, undamaged item in its original packaging (where packaging is applicable). Packaging should be the same as what is found in a retail store, unless the item is handmade or was packaged by the manufacturer in non-retail packaging, such as an unprinted box or plastic bag. Model: CMCN618B; ↑ less. Buy Now. Details. Comments. Published 1/6/2025 Verified 1/7/2025 . Popularity: 1/5 . All Deals Air Nailers Amazon Craftsman. Popularity: 1/5 ... Enable alerts for this product. Price Analysis Discount Last Deal Price Current Price ; Amazon : $99 (exp 2 wks ago) $99: Buy Now: Never Miss Another Deal.\u001b[0m\n",
            "Thought:\u001b[32;1m\u001b[1;3m This is the price and availability information for CMCN618B.\n",
            "Action: DuckDuckGo Search\n",
            "Action Input: 'CMCN618B price and availability'\u001b[0m\n",
            "Observation: \u001b[36;1m\u001b[1;3mModel: CRAFTSMAN V20 Brad Nailer, 18GA, Cordless, Bare Tool Only (CMCN618B) Deal History Deal History includes data from multiple reputable stores, such as Best Buy, Target, and Walmart. CMCN618B. Item Weight (pounds) 6.89. Product Dimensions: 13.87 x 4.9 x 11.99 inches. Country of Origin: China. Item model number: CMCN618B. Color: Black, Red. ... Price History for Craftsman CMCN618 Cordless 20 Volt 18-Gauge Brad Nailer Tool Only. Statistics. Current Price: $89.00: February 7, 2025: Highest Price: $89.00: The Craftsman Cordless Brad Nailer 20V, 18ga (Tool Only) Cmcn618b is a powerful and reliable cordless nailer designed for a variety of nailing tasks. With a 20V power source, this tool offers efficient performance and precision. It features a sequential firing mode and tool-free depth control for easy adjustments. The nailer is suitable for use with 18 gauge nails ranging from 5/8 inches to 2 ... CRAFTSMAN V20 Brad Nailer, 18GA, Cordless, Bare Tool Only (CMCN618B), B0BZQXGXDN, 885911747127, 088591174712, CMCN618B, US, Tools & Home Improvement at camelcamelcamel: Amazon price tracker, Amazon price history charts, ... Product prices and availability are accurate as of the date/time indicated and are subject to change. Any price and ... See more Craftsman CMCN618B V20 18-Gauge Brad Nailer To... Share. Picture 1 of 7. Gallery. Picture 1 of 7. Have one to sell? Sell now. CRAFTSMAN V20 Brad Nailer, 18GA, Cordless, Bare Tool Only (CMCN618B) ... Additional service available. 2-year protection plan from Allstate - $7.99. Shipping:\u001b[0m\n",
            "Thought:\u001b[32;1m\u001b[1;3m This is the warranty and shipping information for CMCN618B.\n",
            "Action: DuckDuckGo Search\n",
            "Action Input: 'CMCN618B warranty and shipping'\u001b[0m\n",
            "Observation: \u001b[36;1m\u001b[1;3mDelivery time is estimated using our proprietary method which is based on the buyer's proximity to the item location, the shipping service selected, the seller's shipping history, and other factors. Delivery times may vary, especially during peak periods. Set Alert for Product: CRAFTSMAN V20 Brad Nailer, 18GA, Cordless, Bare Tool Only (CMCN618B) - Your Email: ... & Free shipping . BUY NOW . $89.00 out of stock. BUY NOW . $134.00 $205.99 out of stock. BUY NOW . Check all prices. Already Sold: 31%. Powerful motor: drives up to 420 nails per charge** No need for compressors: fully cordless design ... The V20 18 Ga. The tool-free depth setting allows you to adjust the nail depth quickly. Convenience: belt hook for easy access. Optimal balance: lightweight with optimal center of gravity providing balance and comfort during use. The Craftsman Cordless Brad Nailer 20V, 18ga (Tool Only) Cmcn618b is a powerful and reliable cordless nailer designed for a variety of nailing tasks. With a 20V power source, this tool offers efficient performance and precision. It features a sequential firing mode and tool-free depth control for easy adjustments. The nailer is suitable for use with 18 gauge nails ranging from 5/8 inches to 2 ... WARRANTY & CONDITION Most of these items are either new in the box or some are online returns. Some of the items may have been previously opened, used, or have been damaged. ... CRAFTSMAN V20 Brad Nailer, 18GA, Cordless, Bare (CMCN618B) (SR) MSRP: $136.99 - Used - tested- works,Tool Only. prev Item # 452 next Current Price $ 5.00 ()\u001b[0m\n",
            "Thought:\u001b[32;1m\u001b[1;3m This is the condition and price information for CMCN618B.\n",
            "Thought: I now know the final answer.\n",
            "Final Answer: The Craftsman Cordless Brad Nailer 20V, 18ga (Tool Only) Cmcn618b is a powerful and reliable cordless nailer designed for a variety of nailing tasks. It features a sequential firing mode and tool-free depth control for easy adjustments. The nailer is suitable for use with 18 gauge nails ranging from 5/8 inches to 2 inches in length. It has a powerful motor that can drive up to 420 nails per charge and does not require a compressor. The current price for this tool is $89.00 and it comes with a 2-year warranty.\u001b[0m\n",
            "\n",
            "\u001b[1m> Finished chain.\u001b[0m\n",
            "================================\u001b[1m Human Message \u001b[0m=================================\n",
            "\n",
            "What kind of product is CMCN618B?\n",
            "==================================\u001b[1m Ai Message \u001b[0m==================================\n",
            "\n",
            "The Craftsman Cordless Brad Nailer 20V, 18ga (Tool Only) Cmcn618b is a powerful and reliable cordless nailer designed for a variety of nailing tasks. It features a sequential firing mode and tool-free depth control for easy adjustments. The nailer is suitable for use with 18 gauge nails ranging from 5/8 inches to 2 inches in length. It has a powerful motor that can drive up to 420 nails per charge and does not require a compressor. The current price for this tool is $89.00 and it comes with a 2-year warranty.\n"
          ]
        }
      ]
    },
    {
      "cell_type": "code",
      "source": [
        "# Specify a thread\n",
        "config = {\"configurable\": {\"thread_id\": \"1\"}}\n",
        "\n",
        "while True:\n",
        "    # Get user input\n",
        "    user_input = input(\"Enter your product (or type 'bye'/'quit' to exit): \").strip()\n",
        "\n",
        "    # Check exit condition\n",
        "    if user_input.lower() in [\"bye\", \"quit\"]:\n",
        "        print(\"Goodbye! Exiting the program.\")\n",
        "        break\n",
        "\n",
        "    # Process input\n",
        "    product = user_input.strip()\n",
        "    messages = [HumanMessage(content=f\"What kind of product is {product}?\")]\n",
        "\n",
        "    # Run the model\n",
        "    messages = react_graph_memory.invoke({\"messages\": messages}, config)\n",
        "\n",
        "    # Print responses\n",
        "    for m in messages['messages']:\n",
        "        m.pretty_print()\n",
        "    product = ''"
      ],
      "metadata": {
        "colab": {
          "base_uri": "https://localhost:8080/"
        },
        "id": "TpOXUe9uR9ZY",
        "outputId": "463f82a8-31f3-4ca1-e7a6-7008febf8364"
      },
      "execution_count": 95,
      "outputs": [
        {
          "output_type": "stream",
          "name": "stdout",
          "text": [
            "Enter your product (or type 'bye'/'quit' to exit): CMCN618B\n",
            "\n",
            "\n",
            "\u001b[1m> Entering new AgentExecutor chain...\u001b[0m\n",
            "\u001b[32;1m\u001b[1;3m I should use DuckDuckGo Search to find information about the Craftsman Cordless Brad Nailer 20V, 18ga (Tool Only) Cmcn618b\n",
            "Action: DuckDuckGo Search\n",
            "Action Input: 'Craftsman Cordless Brad Nailer 20V, 18ga (Tool Only) Cmcn618b'\u001b[0m\n",
            "Observation: \u001b[36;1m\u001b[1;3mMilwaukee M12 12V 23 Gauge Cordless Pin Nailer Tool (2540-20) DEWALT 20V MAX XR 18-Gauge Brad Nailer (Tool Only) - DCN680B Arrow Heavy Duty Professional Hammer and Tacker Tool - HT50P See more Craftsman CMCN618B V20 18-Gauge Brad Nailer To... Share. Picture 1 of 7. Gallery. ... DEWALT 20V MAX XR 18-Gauge Brad Nailer (Tool Only) - DCN680B; Arrow Heavy Duty Professional Hammer and Tacker Tool - HT50P ... Craftsman Cordless Nailer; Craftsman 16 Gauge Finish Nailer Cordless; Craftsman Electric Nailer; Dewalt 18 Gauge Brad Nailer ... Set Alert for Craftsman CMCN618 Cordless 20 Volt 18-Gauge Brad Nailer Tool Only - $89.00. Your Email. Desired Price $ ... Craftsman Cordless Brad Nailer 20V,18ga (Tool Only CMCN618B ... CRAFTSMAN V20 Brad Nailer, 18GA, Cordless, Bare Tool Only (CMCN618B) BUY NOW . Price History-CRAFTSMAN V20 Brad Nailer Videos. YouTube. The Craftsman Cordless Brad Nailer 20V, 18ga (Tool Only) Cmcn618b is a powerful and reliable cordless nailer designed for a variety of nailing tasks. With a 20V power source, this tool offers efficient performance and precision. It features a sequential firing mode and tool-free depth control for easy adjustments. The nailer is suitable for use with 18 gauge nails ranging from 5/8 inches to 2 ... CRAFTSMAN V20 Brad Nailer, 18GA, Cordless, Bare Tool Only (CMCN618B), B0BZQXGXDN, 885911747127, 088591174712, CMCN618B, US, ... 18GA, Cordless, Bare Tool Only (CMCN618B) Sign up for price drop alerts by clicking a \"Create Price Watch\" button below. $136.99 Amazon Price as of Feb 15, 2024 06:31 PM.\u001b[0m\n",
            "Thought:\u001b[32;1m\u001b[1;3m I should check the price and availability of the Craftsman Cordless Brad Nailer 20V, 18ga (Tool Only) Cmcn618b\n",
            "Action: DuckDuckGo Search\n",
            "Action Input: 'Craftsman Cordless Brad Nailer 20V, 18ga (Tool Only) Cmcn618b price and availability'\u001b[0m\n",
            "Observation: \u001b[36;1m\u001b[1;3mSee more Craftsman CMCN618B V20 18-Gauge Brad Nailer To... Share. Picture 1 of 7. Gallery. ... DEWALT 20V MAX XR 18-Gauge Brad Nailer (Tool Only) - DCN680B; Arrow Heavy Duty Professional Hammer and Tacker Tool - HT50P ... Craftsman Cordless Nailer; Craftsman 16 Gauge Finish Nailer Cordless; Craftsman Electric Nailer; Dewalt 18 Gauge Brad Nailer ... Milwaukee M12 12V 23 Gauge Cordless Pin Nailer Tool (2540-20) DEWALT 20V MAX XR 18-Gauge Brad Nailer (Tool Only) - DCN680B Arrow Heavy Duty Professional Hammer and Tacker Tool - HT50P The Craftsman Cordless Brad Nailer 20V, 18ga (Tool Only) Cmcn618b is a powerful and reliable cordless nailer designed for a variety of nailing tasks. With a 20V power source, this tool offers efficient performance and precision. It features a sequential firing mode and tool-free depth control for easy adjustments. The nailer is suitable for use with 18 gauge nails ranging from 5/8 inches to 2 ... Set Alert for Craftsman CMCN618 Cordless 20 Volt 18-Gauge Brad Nailer Tool Only - $89.00. Your Email. Desired Price $ ... Craftsman Cordless Brad Nailer 20V,18ga (Tool Only CMCN618B ... CRAFTSMAN V20 Brad Nailer, 18GA, Cordless, Bare Tool Only (CMCN618B) BUY NOW . Price History-CRAFTSMAN V20 Brad Nailer Videos. YouTube. Pick up one of the applicable Bosch nailers (from a brad nailer, two types of finish nailers, or a roofing stapler), and you'll snag a battery starter kit for free — a $149 value. Shop Now at Lowe's\u001b[0m\n",
            "Thought:\u001b[32;1m\u001b[1;3m I should compare the Craftsman Cordless Brad Nailer 20V, 18ga (Tool Only) Cmcn618b to other similar nailers\n",
            "Action: DuckDuckGo Search\n",
            "Action Input: 'Craftsman Cordless Brad Nailer 20V, 18ga (Tool Only) Cmcn618b vs other cordless nailers'\u001b[0m\n",
            "Observation: \u001b[36;1m\u001b[1;3mLike other 18-gauge brad nailers, Senco accommodates 5/8-inch to 2-1/8-inch nails with a 110 nail capacity and a dry-fire lockout. ... This Makita 18-gauge cordless brad nailer is great for DIY projects, especially if you own compatible battery-powered Makita tools. ... This is the only gun that requires a tool to take apart the nose to clear ... Product Specs . Type: Pneumatic Tool-free clearing: Yes Modes: Single and bump What We Like. The Bostitch Smart Point brad nailer's compact nose fits into tight spots; Offers tool-free jam ... Join us as we unbox and test the CRAFTSMAN V20 2-in 18-Gauge Cordless Straight Brad Nailer from Lowe's Home Improvement @lowes @craftsmanThanks for watching!... The V20 18GA Cordless Brad Nailer Kit is a versatile and convenient tool that is designed to make your woodworking projects easier and more efficient. This cordless nailer eliminates the need for bulky compressors, hoses, or expensive gas cartridges, making it ideal for both professional contractors and DIY enthusiasts. With a powerful motor that delivers […] The V20 18 Ga. Cordless Brad Nailer is a game-changer for anyone in need of a powerful and convenient nail gun. This cordless nailer eliminates the need for compressors, hoses, and gas cartridges, making it incredibly convenient and easy to use. With a powerful motor that can drive up to 420 nails per charge, this […]\u001b[0m\n",
            "Thought:\u001b[32;1m\u001b[1;3m I should watch a video review of the Craftsman Cordless Brad Nailer 20V, 18ga (Tool Only) Cmcn618b\n",
            "Action: DuckDuckGo Search\n",
            "Action Input: 'Craftsman Cordless Brad Nailer 20V, 18ga (Tool Only) Cmcn618b video review'\u001b[0m\n",
            "Observation: \u001b[36;1m\u001b[1;3mSet Alert for Craftsman CMCN618 Cordless 20 Volt 18-Gauge Brad Nailer Tool Only - $89.00. Your Email. Desired Price $ ... Be the first to review \"CRAFTSMAN V20 Brad Nailer\" Cancel reply. ... Craftsman Cordless Brad Nailer 20V,18ga (Tool Only CMCN618B CRAFTSMAN V20 Brad Nailer, 18GA, Cordless, Bare Tool Only (CMCN618B) Jiangfeng Mo (0) Seller's other items Seller's other items; ... Write a review. 4.6. 5 product ratings. 5. 4 users rated this 5 out of 5 stars. 4. 4. ... See More Details about \"Craftsman CMCN618B 20V Cordless Brad Nailer\" Return to top. More to explore : Brad Antique Nails, See more Craftsman CMCN618B V20 18-Gauge Brad Nailer To... Share. Picture 1 of 7. Gallery. ... DEWALT 20V MAX XR 18-Gauge Brad Nailer (Tool Only) - DCN680B; Arrow Heavy Duty Professional Hammer and Tacker Tool - HT50P ... Craftsman Cordless Nailer; Craftsman 16 Gauge Finish Nailer Cordless; Craftsman Electric Nailer; Dewalt 18 Gauge Brad Nailer ... Milwaukee M12 12V 23 Gauge Cordless Pin Nailer Tool (2540-20) DEWALT 20V MAX XR 18-Gauge Brad Nailer (Tool Only) - DCN680B Arrow Heavy Duty Professional Hammer and Tacker Tool - HT50P CRAFTSMAN V20 Brad Nailer, 18GA, Cordless, Bare Tool Only (CMCN618B), B0BZQXGXDN, 885911747127, 088591174712, CMCN618B, US, ... 18GA, Cordless, Bare Tool Only (CMCN618B) Sign up for price drop alerts by clicking a \"Create Price Watch\" button below. $136.99 Amazon Price as of Feb 15, 2024 06:31 PM.\u001b[0m\n",
            "Thought:\u001b[32;1m\u001b[1;3m I now know that the Craftsman Cordless Brad Nailer 20V, 18ga (Tool Only) Cmcn618b is a powerful and reliable cordless nailer suitable for a variety of nailing tasks. It has a sequential firing mode and tool-free depth control for easy adjustments, and can drive up to 420 nails per charge. It is currently priced at $89.00 and comes with a 2-year warranty.\n",
            "Final Answer: The Craftsman Cordless Brad Nailer 20V, 18ga (Tool Only) Cmcn618b is a powerful and reliable cordless nailer suitable for a variety of nailing tasks. It has a sequential firing mode and tool-free depth control for easy adjustments, and can drive up to 420 nails per charge. It is currently priced at $89.00 and comes with a 2-year warranty.\u001b[0m\n",
            "\n",
            "\u001b[1m> Finished chain.\u001b[0m\n",
            "================================\u001b[1m Human Message \u001b[0m=================================\n",
            "\n",
            "What kind of product is CMCN618B?\n",
            "==================================\u001b[1m Ai Message \u001b[0m==================================\n",
            "\n",
            "The Craftsman Cordless Brad Nailer 20V, 18ga (Tool Only) Cmcn618b is a powerful and reliable cordless nailer designed for a variety of nailing tasks. It features a sequential firing mode and tool-free depth control for easy adjustments. The nailer is suitable for use with 18 gauge nails ranging from 5/8 inches to 2 inches in length. It has a powerful motor that can drive up to 420 nails per charge and does not require a compressor. The current price for this tool is $89.00 and it comes with a 2-year warranty.\n",
            "================================\u001b[1m Human Message \u001b[0m=================================\n",
            "\n",
            "What kind of product is CMCN618B?\n",
            "==================================\u001b[1m Ai Message \u001b[0m==================================\n",
            "\n",
            "The Craftsman Cordless Brad Nailer 20V, 18ga (Tool Only) Cmcn618b is a powerful and reliable cordless nailer suitable for a variety of nailing tasks. It has a sequential firing mode and tool-free depth control for easy adjustments, and can drive up to 420 nails per charge. It is currently priced at $89.00 and comes with a 2-year warranty.\n",
            "Enter your product (or type 'bye'/'quit' to exit): quit\n",
            "Goodbye! Exiting the program.\n"
          ]
        }
      ]
    },
    {
      "cell_type": "code",
      "source": [],
      "metadata": {
        "id": "TKNicHkgR9V8"
      },
      "execution_count": 95,
      "outputs": []
    },
    {
      "cell_type": "code",
      "source": [],
      "metadata": {
        "id": "dLOx5VC1Wa20"
      },
      "execution_count": 95,
      "outputs": []
    },
    {
      "cell_type": "code",
      "source": [
        "# Define ToolNode functions\n",
        "def product_type_finder_agent(messages):\n",
        "    \"\"\"Finds product type for the given input\"\"\"\n",
        "    product = messages[-1].content.strip()\n",
        "\n",
        "    if not product or product.lower() in [\"bye\", \"quit\"]:\n",
        "        return {\"messages\": [HumanMessage(content=\"Exiting the program.\")], \"end\": True}\n",
        "\n",
        "    return {\"messages\": [HumanMessage(content=f\"The product '{product}' is a type of [Product Category].\")]}\n",
        "\n",
        "def critical_component_finder_agent(messages):\n",
        "    \"\"\"Finds critical components for the product type\"\"\"\n",
        "    product_type = messages[-1].content.strip()\n",
        "\n",
        "    return {\"messages\": [HumanMessage(content=f\"Critical components for {product_type} include: [Component List].\")]}\n",
        "\n",
        "# Create ToolNodes\n",
        "product_type_tool = ToolNode([Tool(name=\"product_type_finder\", func=product_type_finder_agent, description=\"Finds product type\")])\n",
        "critical_component_tool = ToolNode([Tool(name=\"critical_component_finder\", func=critical_component_finder_agent, description=\"Finds critical components of a type of product\")])\n",
        "\n",
        "# Define Assistant Node\n",
        "def assistant(messages):\n",
        "    \"\"\"Processes user input and determines next steps\"\"\"\n",
        "    user_input = messages[-1].content.strip().lower()\n",
        "\n",
        "    if user_input in [\"bye\", \"quit\"]:\n",
        "        return {\"messages\": [HumanMessage(content=\"Goodbye! Exiting.\")], \"end\": True}\n",
        "\n",
        "    return {\"messages\": [HumanMessage(content=f\"Processing request for '{user_input}'...\")], \"next\": \"product_type_finder\"}\n",
        "\n",
        "# Graph Definition\n",
        "builder = StateGraph(MessagesState)\n",
        "\n",
        "# Add nodes\n",
        "builder.add_node(\"assistant\", assistant)\n",
        "builder.add_node(\"product_type_finder\", product_type_tool)\n",
        "builder.add_node(\"critical_component_finder\", critical_component_tool)\n",
        "\n",
        "# Define edges for control flow\n",
        "builder.add_edge(START, \"assistant\")  # Start with Assistant\n",
        "builder.add_conditional_edges(\n",
        "    \"assistant\",\n",
        "    lambda state: \"product_type_finder\" if state.messages[-1].content.strip().lower() not in [\"bye\", \"quit\"] else END\n",
        ")\n",
        "#builder.add_edge(\"assistant\", \"product_type_finder\")  # Assistant calls Product Type Finder\n",
        "builder.add_edge(\"product_type_finder\", \"critical_component_finder\")  # Product Type Finder calls Critical Component Finder\n",
        "builder.add_edge(\"critical_component_finder\", \"assistant\")  # Control returns to Assistant\n",
        "\n",
        "# Compile the graph\n",
        "react_graph = builder.compile()\n",
        "\n",
        "# Display graph visualization\n",
        "display(Image(react_graph.get_graph(xray=True).draw_mermaid_png()))\n"
      ],
      "metadata": {
        "colab": {
          "base_uri": "https://localhost:8080/",
          "height": 365
        },
        "id": "s4kDCxL5Wazt",
        "outputId": "903eba6b-fa19-41ec-f078-663db835e838"
      },
      "execution_count": 96,
      "outputs": [
        {
          "output_type": "display_data",
          "data": {
            "image/png": "[encoded data removed]",
            "text/plain": [
              "<IPython.core.display.Image object>"
            ]
          },
          "metadata": {}
        }
      ]
    },
    {
      "cell_type": "code",
      "source": [
        "# Specify a thread\n",
        "config = {\"configurable\": {\"thread_id\": \"1\"}}\n",
        "\n",
        "while True:\n",
        "    # Get user input\n",
        "    user_input = input(\"Enter your product (or type 'bye'/'quit'/'exit'/'q' to exit): \").strip()\n",
        "\n",
        "    # Check exit condition before running the agent\n",
        "    if user_input.lower() in [\"bye\", \"quit\", \"exit\", \"q\"]:\n",
        "        print(\"Goodbye! Exiting the program.\")\n",
        "        break\n",
        "\n",
        "    # Create a message list with user input\n",
        "    messages = [HumanMessage(content=f\"What kind of product is {user_input}?\")]\n",
        "\n",
        "    # Run the ReAct agent\n",
        "    response = react_graph_memory.invoke({\"messages\": messages}, config)\n",
        "\n",
        "    # Print responses\n",
        "    if \"messages\" in response:\n",
        "        for m in response[\"messages\"]:\n",
        "            print(m.content.strip())  # Print clean response\n",
        "    else:\n",
        "        print(\"Error: No response from ReAct agent.\")\n"
      ],
      "metadata": {
        "colab": {
          "base_uri": "https://localhost:8080/"
        },
        "id": "V3uxa_21R9S3",
        "outputId": "66735a0f-fba9-42d7-9778-176d5e3c7e68"
      },
      "execution_count": null,
      "outputs": [
        {
          "output_type": "stream",
          "name": "stdout",
          "text": [
            "Enter your product (or type 'bye'/'quit'/'exit'/'q' to exit): CMCN618B\n",
            "\n",
            "\n",
            "\u001b[1m> Entering new AgentExecutor chain...\u001b[0m\n",
            "\u001b[32;1m\u001b[1;3m I should use DuckDuckGo Search to find information about the product CMCN618B\n",
            "Action: DuckDuckGo Search\n",
            "Action Input: CMCN618B\u001b[0m\n",
            "Observation: \u001b[36;1m\u001b[1;3mThe V20 18 Ga. Cordless Brad Nailer is a game-changer for anyone in need of a powerful and convenient nail gun. This cordless nailer eliminates the need for compressors, hoses, and gas cartridges, making it incredibly convenient and easy to use. With a powerful motor that can drive up to 420 nails per charge, this […] The V20 18 Ga. The tool-free depth setting allows you to adjust the nail depth quickly. Convenience: belt hook for easy access. Optimal balance: lightweight with optimal center of gravity providing balance and comfort during use. Model: CRAFTSMAN V20 Brad Nailer, 18GA, Cordless, Bare Tool Only (CMCN618B) Deal History Deal History includes data from multiple reputable stores, such as Best Buy, Target, and Walmart. The lowest price among stores for a given day is selected as the \"Sale Price\". See more Craftsman CMCN618B V20 18-Gauge Brad Nailer To... Share. Picture 1 of 3. 11. Gallery. Picture 1 of 3. Have one to sell? Sell now. Craftsman 18 GA Brad Nailer V20 Cordless Model CMCN618B - TOOL ONLY (NEW) fl3-agfam (1025) 100% positive; Seller's other items Seller's other items; Contact seller; US $65.00. 1 bid. See more Craftsman CMCN618B 20V Cordless Brad Nailer; Share | Add to Watchlist. SAVE UP TO 10% See all eligible items and terms. Shipping and returns View estimated shipping costs, delivery windows, and return policies at a glance. 2 of 2 Got it.\u001b[0m\n",
            "Thought:\u001b[32;1m\u001b[1;3m I should refine my search to find more specific information about the product\n",
            "Action: DuckDuckGo Search\n",
            "Action Input: Craftsman Cordless Brad Nailer 20V, 18ga (Tool Only) Cmcn618b\u001b[0m\n",
            "Observation: \u001b[36;1m\u001b[1;3mMilwaukee M12 12V 23 Gauge Cordless Pin Nailer Tool (2540-20) DEWALT 20V MAX XR 18-Gauge Brad Nailer (Tool Only) - DCN680B Arrow Heavy Duty Professional Hammer and Tacker Tool - HT50P The Craftsman Cordless Brad Nailer 20V, 18ga (Tool Only) Cmcn618b is a powerful and reliable cordless nailer designed for a variety of nailing tasks. With a 20V power source, this tool offers efficient performance and precision. It features a sequential firing mode and tool-free depth control for easy adjustments. The nailer is suitable for use with 18 gauge nails ranging from 5/8 inches to 2 ... See more Craftsman CMCN618B V20 18-Gauge Brad Nailer To... Share. Picture 1 of 7. Gallery. ... DEWALT 20V MAX XR 18-Gauge Brad Nailer (Tool Only) - DCN680B; Arrow Heavy Duty Professional Hammer and Tacker Tool - HT50P ... Craftsman Cordless Nailer; Craftsman 16 Gauge Finish Nailer Cordless; Craftsman Electric Nailer; Dewalt 18 Gauge Brad Nailer ... Set Alert for Craftsman CMCN618 Cordless 20 Volt 18-Gauge Brad Nailer Tool Only - $89.00. Your Email. Desired Price $ ... Craftsman Cordless Brad Nailer 20V,18ga (Tool Only CMCN618B ... CRAFTSMAN V20 Brad Nailer, 18GA, Cordless, Bare Tool Only (CMCN618B) BUY NOW . Price History-CRAFTSMAN V20 Brad Nailer Videos. YouTube. Craftsman V20 Brad Nailer. The CRAFTSMAN V20 Brad Nailer, 18GA, Cordless, Bare Tool Only (CMCN618B) is a versatile and reliable tool designed for both professional carpenters and DIY enthusiasts. This brad nailer offers the convenience of cordless operation, allowing users to work in various environments without being tethered to a power outlet.\u001b[0m\n",
            "Thought:\u001b[32;1m\u001b[1;3m I should compare prices and features of the Craftsman Cordless Brad Nailer 20V, 18ga (Tool Only) Cmcn618b with other similar products\n",
            "Action: DuckDuckGo Search\n",
            "Action Input: Craftsman Cordless Brad Nailer 20V, 18ga (Tool Only) Cmcn618b vs other cordless nailers\u001b[0m\n",
            "Observation: \u001b[36;1m\u001b[1;3mSee more Craftsman CMCN618B V20 18-Gauge Brad Nailer To... Share. Picture 1 of 7. Gallery. Picture 1 of 7. Have one to sell? ... Craftsman Air Nailers & Staplers, Craftsman Cordless Drills, Craftsman 19.2V Cordless Drills, ... DEWALT 20V MAX XR 18-Gauge Brad Nailer (Tool Only) - DCN680B; Arrow Heavy Duty Professional Hammer and Tacker Tool ... 10 Best Cordless Nailers 2025 in the United States ... CRAFTSMAN V20 Brad Nailer, 18GA, Cordless, Bare Tool Only (CMCN618B) 9.5. score. View on Amazon #5. 9.3. score. ... WEN 20V Max Cordless 18-Gauge Brad Nailer with 2.0Ah Battery and Charger (20512) 8.2. score. View on Amazon. Recommended lists. Set Alert for Craftsman CMCN618 Cordless 20 Volt 18-Gauge Brad Nailer Tool Only - $89.00. Your Email. Desired Price $ ... Craftsman Cordless Brad Nailer 20V,18ga (Tool Only CMCN618B ... CRAFTSMAN V20 Brad Nailer, 18GA, Cordless, Bare Tool Only (CMCN618B) BUY NOW . Price History-CRAFTSMAN V20 Brad Nailer Videos. YouTube. 3. Senco Fusion Cordless 18-Gauge Brad Nailer. The Senco Fusion Cordless 18-Gauge Brad Nailer is a top-of-the-line tool for crafts. It features a brushless motor for increased power and runtime, as well as a compact design for easy handling. The nailer also features a tool-free depth adjustment and a no-mar nose to protect your work. Milwaukee M12 12V 23 Gauge Cordless Pin Nailer Tool (2540-20) DEWALT 20V MAX XR 18-Gauge Brad Nailer (Tool Only) - DCN680B Arrow Heavy Duty Professional Hammer and Tacker Tool - HT50P\u001b[0m\n",
            "Thought:\u001b[32;1m\u001b[1;3m I should read reviews and ratings of the Craftsman Cordless Brad Nailer 20V, 18ga (Tool Only) Cmcn618b to get a better understanding of its performance and reliability\n",
            "Action: DuckDuckGo Search\n",
            "Action Input: Craftsman Cordless Brad Nailer 20V, 18ga (Tool Only) Cmcn618b reviews\u001b[0m\n",
            "Observation: \u001b[36;1m\u001b[1;3mMilwaukee M12 12V 23 Gauge Cordless Pin Nailer Tool (2540-20) DEWALT 20V MAX XR 18-Gauge Brad Nailer (Tool Only) - DCN680B Arrow Heavy Duty Professional Hammer and Tacker Tool - HT50P The CRAFTSMAN V20 Brad Nailer is a reliable bare tool. The BIELMEIER 20V Nail Gun includes staples and a charger. ... The WEN 20V Max Cordless 18-Gauge Brad Nailer stands out due to its cordless nature, ... 18GA, Cordless, Bare Tool Only (CMCN618B) is a versatile and powerful tool designed for both professional and DIY enthusiasts. Product ratings and reviews. Learn more. 5.0. 3 product ratings. 5. 3 users rated this 5 out of 5 stars. 3. 4. ... See More Details about \"Craftsman CMCN618B V20 18-Gauge Brad Nailer Tool Only\" Return to top. More to explore : Craftsman Brad Nailers Guns, ... Dewalt 18 Gauge Brad Nailer 20v; Craftsman 16 Gauge Finish Nailer Cordless; Cordless ... See more Craftsman CMCN618B V20 18-Gauge Brad Nailer To... Share. Picture 1 of 7. Gallery. Picture 1 of 7. Have one to sell? Sell now. CRAFTSMAN V20 Brad Nailer, 18GA, Cordless, Bare Tool Only (CMCN618B) usuzhenyidia (17) 100% positive; Seller's other items Seller ... DEWALT 20V MAX XR 18-Gauge Brad Nailer (Tool Only) - DCN680B; Arrow Heavy ... Set Alert for Craftsman CMCN618 Cordless 20 Volt 18-Gauge Brad Nailer Tool Only - $89.00. Your Email. Desired Price $ ... Be the first to review \"CRAFTSMAN V20 Brad Nailer\" Cancel reply. ... Craftsman Cordless Brad Nailer 20V,18ga (Tool Only CMCN618B\u001b[0m\n",
            "Thought:\u001b[32;1m\u001b[1;3m I now know that the Craftsman Cordless Brad Nailer 20V, 18ga (Tool Only) Cmcn618b is a powerful and reliable cordless nailer suitable for a variety of nailing tasks. It has a sequential firing mode and tool-free depth control for easy adjustments, and can drive up to 420 nails per charge. It is currently priced at $89.00 and comes with a 2-year warranty.\n",
            "Final Answer: The Craftsman Cordless Brad Nailer 20V, 18ga (Tool Only) Cmcn618b is a versatile and powerful tool that is suitable for both professional and DIY use. It offers the convenience of cordless operation and has a powerful motor that can drive up to 420 nails per charge. With a sequential firing mode and tool-free depth control, it is easy to use and adjust for different nailing tasks. The current price for this tool is $89.00 and it comes with a 2-year warranty.\u001b[0m\n",
            "\n",
            "\u001b[1m> Finished chain.\u001b[0m\n",
            "What kind of product is CMCN618B?\n",
            "The Craftsman Cordless Brad Nailer 20V, 18ga (Tool Only) Cmcn618b is a powerful and reliable cordless nailer designed for a variety of nailing tasks. It features a sequential firing mode and tool-free depth control for easy adjustments. The nailer is suitable for use with 18 gauge nails ranging from 5/8 inches to 2 inches in length. It has a powerful motor that can drive up to 420 nails per charge and does not require a compressor. The current price for this tool is $89.00 and it comes with a 2-year warranty.\n",
            "What kind of product is CMCN618B?\n",
            "The Craftsman Cordless Brad Nailer 20V, 18ga (Tool Only) Cmcn618b is a powerful and reliable cordless nailer suitable for a variety of nailing tasks. It has a sequential firing mode and tool-free depth control for easy adjustments, and can drive up to 420 nails per charge. It is currently priced at $89.00 and comes with a 2-year warranty.\n",
            "What kind of product is CMCN618B?\n",
            "The Craftsman Cordless Brad Nailer 20V, 18ga (Tool Only) Cmcn618b is a versatile and powerful tool that is suitable for both professional and DIY use. It offers the convenience of cordless operation and has a powerful motor that can drive up to 420 nails per charge. With a sequential firing mode and tool-free depth control, it is easy to use and adjust for different nailing tasks. The current price for this tool is $89.00 and it comes with a 2-year warranty.\n"
          ]
        }
      ]
    },
    {
      "cell_type": "code",
      "source": [],
      "metadata": {
        "id": "ePcTX8iBb3EU"
      },
      "execution_count": null,
      "outputs": []
    },
    {
      "cell_type": "code",
      "source": [],
      "metadata": {
        "id": "yOu-KWj9R9Pd"
      },
      "execution_count": null,
      "outputs": []
    }
  ]
}