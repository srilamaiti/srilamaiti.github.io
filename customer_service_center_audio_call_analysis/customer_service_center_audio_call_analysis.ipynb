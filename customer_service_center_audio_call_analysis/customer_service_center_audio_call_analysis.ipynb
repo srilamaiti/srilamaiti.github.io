{
  "nbformat": 4,
  "nbformat_minor": 0,
  "metadata": {
    "colab": {
      "provenance": [],
      "gpuType": "T4"
    },
    "kernelspec": {
      "name": "python3",
      "display_name": "Python 3"
    },
    "language_info": {
      "name": "python"
    },
    "accelerator": "GPU"
  },
  "cells": [
    {
      "cell_type": "markdown",
      "source": [
        "# Install Libraries"
      ],
      "metadata": {
        "id": "s7-Uv06A453R"
      }
    },
    {
      "cell_type": "code",
      "execution_count": 1,
      "metadata": {
        "colab": {
          "base_uri": "https://localhost:8080/"
        },
        "id": "7lnOrvW-oE-R",
        "outputId": "b9fde7e5-d8ef-458f-ff4e-c7058b9e7ee6"
      },
      "outputs": [
        {
          "output_type": "stream",
          "name": "stdout",
          "text": [
            "Requirement already satisfied: assemblyai in /usr/local/lib/python3.11/dist-packages (0.37.0)\n",
            "Requirement already satisfied: httpx>=0.19.0 in /usr/local/lib/python3.11/dist-packages (from assemblyai) (0.28.1)\n",
            "Requirement already satisfied: pydantic>=1.10.17 in /usr/local/lib/python3.11/dist-packages (from assemblyai) (2.10.6)\n",
            "Requirement already satisfied: typing-extensions>=3.7 in /usr/local/lib/python3.11/dist-packages (from assemblyai) (4.12.2)\n",
            "Requirement already satisfied: websockets>=11.0 in /usr/local/lib/python3.11/dist-packages (from assemblyai) (14.2)\n",
            "Requirement already satisfied: anyio in /usr/local/lib/python3.11/dist-packages (from httpx>=0.19.0->assemblyai) (3.7.1)\n",
            "Requirement already satisfied: certifi in /usr/local/lib/python3.11/dist-packages (from httpx>=0.19.0->assemblyai) (2025.1.31)\n",
            "Requirement already satisfied: httpcore==1.* in /usr/local/lib/python3.11/dist-packages (from httpx>=0.19.0->assemblyai) (1.0.7)\n",
            "Requirement already satisfied: idna in /usr/local/lib/python3.11/dist-packages (from httpx>=0.19.0->assemblyai) (3.10)\n",
            "Requirement already satisfied: h11<0.15,>=0.13 in /usr/local/lib/python3.11/dist-packages (from httpcore==1.*->httpx>=0.19.0->assemblyai) (0.14.0)\n",
            "Requirement already satisfied: annotated-types>=0.6.0 in /usr/local/lib/python3.11/dist-packages (from pydantic>=1.10.17->assemblyai) (0.7.0)\n",
            "Requirement already satisfied: pydantic-core==2.27.2 in /usr/local/lib/python3.11/dist-packages (from pydantic>=1.10.17->assemblyai) (2.27.2)\n",
            "Requirement already satisfied: sniffio>=1.1 in /usr/local/lib/python3.11/dist-packages (from anyio->httpx>=0.19.0->assemblyai) (1.3.1)\n",
            "Requirement already satisfied: python-dotenv in /usr/local/lib/python3.11/dist-packages (1.0.1)\n",
            "Found existing installation: openai 1.65.2\n",
            "Uninstalling openai-1.65.2:\n",
            "  Successfully uninstalled openai-1.65.2\n",
            "Collecting openai\n",
            "  Using cached openai-1.65.2-py3-none-any.whl.metadata (27 kB)\n",
            "Requirement already satisfied: anyio<5,>=3.5.0 in /usr/local/lib/python3.11/dist-packages (from openai) (3.7.1)\n",
            "Requirement already satisfied: distro<2,>=1.7.0 in /usr/local/lib/python3.11/dist-packages (from openai) (1.9.0)\n",
            "Requirement already satisfied: httpx<1,>=0.23.0 in /usr/local/lib/python3.11/dist-packages (from openai) (0.28.1)\n",
            "Requirement already satisfied: jiter<1,>=0.4.0 in /usr/local/lib/python3.11/dist-packages (from openai) (0.8.2)\n",
            "Requirement already satisfied: pydantic<3,>=1.9.0 in /usr/local/lib/python3.11/dist-packages (from openai) (2.10.6)\n",
            "Requirement already satisfied: sniffio in /usr/local/lib/python3.11/dist-packages (from openai) (1.3.1)\n",
            "Requirement already satisfied: tqdm>4 in /usr/local/lib/python3.11/dist-packages (from openai) (4.67.1)\n",
            "Requirement already satisfied: typing-extensions<5,>=4.11 in /usr/local/lib/python3.11/dist-packages (from openai) (4.12.2)\n",
            "Requirement already satisfied: idna>=2.8 in /usr/local/lib/python3.11/dist-packages (from anyio<5,>=3.5.0->openai) (3.10)\n",
            "Requirement already satisfied: certifi in /usr/local/lib/python3.11/dist-packages (from httpx<1,>=0.23.0->openai) (2025.1.31)\n",
            "Requirement already satisfied: httpcore==1.* in /usr/local/lib/python3.11/dist-packages (from httpx<1,>=0.23.0->openai) (1.0.7)\n",
            "Requirement already satisfied: h11<0.15,>=0.13 in /usr/local/lib/python3.11/dist-packages (from httpcore==1.*->httpx<1,>=0.23.0->openai) (0.14.0)\n",
            "Requirement already satisfied: annotated-types>=0.6.0 in /usr/local/lib/python3.11/dist-packages (from pydantic<3,>=1.9.0->openai) (0.7.0)\n",
            "Requirement already satisfied: pydantic-core==2.27.2 in /usr/local/lib/python3.11/dist-packages (from pydantic<3,>=1.9.0->openai) (2.27.2)\n",
            "Using cached openai-1.65.2-py3-none-any.whl (473 kB)\n",
            "Installing collected packages: openai\n",
            "Successfully installed openai-1.65.2\n",
            "Requirement already satisfied: speechrecognition in /usr/local/lib/python3.11/dist-packages (3.14.1)\n",
            "Requirement already satisfied: typing-extensions in /usr/local/lib/python3.11/dist-packages (from speechrecognition) (4.12.2)\n",
            "Requirement already satisfied: pyttsx3 in /usr/local/lib/python3.11/dist-packages (2.98)\n",
            "Requirement already satisfied: pydub in /usr/local/lib/python3.11/dist-packages (0.25.1)\n",
            "Requirement already satisfied: ffprobe in /usr/local/lib/python3.11/dist-packages (0.5)\n",
            "Requirement already satisfied: ffmpeg in /usr/local/lib/python3.11/dist-packages (1.4)\n"
          ]
        }
      ],
      "source": [
        "!pip install assemblyai\n",
        "!pip install python-dotenv\n",
        "#!pip install openai==0.28\n",
        "#!pip install --upgrade openai\n",
        "!pip uninstall openai -y\n",
        "!pip install openai\n",
        "!pip install speechrecognition\n",
        "!pip install pyttsx3\n",
        "!pip install pydub\n",
        "!pip install ffprobe\n",
        "!pip install ffmpeg"
      ]
    },
    {
      "cell_type": "markdown",
      "source": [
        "# Importing Libarries"
      ],
      "metadata": {
        "id": "jwwtGa6J483l"
      }
    },
    {
      "cell_type": "code",
      "source": [
        "import assemblyai as aai\n",
        "import linecache\n",
        "import os\n",
        "import glob\n",
        "import textwrap\n",
        "import speech_recognition as sr\n",
        "from transformers import pipeline\n",
        "import pyttsx3\n",
        "import openai\n",
        "from openai import OpenAI\n",
        "from dotenv import load_dotenv\n",
        "from pydub import AudioSegment\n",
        "from pydub.utils import make_chunks\n",
        "from google.colab import drive\n",
        "drive.mount(\"/content/drive\", force_remount=True)\n",
        "os.environ['GDRIVE_CONFIG_DIR'] = \"/content/drive/MyDrive\""
      ],
      "metadata": {
        "colab": {
          "base_uri": "https://localhost:8080/"
        },
        "id": "yEN12iRapVQE",
        "outputId": "65e14b04-3f30-4dde-a64d-27f358d51fbf"
      },
      "execution_count": 2,
      "outputs": [
        {
          "output_type": "stream",
          "name": "stdout",
          "text": [
            "Mounted at /content/drive\n"
          ]
        }
      ]
    },
    {
      "cell_type": "markdown",
      "source": [
        "# API Key Setup"
      ],
      "metadata": {
        "id": "EqJuFHzB5AgX"
      }
    },
    {
      "cell_type": "code",
      "source": [
        "!rm -rf .env\n",
        "!touch .env\n",
        "!cat /content/drive/MyDrive/openai_api_key.txt >> .env\n",
        "!cat /content/drive/MyDrive/assemblyai_api_key.txt >> .env"
      ],
      "metadata": {
        "id": "eTTbe8rGpVTN"
      },
      "execution_count": 3,
      "outputs": []
    },
    {
      "cell_type": "code",
      "source": [
        "load_dotenv()\n",
        "OPENAI_API_KEY = os.getenv(\"OPENAI_API_KEY\")\n",
        "ASSEMBLYAI_API_KEY = os.getenv(\"ASSEMBLYAI_API_KEY\")"
      ],
      "metadata": {
        "id": "1PuUEQOlqrEd"
      },
      "execution_count": 4,
      "outputs": []
    },
    {
      "cell_type": "markdown",
      "source": [
        "# Audio to Text"
      ],
      "metadata": {
        "id": "JkNaiShj5E2O"
      }
    },
    {
      "cell_type": "code",
      "source": [
        "m4a_file = '/content/Positive-call.m4a'\n",
        "wav_filename = 'Positive-call.wav'\n",
        "\n",
        "sound = AudioSegment.from_file(m4a_file, format='m4a')\n",
        "file_handle = sound.export(wav_filename, format='wav')"
      ],
      "metadata": {
        "id": "PadY73P44tr4"
      },
      "execution_count": 5,
      "outputs": []
    },
    {
      "cell_type": "code",
      "source": [
        "# Load the audio file\n",
        "audio = AudioSegment.from_file('/content/Positive-call.wav', format='wav')\n",
        "\n",
        "# Define chunk length in milliseconds (e.g., 30 seconds)\n",
        "chunk_length_ms = 30000\n",
        "\n",
        "# initialize the recognizer\n",
        "r = sr.Recognizer()\n",
        "\n",
        "# Split the audio into chunks\n",
        "chunks = make_chunks(audio, chunk_length_ms)\n",
        "text_list = []\n",
        "# Process each chunk individually using SpeechRecognition\n",
        "for i, chunk in enumerate(chunks):\n",
        "    chunk_name = f\"chunk{i}.wav\"\n",
        "    chunk.export(chunk_name, format=\"wav\")\n",
        "\n",
        "    # Now use SpeechRecognition on each chunk_name\n",
        "    with sr.AudioFile(chunk_name) as source:\n",
        "        # listen for the data (load audio to memory)\n",
        "        audio_data = r.record(source)\n",
        "        # recognize (convert from speech to text)\n",
        "        try:  # Use try-except to handle potential errors\n",
        "            text = r.recognize_google(audio_data)\n",
        "            print(text)\n",
        "            text = text.replace('\\n', ' ')\n",
        "            text_list.append(text)\n",
        "        except sr.UnknownValueError:\n",
        "            print(\"Google Speech Recognition could not understand audio\")\n",
        "        except sr.RequestError as e:\n",
        "            print(f\"Could not request results from Google Speech Recognition service; {e}\")"
      ],
      "metadata": {
        "colab": {
          "base_uri": "https://localhost:8080/"
        },
        "id": "HljO7TFk5QGc",
        "outputId": "c9a0fa15-d33a-4106-da48-d8a7ab8c4329"
      },
      "execution_count": 22,
      "outputs": [
        {
          "output_type": "stream",
          "name": "stdout",
          "text": [
            "thank you for calling Chris Sean this is Candice how may I help you I still have not received my order you said I would receive it on the 20th so the 22nd still nothing I don't know what's going on but if it's not too much of a bother to you I would really really know love to get what I paid for you know what I mean if it's beyond the promise delivery date would definitely need to look into that may have your number and your full name so I can check for you that's exactly what I'm thinking\n",
            "what's taking so long anyway the order number is 498-4977 and my name is Tabitha ratchet thank you Tabitha I will now go ahead and pull up your order and hopefully I can give you an immediate answer one moment please go ahead thank you so it's two days\n",
            "normally when a person is late like this we send an email and for me of the delay so let me visit the FedEx website and track it thank you Candice that would be appreciated I am I actually haven't tried checking on the FedEx website since you already gave me the delivery date through emails so yes please go ahead okay according to the FedEx note here your parcel was delivered on the 20th at 10 a.m.\n",
            "you said it was left on the front porch have you tried checking your front porch what what what what what what what what what you're kidding right okay okay first of all my apartment has no front porch second the only way to deliver Parcels in a residence is by leaving them to the concierge 3rd I was at home the whole day on the 20th and no one literally no one knocked on my door or called my number to notify me of a parcel so whatever this FedEx guy is saying\n",
            "to see if they have kept a package for you I just checked this morning and the answer is no otherwise I wouldn't be calling you yeah your neighbors also wouldn't happen to receive it right since you said all Parcels go to the concierge correct and if the note says he left it on my doorstep again that's impossible no one can actually so there's clearly a mistake\n",
            "yes that makes sense so here's what we're going to do a Tabitha it is likely that FedEx delivered the order to the wrong address so I will file a PDR claim on your behalf it means parcel delivered not received what this does is to let FedEx investigate to find your missing parcel and after the investigation we will either refund replace or find your missing parcel okay yeah and for\n",
            "I need to initiate the claim I will send you an email right now please reply to that email confirming that you have not received your parcel and your response to that email it's very important because that will serve as the documentation proving to FedEx that you are requesting for us to file a claim on your behalf okay whatever happens I'm going to get my refund though right you're right of course and the sooner they find your parcel the better by the way in the event that the parcel isn't recovered\n",
            "would you prefer a replacement or refund okay I will make note of that and after the investigation which usually takes 5 to 7 business days I will check with the supplier for its availability availability and then they can process the replacement for you okay it's disappointing that this is to happen but okay whatever at least I don't have to file a dispute to be honest I was I was already thinking\n",
            "I'm calling my bank this morning and filing a dispute yes this is definitely not the experience that we want you to have but we will try our best to make this as easy as possible for you to considering the situation I will also keep this case in progress so whatever questions you might have during the investigation you just reply to the same email thread and I will be there to answer your questions so let me get this straight seven business days for the\n",
            "investigation and if it isn't found you're going to check with the team if it's available and if it's available another 7 days to deliver the replacement yes Tabitha that's correct but of course if they find the parcel during the investigation then you don't need to wait that long that's already the maximum time frame yeah well I hope they do but I honestly don't have much hope for it but okay replacement is fine I guess okay yeah I cannot guarantee that 100%\n",
            "they would find your missing parcel but there have been cases in the past when they did find the missing parcel and I will of course update you throughout the process okay so I guess that's my best option what do you need me to do just reply to your email saying that I didn't receive a parcel that's correct I have just sent you the email all right I will reply in 5 minutes I'm going to have my lunch break what's your name again Candice thank you so much that's all I need for now\n",
            "I have to go bye enjoy your lunch Tabitha thank you for calling with Sean bye\n"
          ]
        }
      ]
    },
    {
      "cell_type": "code",
      "source": [
        "def combine_wav_files(file_paths, output_path):\n",
        "    \"\"\"Combines multiple WAV files into one.\n",
        "\n",
        "    Args:\n",
        "        file_paths (list): List of paths to the WAV files to combine.\n",
        "        output_path (str): Path to save the combined WAV file.\n",
        "    \"\"\"\n",
        "    combined_audio = AudioSegment.empty()\n",
        "    for file_path in file_paths:\n",
        "        audio = AudioSegment.from_wav(file_path)\n",
        "        combined_audio += audio\n",
        "    combined_audio.export(output_path, format=\"wav\")"
      ],
      "metadata": {
        "id": "Wfdkneon6IzN"
      },
      "execution_count": 7,
      "outputs": []
    },
    {
      "cell_type": "code",
      "source": [
        "combine_wav_files(glob.glob('/content/chunk*.wav'), '/content/combined_audio.wav')"
      ],
      "metadata": {
        "id": "BVt6NU836K6v"
      },
      "execution_count": 8,
      "outputs": []
    },
    {
      "cell_type": "code",
      "source": [
        "text_excerpt = ' '.join(text_list)\n",
        "text_excerpt"
      ],
      "metadata": {
        "colab": {
          "base_uri": "https://localhost:8080/",
          "height": 122
        },
        "id": "TnHn_x00lzgE",
        "outputId": "cda8fe55-60f6-48ca-9bd9-27110ea0ceff"
      },
      "execution_count": 23,
      "outputs": [
        {
          "output_type": "execute_result",
          "data": {
            "text/plain": [
              "\"thank you for calling Chris Sean this is Candice how may I help you I still have not received my order you said I would receive it on the 20th so the 22nd still nothing I don't know what's going on but if it's not too much of a bother to you I would really really know love to get what I paid for you know what I mean if it's beyond the promise delivery date would definitely need to look into that may have your number and your full name so I can check for you that's exactly what I'm thinking what's taking so long anyway the order number is 498-4977 and my name is Tabitha ratchet thank you Tabitha I will now go ahead and pull up your order and hopefully I can give you an immediate answer one moment please go ahead thank you so it's two days normally when a person is late like this we send an email and for me of the delay so let me visit the FedEx website and track it thank you Candice that would be appreciated I am I actually haven't tried checking on the FedEx website since you already gave me the delivery date through emails so yes please go ahead okay according to the FedEx note here your parcel was delivered on the 20th at 10 a.m. you said it was left on the front porch have you tried checking your front porch what what what what what what what what what you're kidding right okay okay first of all my apartment has no front porch second the only way to deliver Parcels in a residence is by leaving them to the concierge 3rd I was at home the whole day on the 20th and no one literally no one knocked on my door or called my number to notify me of a parcel so whatever this FedEx guy is saying to see if they have kept a package for you I just checked this morning and the answer is no otherwise I wouldn't be calling you yeah your neighbors also wouldn't happen to receive it right since you said all Parcels go to the concierge correct and if the note says he left it on my doorstep again that's impossible no one can actually so there's clearly a mistake yes that makes sense so here's what we're going to do a Tabitha it is likely that FedEx delivered the order to the wrong address so I will file a PDR claim on your behalf it means parcel delivered not received what this does is to let FedEx investigate to find your missing parcel and after the investigation we will either refund replace or find your missing parcel okay yeah and for I need to initiate the claim I will send you an email right now please reply to that email confirming that you have not received your parcel and your response to that email it's very important because that will serve as the documentation proving to FedEx that you are requesting for us to file a claim on your behalf okay whatever happens I'm going to get my refund though right you're right of course and the sooner they find your parcel the better by the way in the event that the parcel isn't recovered would you prefer a replacement or refund okay I will make note of that and after the investigation which usually takes 5 to 7 business days I will check with the supplier for its availability availability and then they can process the replacement for you okay it's disappointing that this is to happen but okay whatever at least I don't have to file a dispute to be honest I was I was already thinking I'm calling my bank this morning and filing a dispute yes this is definitely not the experience that we want you to have but we will try our best to make this as easy as possible for you to considering the situation I will also keep this case in progress so whatever questions you might have during the investigation you just reply to the same email thread and I will be there to answer your questions so let me get this straight seven business days for the investigation and if it isn't found you're going to check with the team if it's available and if it's available another 7 days to deliver the replacement yes Tabitha that's correct but of course if they find the parcel during the investigation then you don't need to wait that long that's already the maximum time frame yeah well I hope they do but I honestly don't have much hope for it but okay replacement is fine I guess okay yeah I cannot guarantee that 100% they would find your missing parcel but there have been cases in the past when they did find the missing parcel and I will of course update you throughout the process okay so I guess that's my best option what do you need me to do just reply to your email saying that I didn't receive a parcel that's correct I have just sent you the email all right I will reply in 5 minutes I'm going to have my lunch break what's your name again Candice thank you so much that's all I need for now I have to go bye enjoy your lunch Tabitha thank you for calling with Sean bye\""
            ],
            "application/vnd.google.colaboratory.intrinsic+json": {
              "type": "string"
            }
          },
          "metadata": {},
          "execution_count": 23
        }
      ]
    },
    {
      "cell_type": "markdown",
      "source": [
        "# Sentiment Analysis"
      ],
      "metadata": {
        "id": "q8oGW9gS6yxp"
      }
    },
    {
      "cell_type": "code",
      "source": [
        "sentiment_messages = [\n",
        "            {\"role\": \"system\", \"content\": \"You are an AI language model trained to analyze and detect the sentiment of a conversation between customer and customer service agent.\"}\n",
        "          ]\n",
        "sentiment_prompt = f\"Analyze the text excerpt {text_excerpt} and determine the sentiment of the conversation in a single word: Positive, Negative or Neutral\"\n",
        "sentiment_messages.append({\"role\": \"user\", \"content\": sentiment_prompt})\n",
        "client = OpenAI(\n",
        "    api_key=os.environ.get(\"OPENAI_API_KEY\"),  # This is the default and can be omitted\n",
        ")\n",
        "\n",
        "sentiment_analysis_chat_completion = client.chat.completions.create(\n",
        "    messages=sentiment_messages,\n",
        "    model=\"gpt-4o\",\n",
        "    temperature=0\n",
        ")\n",
        "print(sentiment_analysis_chat_completion.choices[0].message.content)"
      ],
      "metadata": {
        "colab": {
          "base_uri": "https://localhost:8080/"
        },
        "id": "G3XSAsnUjF8R",
        "outputId": "5dcada8a-ea60-48d1-afd3-7deadfb44570"
      },
      "execution_count": 24,
      "outputs": [
        {
          "output_type": "stream",
          "name": "stdout",
          "text": [
            "Negative\n"
          ]
        }
      ]
    },
    {
      "cell_type": "markdown",
      "source": [
        "# Extract Key Topics"
      ],
      "metadata": {
        "id": "6cbDCMKakB8h"
      }
    },
    {
      "cell_type": "code",
      "source": [
        "key_topic_messages = [\n",
        "            {\"role\": \"system\", \"content\": \"You are an AI language model trained to analyze a conversation between customer and customer service agent. You help finding out the reason of the customer call.\"}\n",
        "          ]\n",
        "\n",
        "key_points_prompt = f\"Analyze the text excerpt {text_excerpt} and determine the reason of the customer call in few words.\"\n",
        "key_topic_messages.append({\"role\": \"user\", \"content\": key_points_prompt})\n",
        "client = OpenAI(\n",
        "    api_key=os.environ.get(\"OPENAI_API_KEY\"),  # This is the default and can be omitted\n",
        ")\n",
        "\n",
        "key_topic_chat_completion = client.chat.completions.create(\n",
        "    messages=key_topic_messages,\n",
        "    model=\"gpt-4o\",\n",
        "    temperature=0\n",
        ")\n",
        "print(key_topic_chat_completion.choices[0].message.content)\n",
        "reason = key_topic_chat_completion.choices[0].message.content"
      ],
      "metadata": {
        "colab": {
          "base_uri": "https://localhost:8080/"
        },
        "id": "COh-l01fkGV4",
        "outputId": "769d36e8-5ad2-4712-9f8c-213347f10e40"
      },
      "execution_count": 27,
      "outputs": [
        {
          "output_type": "stream",
          "name": "stdout",
          "text": [
            "The customer, Tabitha Ratchet, called to report a missing order that was supposed to be delivered by FedEx but was not received.\n"
          ]
        }
      ]
    },
    {
      "cell_type": "markdown",
      "source": [
        "# Action Plan"
      ],
      "metadata": {
        "id": "wp4v0gdzmcqn"
      }
    },
    {
      "cell_type": "code",
      "source": [
        "action_plans_messages = [\n",
        "            {\"role\": \"system\", \"content\": \"You are an AI language model trained to analyze a conversation between customer and customer service agent. You help finding out the action plans to be taken with respect to the customer call reason.\"}\n",
        "          ]\n",
        "\n",
        "action_plans_prompt = f\"Analyze the text excerpt {text_excerpt} and {reason} and determine the action plans with respect to the customer call to resolve.\"\n",
        "action_plans_messages.append({\"role\": \"user\", \"content\": action_plans_prompt})\n",
        "client = OpenAI(\n",
        "    api_key=os.environ.get(\"OPENAI_API_KEY\"),  # This is the default and can be omitted\n",
        ")\n",
        "\n",
        "action_plan_chat_completion = client.chat.completions.create(\n",
        "    messages=action_plans_messages,\n",
        "    model=\"gpt-4o\",\n",
        "    temperature=0\n",
        ")\n",
        "print(action_plan_chat_completion.choices[0].message.content)"
      ],
      "metadata": {
        "colab": {
          "base_uri": "https://localhost:8080/"
        },
        "id": "D3Fs6KIunA96",
        "outputId": "90bd32bd-68de-44a8-8d0b-ae7df7931905"
      },
      "execution_count": 28,
      "outputs": [
        {
          "output_type": "stream",
          "name": "stdout",
          "text": [
            "Based on the conversation between Tabitha Ratchet and Candice, the customer service agent, the following action plans have been determined to resolve the issue of the missing order:\n",
            "\n",
            "1. **Verify Delivery Information**: Candice checked the FedEx tracking information, which indicated that the parcel was delivered on the 20th at 10 a.m. However, Tabitha confirmed that the delivery details were incorrect, as her apartment has no front porch and all parcels should be delivered to the concierge.\n",
            "\n",
            "2. **File a PDR Claim**: Candice will file a Parcel Delivered Not Received (PDR) claim with FedEx on behalf of Tabitha. This claim will initiate an investigation by FedEx to locate the missing parcel.\n",
            "\n",
            "3. **Email Confirmation**: Candice sent an email to Tabitha, requesting her to confirm that she has not received the parcel. Tabitha needs to reply to this email to provide documentation for the PDR claim.\n",
            "\n",
            "4. **Investigation Timeline**: The investigation by FedEx is expected to take 5 to 7 business days. During this time, Candice will keep the case in progress and be available to answer any questions Tabitha may have.\n",
            "\n",
            "5. **Replacement or Refund**: If the parcel is not found during the investigation, Candice will check with the supplier for the availability of a replacement. Tabitha has indicated that she prefers a replacement over a refund. If a replacement is available, it will be processed and delivered within an additional 7 days.\n",
            "\n",
            "6. **Continuous Communication**: Candice assured Tabitha that she will be updated throughout the process. Tabitha can reply to the same email thread for any inquiries during the investigation.\n",
            "\n",
            "7. **Customer Reassurance**: Candice reassured Tabitha that they will try their best to resolve the issue and that she does not need to file a dispute with her bank at this time.\n",
            "\n",
            "By following these action plans, the customer service team aims to resolve the issue of the missing order and ensure customer satisfaction.\n"
          ]
        }
      ]
    }
  ]
}