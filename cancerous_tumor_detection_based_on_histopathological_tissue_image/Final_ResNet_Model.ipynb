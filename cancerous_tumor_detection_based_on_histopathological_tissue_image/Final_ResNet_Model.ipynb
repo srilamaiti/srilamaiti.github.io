{
 "cells": [
  {
   "cell_type": "markdown",
   "metadata": {
    "id": "trV63iFrganB"
   },
   "source": [
    "# ***Cancer Detection***\n",
    "## ***Applied Machine Learning W207 Final Project, Fall 2022***\n",
    "### ***Members***\n",
    "#### ***1. Chenyu Wang***\n",
    "#### ***2. Hector Rincon***\n",
    "#### ***3. Ifrah Javed***\n",
    "#### ***4. Justin To***\n",
    "#### ***5. Srila Maiti***"
   ]
  },
  {
   "cell_type": "markdown",
   "metadata": {
    "id": "uxMJUkw5ZK4-"
   },
   "source": [
    "# Introduction\n",
    "\n",
    "#### 1. This is a notebook showing the running of the final ResNet model presented in Section 4 of the slides.\n",
    "\n",
    "#### 2. A few points to note:\n",
    "- This is a copy of the \"Batch2\" file, containing the notebook that generated the second batch of 8-fold ResNet models.\n",
    "- Three other batches were also generated, see the other notebooks in Justin's folder.\n",
    "- The saved model files (h5 files) are not included in the repo due to their large size (~270Mb per file)\n",
    "- The original notebook was larger and included unused cells inherited from previous notebooks (e.g. code for downloading Kaggle files, EDA cells, etc).  These cells have been cleaned-up and removed for easier reading.\n",
    "- This file was prepared by Justin To, who ran the notebook on a laptop.  Due to limitations from the size of the VRAM of the GPU, quite a few operations were done by explicitly telling TensorFlow to use CPU + System RAM as opposed to GPU + VRAM\n",
    "- Sections A-E contain mostly preprocessing cells.  Skip to Section F for the model building and fitting cells.\n",
    "\n",
    "#### 3. Hardware specification used to run this jupyter notebook:\n",
    "- CPU: Intel 12th Gen I9-12900H\n",
    "- System RAM: 32GB (this is needed as memory requirement of the geneator feeding data into ResNet is ~25.7GB in size)\n",
    "- GPU: Nvidia RTX 3070Ti (Laptop version)\n",
    "- GPU VRAM: 8 GB"
   ]
  },
  {
   "cell_type": "markdown",
   "metadata": {
    "id": "8yHdU2FbUlPj"
   },
   "source": [
    "# ***A. Importing the Libraries***"
   ]
  },
  {
   "cell_type": "code",
   "execution_count": 1,
   "metadata": {
    "colab": {
     "base_uri": "https://localhost:8080/"
    },
    "id": "Hi17ZecZUbQ_",
    "outputId": "291abeca-c18c-4119-dc10-25f425c40823"
   },
   "outputs": [],
   "source": [
    "import pandas as pd\n",
    "import numpy as np\n",
    "import os\n",
    "import random\n",
    "import joblib\n",
    "import glob\n",
    "import random\n",
    "from imutils import rotate as rotate\n",
    "from itertools import product\n",
    "import gc\n",
    "\n",
    "import matplotlib.pyplot as plt\n",
    "import seaborn as sns\n",
    "import plotly.express as px\n",
    "import matplotlib.patches as patches\n",
    "\n",
    "from sklearn.metrics import confusion_matrix\n",
    "from mlxtend.plotting import plot_confusion_matrix\n",
    "from sklearn.utils import shuffle\n",
    "from sklearn.ensemble import GradientBoostingClassifier\n",
    "from sklearn.ensemble import AdaBoostClassifier\n",
    "from sklearn.model_selection import GridSearchCV\n",
    "from sklearn.ensemble import RandomForestClassifier\n",
    "from sklearn.model_selection import train_test_split\n",
    "from sklearn.model_selection import StratifiedKFold # Added by Justin\n",
    "from keras.applications.vgg16 import VGG16 #VGG adopted from Srila's code\n",
    "from sklearn.metrics import roc_auc_score, roc_curve, auc\n",
    "\n",
    "import tensorflow as tf\n",
    "from tensorflow.keras.preprocessing.image import ImageDataGenerator\n",
    "from tensorflow.keras.layers import RandomFlip\n",
    "from tensorflow.keras.layers import RandomZoom\n",
    "from tensorflow.keras.layers import RandomRotation\n",
    "from tensorflow.keras.layers import Conv2D\n",
    "from keras.layers.convolutional import SeparableConv2D\n",
    "from tensorflow.keras.layers import MaxPooling2D\n",
    "from tensorflow.keras.layers import AveragePooling2D\n",
    "from tensorflow.keras.layers import Dense\n",
    "from tensorflow.keras.layers import Flatten\n",
    "from tensorflow.keras.layers import Dropout\n",
    "from tensorflow.keras.models import Sequential\n",
    "from tensorflow.keras.layers import BatchNormalization\n",
    "from keras.layers.core import Activation\n",
    "from tensorflow.keras.optimizers import Adam\n",
    "from tensorflow.keras.preprocessing.image import ImageDataGenerator\n",
    "from tensorflow.keras.preprocessing.image import array_to_img\n",
    "from tensorflow.keras.preprocessing.image import img_to_array\n",
    "from tensorflow.keras.preprocessing.image import load_img\n",
    "import cv2 as cv\n",
    "import skimage.io as skio\n",
    "\n",
    "# # Required to read the data from Kaggle\n",
    "# from google.colab import drive\n",
    "# drive.mount('/content/gdrive')\n",
    "# os.environ['KAGGLE_CONFIG_DIR'] = \"/content/gdrive/MyDrive/Kaggle\"\n",
    "\n",
    "import warnings\n",
    "warnings.simplefilter(\"ignore\", category=DeprecationWarning)"
   ]
  },
  {
   "cell_type": "code",
   "execution_count": 2,
   "metadata": {
    "colab": {
     "base_uri": "https://localhost:8080/",
     "height": 35
    },
    "id": "PCaDl92PYpLj",
    "outputId": "9b0dbb64-376d-4e24-a606-31532e6fd4f7"
   },
   "outputs": [
    {
     "data": {
      "text/plain": [
       "'2.10.0'"
      ]
     },
     "execution_count": 2,
     "metadata": {},
     "output_type": "execute_result"
    }
   ],
   "source": [
    "tf.__version__"
   ]
  },
  {
   "cell_type": "markdown",
   "metadata": {
    "id": "4_M8U_LHRy9Q"
   },
   "source": [
    "# ***B. Support Functionalities***"
   ]
  },
  {
   "cell_type": "markdown",
   "metadata": {
    "id": "bap3nzRATnbP"
   },
   "source": [
    "### ***1. Defining Parameters***"
   ]
  },
  {
   "cell_type": "code",
   "execution_count": 3,
   "metadata": {
    "id": "e8YWnGlPTrFm"
   },
   "outputs": [],
   "source": [
    "CONTRAST_FACTOR = 3\n",
    "DELTA = 0.3\n",
    "\n",
    "train_path = 'train_original/'\n",
    "test_path = 'test/'\n",
    "\n",
    "current_working_dir = os.getcwd()\n",
    "\n",
    "train_label_file = 'train_labels.csv'\n",
    "test_label_file = 'sample_submission.csv'\n",
    "\n",
    "image_file_extension = '.tif'\n",
    "\n",
    "train_files_path = os.path.join(current_working_dir, train_path)\n",
    "test_files_path = os.path.join(current_working_dir, test_path)\n",
    "\n",
    "# declare constants for reproduciblity\n",
    "RANDOM_STATE = 20220922\n",
    "\n",
    "# Finding split positions\n",
    "split = (0.30, 0.10, 0.10)\n",
    "\n",
    "process_chunk_size = 200\n",
    "\n",
    "tf.random.set_seed(1234)\n",
    "np.random.seed(1234)"
   ]
  },
  {
   "cell_type": "markdown",
   "metadata": {
    "id": "Oj7_lkEuSEgK"
   },
   "source": [
    "### ***2. Generating Fully Qualified File Name List***\n",
    "This function generates the list of fully qualified file name list based on the input parameter."
   ]
  },
  {
   "cell_type": "code",
   "execution_count": 4,
   "metadata": {
    "id": "5IsDxtaIQlgu"
   },
   "outputs": [],
   "source": [
    "def generate_fully_qualified_file_name_list(file_list):\n",
    "    \"\"\"\n",
    "    This function generates a list of fully qualified file names.\n",
    "    \"\"\"\n",
    "    qualified_file_name_list = [os.path.join(current_working_dir, train_path) + \n",
    "                                img + \n",
    "                                '.tif' \n",
    "                                for img in file_list\n",
    "                               ]\n",
    "    return qualified_file_name_list"
   ]
  },
  {
   "cell_type": "markdown",
   "metadata": {
    "id": "Jss2Yk6u0CHr"
   },
   "source": [
    "### ***3. Printing Images in Different Orientation***\n",
    "This function prints the input imgae in different orientation."
   ]
  },
  {
   "cell_type": "code",
   "execution_count": 5,
   "metadata": {
    "id": "qyp3g5Jdv7I2"
   },
   "outputs": [],
   "source": [
    "def print_image_in_diff_orientation(image_file):\n",
    "    \"\"\"\n",
    "    This function prints images.\n",
    "    \"\"\"\n",
    "    tf.random.set_seed(1234)\n",
    "    fig = plt.figure(figsize=(14, 12))\n",
    "    #fig = plt.figure()\n",
    "    image = skio.imread(image_file, plugin = \"tifffile\")\n",
    "        \n",
    "    # plot original\n",
    "    ax = fig.add_subplot(1, 5, 1)\n",
    "    ax.imshow(array_to_img(image))\n",
    "    ax.set_title('Original', size=15)\n",
    "\n",
    "    # resize\n",
    "    ax = fig.add_subplot(1, 5, 2)\n",
    "    img_resize = tf.image.resize(image, size=(224, 224))\n",
    "    ax.imshow(array_to_img(img_resize))\n",
    "    ax.set_title('Step 1: Resize', size=15)\n",
    "\n",
    "    # adjust brightness\n",
    "    ax = fig.add_subplot(1, 5, 3)\n",
    "    img_bright = tf.image.adjust_brightness(img_resize, 0.3)\n",
    "    ax.imshow(array_to_img(img_bright))\n",
    "    ax.set_title('Step 2: Brightness', size=15)\n",
    "\n",
    "    # adjust contrast\n",
    "    ax = fig.add_subplot(1, 5, 4)\n",
    "    img_contrast = tf.image.adjust_contrast(img_bright, contrast_factor=3)\n",
    "    ax.imshow(array_to_img(img_contrast))\n",
    "    ax.set_title('Step 3: Contrast', size=15)\n",
    "\n",
    "    # flip left right\n",
    "    ax = fig.add_subplot(1, 5, 5)\n",
    "    img_flip = tf.image.flip_left_right(img_contrast)\n",
    "    ax.imshow(array_to_img(img_flip))\n",
    "    ax.set_title('Step 4: Flip left right', size=15)"
   ]
  },
  {
   "cell_type": "markdown",
   "metadata": {
    "id": "VB6yblUZQGvw"
   },
   "source": [
    "### ***4. Spliting Data in Train, Validation and Test Sets***\n",
    "This function splits the input data set in train, validation and test data set based on the split indices."
   ]
  },
  {
   "cell_type": "code",
   "execution_count": 6,
   "metadata": {
    "id": "1QsFzFBMOGNj"
   },
   "outputs": [],
   "source": [
    "def split_data(split_indices, df):\n",
    "    \"\"\"\n",
    "    This function splits the input dataframe in train, validation and test set.\n",
    "    \"\"\"\n",
    "    X_train = df[: split_indices[0]]\n",
    "    X_val = df[split_indices[0] : split_indices[1]]\n",
    "    X_test = df[split_indices[1]:]\n",
    "    return X_train, X_val, X_test"
   ]
  },
  {
   "cell_type": "markdown",
   "metadata": {
    "id": "JwbTSV2RVY1a"
   },
   "source": [
    "### ***5. Get IDs and Labels for the Images***\n",
    "This function gets id and label values for input train and test data set."
   ]
  },
  {
   "cell_type": "code",
   "execution_count": 7,
   "metadata": {
    "id": "fdzFlI4dVrZy"
   },
   "outputs": [],
   "source": [
    "def get_id_and_label_list(file_path, file_extension):\n",
    "    \"\"\"\n",
    "    This function gets the imgae id and corresponding label.\n",
    "    \"\"\"\n",
    "    file_list = []\n",
    "    for file_name in glob.glob(file_path + '*' + file_extension):\n",
    "        file_list.append(file_name)\n",
    "    return file_list"
   ]
  },
  {
   "cell_type": "markdown",
   "metadata": {
    "id": "HnNG6hPBr6th"
   },
   "source": [
    "### ***6. Read Image File into a Numpy Array***\n",
    "This function reads each image file in a Numpy array and returns it."
   ]
  },
  {
   "cell_type": "code",
   "execution_count": 8,
   "metadata": {
    "id": "9KRGcoAKsAzI"
   },
   "outputs": [],
   "source": [
    "def read_image_file_in_np_array(image_list):\n",
    "    \"\"\"\n",
    "    This function reads each image file in a Numpy array and returns it.\n",
    "    \"\"\"\n",
    "    return np.asarray([skio.imread(image_file, plugin = \"tifffile\") for image_file in image_list])"
   ]
  },
  {
   "cell_type": "markdown",
   "metadata": {
    "id": "VFJ0PiS5tQV0"
   },
   "source": [
    "### ***7. Converts Numpy Array to Tensor***\n",
    "This function converts the numpy array representation of an image to a Tensor."
   ]
  },
  {
   "cell_type": "code",
   "execution_count": 9,
   "metadata": {
    "id": "DzRkQ9l6te42"
   },
   "outputs": [],
   "source": [
    "def convert_np_array_to_tensor(np_image_array):\n",
    "    \"\"\"\n",
    "    This function converts the numpy array representation of each image in tensor.\n",
    "    \"\"\"\n",
    "    return tf.convert_to_tensor(np_image_array, dtype = tf.float32)"
   ]
  },
  {
   "cell_type": "markdown",
   "metadata": {
    "id": "hKdbhiAKN9FP"
   },
   "source": [
    "### ***8. Converting Int Tensor to Float***\n",
    "This function converts integer TF to Float."
   ]
  },
  {
   "cell_type": "code",
   "execution_count": 10,
   "metadata": {
    "id": "iq0XJGnAOGLh"
   },
   "outputs": [],
   "source": [
    "def convert_int_tf_to_float(tf_image_list):\n",
    "    \"\"\"\n",
    "    This function converts integer TF value to float.\n",
    "    \"\"\"\n",
    "    return np.asanyarray([tf.cast(img, tf.float32) for img in tf_image_list])"
   ]
  },
  {
   "cell_type": "markdown",
   "metadata": {
    "id": "sAjZLxwTi9aP"
   },
   "source": [
    "### ***9. Converting to Grayscale***\n",
    "This function converts color image to grayscale."
   ]
  },
  {
   "cell_type": "code",
   "execution_count": 11,
   "metadata": {
    "id": "w0_L44KyjFOh"
   },
   "outputs": [],
   "source": [
    "def convert_to_grayscale(tf_image_list):\n",
    "    \"\"\"\n",
    "    This function converts color image to grayscale.\n",
    "    \"\"\"\n",
    "    return tf.image.rgb_to_grayscale(tf_image_list) / 255.0"
   ]
  },
  {
   "cell_type": "markdown",
   "metadata": {
    "id": "QkYRDJDBObaA"
   },
   "source": [
    "### ***10. Adjusting Brightness***\n",
    "This function adjusts brightness of the images. "
   ]
  },
  {
   "cell_type": "code",
   "execution_count": 12,
   "metadata": {
    "id": "6a3CSJssOrZJ"
   },
   "outputs": [],
   "source": [
    "def adjust_brightness(tf_image_list, delta):\n",
    "    \"\"\"\n",
    "    This function adjusts the image brightness.\n",
    "    \"\"\"\n",
    "    return tf.image.adjust_brightness(tf_image_list, delta = delta)"
   ]
  },
  {
   "cell_type": "markdown",
   "metadata": {
    "id": "B5xqmZIQPEQG"
   },
   "source": [
    "### ***11. Adjusting Contrast***\n",
    "This function adjusts image contrast."
   ]
  },
  {
   "cell_type": "code",
   "execution_count": 13,
   "metadata": {
    "id": "-k4Gz84aPS_y"
   },
   "outputs": [],
   "source": [
    "def adjust_contrast(tf_image_list, contrast_factor):\n",
    "    \"\"\"\n",
    "    This function adjusts contrast of the image.\n",
    "    \"\"\"\n",
    "    return tf.image.adjust_contrast(tf_image_list, contrast_factor = contrast_factor)"
   ]
  },
  {
   "cell_type": "markdown",
   "metadata": {
    "id": "zYRonDvrPzqQ"
   },
   "source": [
    "### ***12. Random Flip Left Right***\n",
    "This function applies random flip to the image."
   ]
  },
  {
   "cell_type": "code",
   "execution_count": 14,
   "metadata": {
    "id": "eEcqzQ79P-ab"
   },
   "outputs": [],
   "source": [
    "def random_flip_left_right(tf_image_list):\n",
    "    \"\"\"\n",
    "    This function applies random flip to the image.\n",
    "    \"\"\"\n",
    "    return tf.image.random_flip_left_right(tf_image_list)"
   ]
  },
  {
   "cell_type": "markdown",
   "metadata": {
    "id": "2oFKjfmgdolc"
   },
   "source": [
    "### ***13. Rotate Images 90/180/270 Degrees***\n",
    "This function rotates images 90/180/270 degrees."
   ]
  },
  {
   "cell_type": "code",
   "execution_count": 15,
   "metadata": {
    "id": "QLSxs7sFd26l"
   },
   "outputs": [],
   "source": [
    "def rotate_image(tf_image_list, k = 1):\n",
    "    \"\"\"\n",
    "    This function rotates images by 90/180/270 degrees.\n",
    "    k = 1 : 90 degree rotation\n",
    "    k = 2 : 180 degree rotation\n",
    "    k = 3 : 270 degree rotation\n",
    "    \"\"\"\n",
    "    return tf.image.rot90(tf_image_list, k)"
   ]
  },
  {
   "cell_type": "markdown",
   "metadata": {
    "id": "NEf1ceMatXq0"
   },
   "source": [
    "### ***14. Create Labels***\n",
    "This function creates labels with 1 or 0."
   ]
  },
  {
   "cell_type": "code",
   "execution_count": 16,
   "metadata": {
    "id": "N8F58ARTtwzR"
   },
   "outputs": [],
   "source": [
    "def create_label(shape, label = 1):\n",
    "    \"\"\"\n",
    "    This function creates labels.\n",
    "    \"\"\"\n",
    "    if label == 1:\n",
    "        return np.ones(shape).flatten()\n",
    "    elif label == 0:\n",
    "        return np.zeros(shape).flatten()"
   ]
  },
  {
   "cell_type": "markdown",
   "metadata": {
    "id": "3ul4kgxkYvSU"
   },
   "source": [
    "# ***C. Collecting File Information***"
   ]
  },
  {
   "cell_type": "markdown",
   "metadata": {
    "id": "blbLoLnvn8t2"
   },
   "source": [
    "### ***1. Get the Image IDs and Corresponding Labels***\n",
    "\n",
    "There are 220,025 and 57,458 train and test images respectively(tiff \n",
    "extension). Each image is 96 X 96 color images (with 3 channels). We are also given train_labels.csv and sample_submission.csv which contain label information for train and test images respectively."
   ]
  },
  {
   "cell_type": "code",
   "execution_count": 17,
   "metadata": {
    "colab": {
     "base_uri": "https://localhost:8080/"
    },
    "id": "0JVmzqZaYqd_",
    "outputId": "69d564c7-cbb5-4a02-ee6a-466c418299c9"
   },
   "outputs": [
    {
     "name": "stdout",
     "output_type": "stream",
     "text": [
      "Number of train files : 220025\n",
      "Number of test files : 57458\n"
     ]
    }
   ],
   "source": [
    "#get file names for train and test\n",
    "train_file_list = []\n",
    "test_file_list = []\n",
    "\n",
    "train_file_list = get_id_and_label_list(train_files_path, image_file_extension)\n",
    "test_file_list = get_id_and_label_list(test_files_path, image_file_extension)\n",
    "\n",
    "train_label = pd.read_csv(train_label_file)\n",
    "test_label = pd.read_csv(test_label_file)\n",
    "\n",
    "print(f\"Number of train files : {len(train_file_list)}\")\n",
    "print(f\"Number of test files : {len(test_file_list)}\")"
   ]
  },
  {
   "cell_type": "code",
   "execution_count": 18,
   "metadata": {},
   "outputs": [
    {
     "data": {
      "text/plain": [
       "0    57458\n",
       "Name: label, dtype: int64"
      ]
     },
     "execution_count": 18,
     "metadata": {},
     "output_type": "execute_result"
    }
   ],
   "source": [
    "test_label.label.value_counts()"
   ]
  },
  {
   "cell_type": "markdown",
   "metadata": {
    "id": "K0vWYDZYw9zz"
   },
   "source": [
    "### ***2. Checking for Duplicate IDs***"
   ]
  },
  {
   "cell_type": "code",
   "execution_count": 19,
   "metadata": {
    "colab": {
     "base_uri": "https://localhost:8080/"
    },
    "id": "PFCggDOevtOY",
    "outputId": "06dce678-d4d0-4070-ceaa-7e037d773446"
   },
   "outputs": [
    {
     "name": "stdout",
     "output_type": "stream",
     "text": [
      "Number of train duplicate entries :  0\n",
      "Number of test duplicate entries :  0\n"
     ]
    }
   ],
   "source": [
    "df_train_id_count = pd.DataFrame(train_label.groupby(['id'])['id'].count())\n",
    "df_train_id_count.columns = ['id_count']\n",
    "df_train_id_count.reset_index(inplace = True)\n",
    "print(\"Number of train duplicate entries : \", len(df_train_id_count[df_train_id_count.id_count > 1]))\n",
    "\n",
    "df_test_id_count = pd.DataFrame(test_label.groupby(['id'])['id'].count())\n",
    "df_test_id_count.columns = ['id_count']\n",
    "df_test_id_count.reset_index(inplace = True)\n",
    "print(\"Number of test duplicate entries : \", len(df_test_id_count[df_test_id_count.id_count > 1]))"
   ]
  },
  {
   "cell_type": "markdown",
   "metadata": {
    "id": "H0FC0Iv2GowK"
   },
   "source": [
    "### ***3. Seperating Postive and Negative Images from the Training Data***"
   ]
  },
  {
   "cell_type": "code",
   "execution_count": 20,
   "metadata": {
    "colab": {
     "base_uri": "https://localhost:8080/"
    },
    "id": "Wyqt0qWvRMvj",
    "outputId": "766dbb0c-733c-435d-fdc1-80b865258f97"
   },
   "outputs": [
    {
     "name": "stdout",
     "output_type": "stream",
     "text": [
      "Number of positive images in train set: 89117\n",
      "Number of negative images in train set: 130908\n"
     ]
    }
   ],
   "source": [
    "train_positive_image_id_list = list(train_label[train_label.label==1].id)\n",
    "train_negative_image_id_list = list(train_label[train_label.label==0].id)\n",
    "\n",
    "train_positive_images_list = generate_fully_qualified_file_name_list(train_positive_image_id_list)\n",
    "train_negative_images_list = generate_fully_qualified_file_name_list(train_negative_image_id_list)\n",
    "\n",
    "print(f\"Number of positive images in train set: {len(train_positive_images_list)}\")\n",
    "print(f\"Number of negative images in train set: {len(train_negative_images_list)}\")"
   ]
  },
  {
   "cell_type": "markdown",
   "metadata": {
    "id": "0KJlo8fmpaes"
   },
   "source": [
    "# ***D. Data Preprocessing***"
   ]
  },
  {
   "cell_type": "markdown",
   "metadata": {
    "id": "ZgwcHaLYp1yB"
   },
   "source": [
    "### ***1. Shuffling Data***"
   ]
  },
  {
   "cell_type": "code",
   "execution_count": 21,
   "metadata": {
    "colab": {
     "base_uri": "https://localhost:8080/"
    },
    "id": "NVH0QTrdQRr6",
    "outputId": "e8e04329-8c69-4e28-a0d1-e60992731f6c"
   },
   "outputs": [
    {
     "name": "stdout",
     "output_type": "stream",
     "text": [
      "Length of shuffled_train_positive_label_df : 89117\n",
      "Length of shuffled_train_negative_label_df : 130908\n"
     ]
    }
   ],
   "source": [
    "# Shuffling data\n",
    "shuffled_train_label = shuffle(train_label)\n",
    "len_shuffled_train_label = len(shuffled_train_label)\n",
    "\n",
    "# Selecting positive and negative images from the shuffled list\n",
    "shuffled_train_positive_label_df = shuffled_train_label[shuffled_train_label.label == 1]\n",
    "shuffled_train_negative_label_df = shuffled_train_label[shuffled_train_label.label == 0]\n",
    "\n",
    "print(f\"Length of shuffled_train_positive_label_df : {len(shuffled_train_positive_label_df)}\")\n",
    "print(f\"Length of shuffled_train_negative_label_df : {len(shuffled_train_negative_label_df)}\")"
   ]
  },
  {
   "cell_type": "markdown",
   "metadata": {
    "id": "XdM-BxcWphwU"
   },
   "source": [
    "### ***2. Obtaining Split Indices***"
   ]
  },
  {
   "cell_type": "code",
   "execution_count": 22,
   "metadata": {
    "colab": {
     "base_uri": "https://localhost:8080/"
    },
    "id": "PD4Olr8lQCoO",
    "outputId": "26b256f9-6a9f-4a3e-bf80-b6f11f83c258"
   },
   "outputs": [
    {
     "name": "stdout",
     "output_type": "stream",
     "text": [
      "0 26735\n",
      "1 8911\n",
      "2 8911\n",
      "Split indecs :  [26735 35646 44557]\n"
     ]
    }
   ],
   "source": [
    "split_indices = np.multiply(len(shuffled_train_positive_label_df), split).astype(int)\n",
    "for idx, val in enumerate(split_indices):\n",
    "    print(idx, val)\n",
    "    if idx > 0:\n",
    "        split_indices[idx] = sum(split_indices[idx - 1 : idx]) + split_indices[idx]\n",
    "print(\"Split indecs : \", split_indices)"
   ]
  },
  {
   "cell_type": "markdown",
   "metadata": {
    "id": "o0LhPus_qBU1"
   },
   "source": [
    "### ***3. Spliting Data in Train(60%), Validation(20%) and Test(20%) Sets for Both Positive and Negative Images.***\n",
    "To handle data imbalance problem, we will use equal number of positive and negative images. Thus, we will use 30% train positive, 30% train negative, 10% validation postive, 10% validation negative, 10% test positive and 10% test negative images."
   ]
  },
  {
   "cell_type": "code",
   "execution_count": 23,
   "metadata": {
    "colab": {
     "base_uri": "https://localhost:8080/"
    },
    "id": "MArBjOESQW2s",
    "outputId": "11ed603f-b6a7-4a6c-a688-305934c4b8e0"
   },
   "outputs": [
    {
     "name": "stdout",
     "output_type": "stream",
     "text": [
      "Length of X_train_id_positive : 26735\n",
      "Length of X_train_id_negative : 26735\n",
      "Length of X_val_id_positive : 8911\n",
      "Length of X_val_id_negative : 8911\n",
      "Length of X_test_id_positive : 8911\n",
      "Length of X_test_id_negative : 8911\n"
     ]
    }
   ],
   "source": [
    "# Splitting data at train, validation and test positions \n",
    "# for both positive and negative imgaes\n",
    "# This process will select the list of ids\n",
    "(X_train_id_positive, \n",
    " X_val_id_positive, \n",
    " X_test_id_positive) = split_data(split_indices = split_indices, \n",
    "                                  df = shuffled_train_positive_label_df[:split_indices[-1]]\n",
    "                                 )\n",
    "(X_train_id_negative, \n",
    " X_val_id_negative, \n",
    " X_test_id_negative) = split_data(split_indices = split_indices, \n",
    "                                  df = shuffled_train_negative_label_df[:split_indices[-1]]\n",
    "                                 )\n",
    " \n",
    "print(f\"Length of X_train_id_positive : {len(X_train_id_positive)}\")\n",
    "print(f\"Length of X_train_id_negative : {len(X_train_id_negative)}\")\n",
    "\n",
    "print(f\"Length of X_val_id_positive : {len(X_val_id_positive)}\")\n",
    "print(f\"Length of X_val_id_negative : {len(X_val_id_negative)}\")\n",
    "\n",
    "print(f\"Length of X_test_id_positive : {len(X_test_id_positive)}\")\n",
    "print(f\"Length of X_test_id_negative : {len(X_test_id_negative)}\")"
   ]
  },
  {
   "cell_type": "markdown",
   "metadata": {
    "id": "kFsss8sHqUTU"
   },
   "source": [
    "### ***4. Generating Fully Qualified Image File Name List for Both Positive and Negative Images***"
   ]
  },
  {
   "cell_type": "code",
   "execution_count": 24,
   "metadata": {
    "colab": {
     "base_uri": "https://localhost:8080/"
    },
    "id": "77ure3cBqvxx",
    "outputId": "2273eb4b-e2fb-4f18-9ee4-ae8097b56e91"
   },
   "outputs": [
    {
     "name": "stdout",
     "output_type": "stream",
     "text": [
      "Length of X_train_img_file_positive : 26735\n",
      "Length of X_train_img_file_negative : 26735\n",
      "Length of X_val_img_file_positive : 8911\n",
      "Length of X_val_img_file_negative : 8911\n",
      "Length of X_test_img_file_positive : 8911\n",
      "Length of X_test_img_file_negative : 8911\n"
     ]
    }
   ],
   "source": [
    "X_train_img_file_positive = generate_fully_qualified_file_name_list(list(np.concatenate(X_train_id_positive[['id']].values.tolist()).flat))\n",
    "X_val_img_file_positive = generate_fully_qualified_file_name_list(list(np.concatenate(X_val_id_positive[['id']].values.tolist()).flat))\n",
    "X_test_img_file_positive = generate_fully_qualified_file_name_list(list(np.concatenate(X_test_id_positive[['id']].values.tolist()).flat))\n",
    "\n",
    "X_train_img_file_negative = generate_fully_qualified_file_name_list(list(np.concatenate(X_train_id_negative[['id']].values.tolist()).flat))\n",
    "X_val_img_file_negative = generate_fully_qualified_file_name_list(list(np.concatenate(X_val_id_negative[['id']].values.tolist()).flat))\n",
    "X_test_img_file_negative = generate_fully_qualified_file_name_list(list(np.concatenate(X_test_id_negative[['id']].values.tolist()).flat))\n",
    "\n",
    "print(f\"Length of X_train_img_file_positive : {len(X_train_img_file_positive)}\")\n",
    "print(f\"Length of X_train_img_file_negative : {len(X_train_img_file_negative)}\")\n",
    "\n",
    "print(f\"Length of X_val_img_file_positive : {len(X_val_img_file_positive)}\")\n",
    "print(f\"Length of X_val_img_file_negative : {len(X_val_img_file_negative)}\")\n",
    "\n",
    "print(f\"Length of X_test_img_file_positive : {len(X_test_img_file_positive)}\")\n",
    "print(f\"Length of X_test_img_file_negative : {len(X_test_img_file_negative)}\")"
   ]
  },
  {
   "cell_type": "markdown",
   "metadata": {
    "id": "HztMRI45rkoz"
   },
   "source": [
    "### ***5. Reading Image File in Numpy Array***"
   ]
  },
  {
   "cell_type": "code",
   "execution_count": 26,
   "metadata": {
    "colab": {
     "base_uri": "https://localhost:8080/"
    },
    "id": "lx7gVD9uuJGO",
    "outputId": "0815b82e-5054-4859-9e6e-fca721eb3f35"
   },
   "outputs": [
    {
     "name": "stdout",
     "output_type": "stream",
     "text": [
      "Shape of X_train_positive_np : (26735, 96, 96, 3)\n",
      "Shape of X_train_negative_np : (26735, 96, 96, 3)\n",
      "Shape of X_val_positive_np : (8911, 96, 96, 3)\n",
      "Shape of X_val_negative_np : (8911, 96, 96, 3)\n",
      "Shape of X_test_positive_np : (8911, 96, 96, 3)\n",
      "Shape of X_test_negative_np : (8911, 96, 96, 3)\n"
     ]
    }
   ],
   "source": [
    "# This process will read each image file and store them in np array\n",
    "# for both positive and negative images\n",
    "X_train_positive_np = read_image_file_in_np_array(X_train_img_file_positive)\n",
    "X_val_positive_np = read_image_file_in_np_array(X_val_img_file_positive)\n",
    "X_test_positive_np = read_image_file_in_np_array(X_test_img_file_positive)\n",
    "\n",
    "X_train_negative_np = read_image_file_in_np_array(X_train_img_file_negative)\n",
    "X_val_negative_np = read_image_file_in_np_array(X_val_img_file_negative)\n",
    "X_test_negative_np = read_image_file_in_np_array(X_test_img_file_negative)\n",
    "\n",
    "print(f\"Shape of X_train_positive_np : {X_train_positive_np.shape}\")\n",
    "print(f\"Shape of X_train_negative_np : {X_train_negative_np.shape}\")\n",
    "\n",
    "print(f\"Shape of X_val_positive_np : {X_val_positive_np.shape}\")\n",
    "print(f\"Shape of X_val_negative_np : {X_val_negative_np.shape}\")\n",
    "\n",
    "print(f\"Shape of X_test_positive_np : {X_test_positive_np.shape}\")\n",
    "print(f\"Shape of X_test_negative_np : {X_test_negative_np.shape}\")"
   ]
  },
  {
   "cell_type": "markdown",
   "metadata": {
    "id": "LCr8-chetC-m"
   },
   "source": [
    "### ***6. Converting Numpy Array to Tensor***"
   ]
  },
  {
   "cell_type": "code",
   "execution_count": 27,
   "metadata": {
    "colab": {
     "base_uri": "https://localhost:8080/"
    },
    "id": "HMBgWZyvuTz2",
    "outputId": "37018dcd-1e55-40e3-b7f9-ad4a2c673b87"
   },
   "outputs": [
    {
     "name": "stdout",
     "output_type": "stream",
     "text": [
      "Shape of X_train_positive_tf : (26735, 96, 96, 3)\n",
      "Shape of X_train_negative_tf : (26735, 96, 96, 3)\n",
      "Shape of X_val_positive_tf : (8911, 96, 96, 3)\n",
      "Shape of X_val_negative_tf : (8911, 96, 96, 3)\n",
      "Shape of X_test_positive_tf : (8911, 96, 96, 3)\n",
      "Shaepe of X_test_negative_tf : (8911, 96, 96, 3)\n"
     ]
    }
   ],
   "source": [
    "# This process converts np array to tensor\n",
    "# for both positive and negative images\n",
    "with tf.device('/cpu:0'):\n",
    "    X_train_positive_tf = convert_np_array_to_tensor(X_train_positive_np)\n",
    "    X_val_positive_tf = convert_np_array_to_tensor(X_val_positive_np)\n",
    "    X_test_positive_tf = convert_np_array_to_tensor(X_test_positive_np)\n",
    "\n",
    "    X_train_negative_tf = convert_np_array_to_tensor(X_train_negative_np)\n",
    "    X_val_negative_tf = convert_np_array_to_tensor(X_val_negative_np)\n",
    "    X_test_negative_tf = convert_np_array_to_tensor(X_test_negative_np)\n",
    "\n",
    "print(f\"Shape of X_train_positive_tf : {X_train_positive_tf.shape}\")\n",
    "print(f\"Shape of X_train_negative_tf : {X_train_negative_tf.shape}\")\n",
    "\n",
    "print(f\"Shape of X_val_positive_tf : {X_val_positive_tf.shape}\")\n",
    "print(f\"Shape of X_val_negative_tf : {X_val_negative_tf.shape}\")\n",
    "\n",
    "print(f\"Shape of X_test_positive_tf : {X_test_positive_tf.shape}\")\n",
    "print(f\"Shaepe of X_test_negative_tf : {X_test_negative_tf.shape}\")"
   ]
  },
  {
   "cell_type": "markdown",
   "metadata": {
    "id": "Uy4ydQgKuWfT"
   },
   "source": [
    "### ***7. Creating Labels***"
   ]
  },
  {
   "cell_type": "markdown",
   "metadata": {
    "id": "5Ey3CdsGukYh"
   },
   "source": [
    "#### ***a. Creating Positive Labels***"
   ]
  },
  {
   "cell_type": "code",
   "execution_count": 30,
   "metadata": {
    "id": "eci0QLQcuuqn"
   },
   "outputs": [],
   "source": [
    "Y_train_positive = create_label(len(X_train_positive_tf))\n",
    "Y_val_positive = create_label(len(X_val_positive_tf))\n",
    "Y_test_positive = create_label(len(X_test_positive_tf))"
   ]
  },
  {
   "cell_type": "markdown",
   "metadata": {
    "id": "Hemm2Rp_urG1"
   },
   "source": [
    "#### ***b. Creating Negative Labels***"
   ]
  },
  {
   "cell_type": "code",
   "execution_count": 31,
   "metadata": {
    "id": "m0hCn-FWxTgB"
   },
   "outputs": [],
   "source": [
    "Y_train_negative = create_label(len(X_train_negative_tf), 0)\n",
    "Y_val_negative = create_label(len(X_val_negative_tf), 0)\n",
    "Y_test_negative = create_label(len(X_test_negative_tf), 0)"
   ]
  },
  {
   "cell_type": "markdown",
   "metadata": {
    "id": "7u66w-Rl8JfG"
   },
   "source": [
    "# ***E. Image Processing***"
   ]
  },
  {
   "cell_type": "markdown",
   "metadata": {
    "id": "7fRUdUrzpc1x"
   },
   "source": [
    "### ***1. Converting Color Images to Grayscale***"
   ]
  },
  {
   "cell_type": "code",
   "execution_count": 32,
   "metadata": {
    "colab": {
     "base_uri": "https://localhost:8080/"
    },
    "id": "K3jEN9KeptiC",
    "outputId": "08a283c9-9dd2-49e4-c761-30c27beba61f"
   },
   "outputs": [
    {
     "name": "stdout",
     "output_type": "stream",
     "text": [
      "Handling grayscale conversion for X_train_positive_tf\n",
      "Handling grayscale conversion for X_val_positive_tf\n",
      "Handling grayscale conversion for X_test_positive_tf\n",
      "Handling grayscale conversion for X_train_negative_tf\n",
      "Handling grayscale conversion for X_val_negative_tf\n",
      "Handling grayscale conversion for X_test_negative_tf\n",
      "Shape of X_train_positive_tf : (26735, 96, 96, 1)\n",
      "Shape of X_train_negative_tf : (26735, 96, 96, 1)\n",
      "Shape of X_val_positive_tf : (8911, 96, 96, 1)\n",
      "Shape of X_val_negative_tf : (8911, 96, 96, 1)\n",
      "Shape of X_test_positive_tf : (8911, 96, 96, 1)\n",
      "Shape of X_test_negative_tf : (8911, 96, 96, 1)\n"
     ]
    }
   ],
   "source": [
    "with tf.device('/cpu:0'):\n",
    "    print(\"Handling grayscale conversion for X_train_positive_tf\")\n",
    "    X_train_positive_tf = convert_to_grayscale(X_train_positive_tf)\n",
    "    gc.collect()\n",
    "    tf.keras.backend.clear_session()\n",
    "\n",
    "    print(\"Handling grayscale conversion for X_val_positive_tf\")\n",
    "    X_val_positive_tf = convert_to_grayscale(X_val_positive_tf)\n",
    "    gc.collect()\n",
    "    tf.keras.backend.clear_session()\n",
    "\n",
    "    print(\"Handling grayscale conversion for X_test_positive_tf\")\n",
    "    X_test_positive_tf = convert_to_grayscale(X_test_positive_tf)\n",
    "    gc.collect()\n",
    "    tf.keras.backend.clear_session()\n",
    "\n",
    "    print(\"Handling grayscale conversion for X_train_negative_tf\")\n",
    "    X_train_negative_tf = convert_to_grayscale(X_train_negative_tf)\n",
    "    gc.collect()\n",
    "    tf.keras.backend.clear_session()\n",
    "\n",
    "    print(\"Handling grayscale conversion for X_val_negative_tf\")\n",
    "    X_val_negative_tf = convert_to_grayscale(X_val_negative_tf)\n",
    "    gc.collect()\n",
    "    tf.keras.backend.clear_session()\n",
    "\n",
    "    print(\"Handling grayscale conversion for X_test_negative_tf\")\n",
    "    X_test_negative_tf = convert_to_grayscale(X_test_negative_tf)\n",
    "    gc.collect()\n",
    "    tf.keras.backend.clear_session()\n",
    "\n",
    "print(f\"Shape of X_train_positive_tf : {X_train_positive_tf.shape}\")\n",
    "print(f\"Shape of X_train_negative_tf : {X_train_negative_tf.shape}\")\n",
    "\n",
    "print(f\"Shape of X_val_positive_tf : {X_val_positive_tf.shape}\")\n",
    "print(f\"Shape of X_val_negative_tf : {X_val_negative_tf.shape}\")\n",
    "\n",
    "print(f\"Shape of X_test_positive_tf : {X_test_positive_tf.shape}\")\n",
    "print(f\"Shape of X_test_negative_tf : {X_test_negative_tf.shape}\")"
   ]
  },
  {
   "cell_type": "markdown",
   "metadata": {},
   "source": [
    "### ***2. Blending Positive and Negative Data***\n",
    "*(Blending data first and do image processing during the K-fold process)*"
   ]
  },
  {
   "cell_type": "code",
   "execution_count": 33,
   "metadata": {},
   "outputs": [
    {
     "name": "stdout",
     "output_type": "stream",
     "text": [
      "X_train shape: (53470, 96, 96, 1)\n",
      "y_train shape: (53470,)\n",
      "X_val shape: (17822, 96, 96, 1)\n",
      "y_val shape: (17822,)\n",
      "X_test shape: (17822, 96, 96, 1)\n",
      "y_test shape: (17822,)\n"
     ]
    }
   ],
   "source": [
    "with tf.device('/cpu:0'):\n",
    "    X_train = tf.concat([X_train_positive_tf , X_train_negative_tf] , axis = 0)\n",
    "    X_val = tf.concat([X_val_positive_tf , X_val_negative_tf] , axis = 0)\n",
    "    X_test = tf.concat([X_test_positive_tf , X_test_negative_tf] , axis = 0)\n",
    "\n",
    "    y_train = tf.concat([Y_train_positive , Y_train_negative] , axis = 0)\n",
    "    y_val = tf.concat([Y_val_positive , Y_val_negative] , axis = 0)\n",
    "    y_test = tf.concat([Y_test_positive , Y_test_negative] , axis = 0)\n",
    "\n",
    "print(f\"X_train shape: {X_train.shape}\")\n",
    "print(f\"y_train shape: {y_train.shape}\")\n",
    "\n",
    "print(f\"X_val shape: {X_val.shape}\")\n",
    "print(f\"y_val shape: {y_val.shape}\")\n",
    "\n",
    "print(f\"X_test shape: {X_test.shape}\")\n",
    "print(f\"y_test shape: {y_test.shape}\")"
   ]
  },
  {
   "cell_type": "markdown",
   "metadata": {
    "id": "uz_kXTxZTxR3"
   },
   "source": [
    "### ***3. Shuffling the Images***\n",
    "*(Shuffling data first and do image processing during the K-fold process)*"
   ]
  },
  {
   "cell_type": "markdown",
   "metadata": {
    "id": "EYiSWROFUAPs"
   },
   "source": [
    "#### ***a. Shuffling the Train Data***"
   ]
  },
  {
   "cell_type": "code",
   "execution_count": 34,
   "metadata": {
    "colab": {
     "base_uri": "https://localhost:8080/"
    },
    "id": "GV3M-UwgUCf3",
    "outputId": "fb056d89-c089-48fb-c8eb-011f72db70ff"
   },
   "outputs": [
    {
     "name": "stdout",
     "output_type": "stream",
     "text": [
      "Shuffling the train data\n",
      "X_train shape: (53470, 96, 96, 1)\n",
      "y_train shape: (53470,)\n"
     ]
    }
   ],
   "source": [
    "with tf.device('/cpu:0'):\n",
    "    print(\"Shuffling the train data\")\n",
    "    train_shuffle_indices = tf.random.shuffle(tf.range(tf.shape(X_train)[0], dtype = tf.int32))\n",
    "    X_train = tf.gather(X_train, train_shuffle_indices)\n",
    "    y_train = tf.gather(y_train, train_shuffle_indices).numpy()\n",
    "\n",
    "print(f\"X_train shape: {X_train.shape}\")\n",
    "print(f\"y_train shape: {y_train.shape}\")"
   ]
  },
  {
   "cell_type": "markdown",
   "metadata": {
    "id": "070_xMwqUZAe"
   },
   "source": [
    "#### ***b. Shuffling the Validation Data***"
   ]
  },
  {
   "cell_type": "code",
   "execution_count": 35,
   "metadata": {
    "colab": {
     "base_uri": "https://localhost:8080/"
    },
    "id": "7DMD3vrrUhAi",
    "outputId": "09fb2201-a45f-4552-e1b6-038cbe4c3a9d"
   },
   "outputs": [
    {
     "name": "stdout",
     "output_type": "stream",
     "text": [
      "Shuffling the validation data\n",
      "X_val shape: (17822, 96, 96, 1)\n",
      "y_val shape: (17822,)\n"
     ]
    }
   ],
   "source": [
    "with tf.device('/cpu:0'):\n",
    "    print(\"Shuffling the validation data\")\n",
    "    val_shuffle_indices = tf.random.shuffle(tf.range(tf.shape(X_val)[0], dtype = tf.int32))\n",
    "    X_val = tf.gather(X_val, val_shuffle_indices)\n",
    "    y_val = tf.gather(y_val, val_shuffle_indices).numpy()\n",
    "\n",
    "print(f\"X_val shape: {X_val.shape}\")\n",
    "print(f\"y_val shape: {y_val.shape}\")"
   ]
  },
  {
   "cell_type": "markdown",
   "metadata": {
    "id": "7HJb802dVzDf"
   },
   "source": [
    "#### ***c. Shuffling the Test Data***"
   ]
  },
  {
   "cell_type": "code",
   "execution_count": 36,
   "metadata": {
    "colab": {
     "base_uri": "https://localhost:8080/"
    },
    "id": "C2nCfgA0V8Uv",
    "outputId": "cc2b75bb-932a-4323-dcd4-d3b5bd0e5156"
   },
   "outputs": [
    {
     "name": "stdout",
     "output_type": "stream",
     "text": [
      "Shuffling the test data\n",
      "X_test shape: (17822, 96, 96, 1)\n",
      "y_test shape: (17822,)\n"
     ]
    }
   ],
   "source": [
    "with tf.device('/cpu:0'):\n",
    "    print(\"Shuffling the test data\")\n",
    "    test_shuffle_indices = tf.random.shuffle(tf.range(tf.shape(X_test)[0], dtype = tf.int32))\n",
    "    X_test = tf.gather(X_test, test_shuffle_indices)\n",
    "    y_test = tf.gather(y_test, test_shuffle_indices).numpy()\n",
    "\n",
    "print(f\"X_test shape: {X_test.shape}\")\n",
    "print(f\"y_test shape: {y_test.shape}\")"
   ]
  },
  {
   "cell_type": "markdown",
   "metadata": {},
   "source": [
    "# ***F. Model Building & Fitting***"
   ]
  },
  {
   "cell_type": "markdown",
   "metadata": {},
   "source": [
    "### F.1 Recombining the train and validation data for k-fold validation"
   ]
  },
  {
   "cell_type": "code",
   "execution_count": 38,
   "metadata": {},
   "outputs": [
    {
     "name": "stdout",
     "output_type": "stream",
     "text": [
      "Shuffling the kfold train data...\n",
      "X_train_kfold shape: (71292, 96, 96, 1)\n",
      "y_train_kfold shape: (71292,)\n"
     ]
    }
   ],
   "source": [
    "# Recombining the train and validation sets\n",
    "with tf.device('/cpu:0'):\n",
    "    X_train_kfold = tf.concat([X_train, X_val] , axis = 0)\n",
    "    y_train_kfold = tf.concat([y_train, y_val] , axis = 0)\n",
    "\n",
    "    print(\"Shuffling the kfold train data...\")\n",
    "    tf.random.set_seed(1234) # for reproducibility\n",
    "    \n",
    "    test_shuffle_indices = tf.random.shuffle(tf.range(tf.shape(X_train_kfold)[0], dtype = tf.int32))\n",
    "    X_train_kfold = tf.gather(X_train_kfold, test_shuffle_indices)\n",
    "    y_train_kfold = tf.gather(y_train_kfold, test_shuffle_indices).numpy()\n",
    "\n",
    "print(f\"X_train_kfold shape: {X_train_kfold.shape}\")\n",
    "print(f\"y_train_kfold shape: {y_train_kfold.shape}\")"
   ]
  },
  {
   "cell_type": "code",
   "execution_count": 39,
   "metadata": {},
   "outputs": [
    {
     "name": "stdout",
     "output_type": "stream",
     "text": [
      "The percentage of positive labels in y_train_kfold: 0.5\n",
      "\n",
      "---Iteration: 1---\n",
      "The percentage of positive labels in training set: 0.5\n",
      "The percentage of positive labels in validation set: 0.5\n",
      "\n",
      "---Iteration: 2---\n",
      "The percentage of positive labels in training set: 0.5\n",
      "The percentage of positive labels in validation set: 0.5\n",
      "\n",
      "---Iteration: 3---\n",
      "The percentage of positive labels in training set: 0.5\n",
      "The percentage of positive labels in validation set: 0.5\n",
      "\n",
      "---Iteration: 4---\n",
      "The percentage of positive labels in training set: 0.5\n",
      "The percentage of positive labels in validation set: 0.5\n",
      "\n",
      "---Iteration: 5---\n",
      "The percentage of positive labels in training set: 0.5000080152610571\n",
      "The percentage of positive labels in validation set: 0.499943889574683\n",
      "\n",
      "---Iteration: 6---\n",
      "The percentage of positive labels in training set: 0.5000080152610571\n",
      "The percentage of positive labels in validation set: 0.499943889574683\n",
      "\n",
      "---Iteration: 7---\n",
      "The percentage of positive labels in training set: 0.49999198473894296\n",
      "The percentage of positive labels in validation set: 0.5000561104253171\n",
      "\n",
      "---Iteration: 8---\n",
      "The percentage of positive labels in training set: 0.49999198473894296\n",
      "The percentage of positive labels in validation set: 0.5000561104253171\n"
     ]
    }
   ],
   "source": [
    "# Testing out the stratified K-fold function to make sure the folds are balanced.\n",
    "\n",
    "print(f\"The percentage of positive labels in y_train_kfold: {len(y_train_kfold[y_train_kfold==1])/len(y_train_kfold)}\")\n",
    "\n",
    "n_splits = 8\n",
    "\n",
    "for kfold, (train, validation) in enumerate(StratifiedKFold(n_splits=n_splits,\n",
    "                                                            shuffle=True).split(X_train_kfold, y_train_kfold)):\n",
    "    temp_train, temp_val = y_train_kfold[train], y_train_kfold[validation] \n",
    "    print(f\"\\n---Iteration: {kfold + 1}---\")\n",
    "    print(f\"The percentage of positive labels in training set: {len(temp_train[temp_train==1])/len(temp_train)}\")\n",
    "    print(f\"The percentage of positive labels in validation set: {len(temp_val[temp_val==1])/len(temp_val)}\")\n"
   ]
  },
  {
   "cell_type": "code",
   "execution_count": 40,
   "metadata": {},
   "outputs": [
    {
     "data": {
      "text/plain": [
       "0.5"
      ]
     },
     "execution_count": 40,
     "metadata": {},
     "output_type": "execute_result"
    }
   ],
   "source": [
    "len(y_train_kfold[y_train_kfold==1])/len(y_train_kfold)"
   ]
  },
  {
   "cell_type": "markdown",
   "metadata": {},
   "source": [
    "### F.2 Adding a printing helper function and custom generator class for larger networks"
   ]
  },
  {
   "cell_type": "code",
   "execution_count": 41,
   "metadata": {},
   "outputs": [],
   "source": [
    "# Defining a helper function for evaluating accuracy\n",
    "\n",
    "def plot_model_eval(loss, val_loss, accuracy, val_accuracy, show_std=True):\n",
    "    \"\"\"\n",
    "    Helper function to print out the accuracy and loss graphs based on model history for k-fold validation\n",
    "    \n",
    "    Args:\n",
    "        loss: list of lists containing losses from multiple histories.\n",
    "        accuracy: list of lists containing accuracies from multiple histories.\n",
    "        val_loss: list of lists containing validation loss from multiple histories.\n",
    "        val_accuracy: list of lists containing validation accuracies from multiple histories.\n",
    "        show_std: whether to show the region of mean +/- std.  Defaulted to True.\n",
    "    \"\"\"\n",
    "    # Calculating the mean values\n",
    "    loss_mean = np.mean(np.array(loss), axis=0)\n",
    "    val_loss_mean = np.mean(np.array(val_loss), axis=0)\n",
    "    acc_mean = np.mean(np.array(accuracy), axis=0)\n",
    "    val_acc_mean = np.mean(np.array(val_accuracy), axis=0)\n",
    "    \n",
    "    # Calculating the standard deviation values\n",
    "    loss_std = np.std(np.array(loss), axis=0)\n",
    "    val_loss_std = np.std(np.array(val_loss), axis=0)\n",
    "    acc_std = np.std(np.array(accuracy), axis=0)\n",
    "    val_acc_std = np.std(np.array(val_accuracy), axis=0)\n",
    "    \n",
    "    x_arr = np.arange(len(loss_mean)) + 1\n",
    "\n",
    "    fig = plt.figure(figsize=(12, 4))\n",
    "    \n",
    "    # Plotting the loss graph\n",
    "    ax = fig.add_subplot(1, 2, 1)\n",
    "    ax.plot(x_arr, loss_mean, '-o', label='Train loss')\n",
    "    ax.plot(x_arr, val_loss_mean, '--<', label='Validation loss')\n",
    "    ax.legend(fontsize=15)\n",
    "    ax.set_xlabel('Epoch', size=15)\n",
    "    ax.set_ylabel('Loss', size=15)\n",
    "    \n",
    "    # Show std range of losses\n",
    "    if show_std:\n",
    "        ax.fill_between(x_arr,\n",
    "                       loss_mean + loss_std,\n",
    "                       loss_mean - loss_std,\n",
    "                       alpha=0.15, color='blue')\n",
    "        ax.fill_between(x_arr,\n",
    "                       val_loss_mean + val_loss_std,\n",
    "                       val_loss_mean - val_loss_std,\n",
    "                       alpha=0.15, color='orange')\n",
    "\n",
    "    # Plotting the accuracy graph    \n",
    "    ax2 = fig.add_subplot(1, 2, 2)\n",
    "    ax2.plot(x_arr, acc_mean, '-o', label = 'Train acc.')\n",
    "    ax2.plot(x_arr, val_acc_mean, '--<', label = 'Validation acc.')\n",
    "    ax2.legend(fontsize=15)\n",
    "    ax2.set_xlabel('Epoch', size = 15)\n",
    "    ax2.set_ylabel('Accuracy', size = 15)\n",
    "    ax2.set_ylim(0,1)\n",
    "    \n",
    "    # Show std range of accuracies\n",
    "    if show_std:\n",
    "        ax2.fill_between(x_arr,\n",
    "                       acc_mean + acc_std,\n",
    "                       acc_mean - acc_std,\n",
    "                       alpha=0.15, color='blue')\n",
    "        ax2.fill_between(x_arr,\n",
    "                       val_acc_mean + val_acc_std,\n",
    "                       val_acc_mean - val_acc_std,\n",
    "                       alpha=0.15, color='orange')\n",
    "    \n",
    "    plt.show()"
   ]
  },
  {
   "cell_type": "code",
   "execution_count": 42,
   "metadata": {},
   "outputs": [],
   "source": [
    "# Adopted from the Medium article \"Training on Large Datasets That Don’t Fit In Memory in Keras\"\n",
    "# Source: medium.com/@mrgarg.rajat/training-on-large-datasets-that-dont-fit-in-memory-in-keras-60a974785d71\n",
    "\n",
    "class My_Custom_Generator(tf.keras.utils.Sequence) :\n",
    "  \n",
    "    def __init__(self, images, labels, batch_size) :\n",
    "        self.images = images\n",
    "        self.labels = labels\n",
    "        self.batch_size = batch_size\n",
    "    \n",
    "    \n",
    "    def __len__(self) :\n",
    "        return (np.ceil(len(self.images) / float(self.batch_size))).astype(np.int)\n",
    "  \n",
    "  \n",
    "    def __getitem__(self, idx) :\n",
    "        with tf.device('/cpu:0'): \n",
    "            batch_x = self.images[idx * self.batch_size : (idx+1) * self.batch_size]\n",
    "            batch_y = self.labels[idx * self.batch_size : (idx+1) * self.batch_size]\n",
    "    \n",
    "        return batch_x, batch_y"
   ]
  },
  {
   "cell_type": "markdown",
   "metadata": {},
   "source": [
    "### F.3 - Running the ResNet Model"
   ]
  },
  {
   "cell_type": "code",
   "execution_count": 44,
   "metadata": {},
   "outputs": [],
   "source": [
    "def build_ResNet():\n",
    "    tf.keras.backend.clear_session()\n",
    "    tf.random.set_seed(0)\n",
    "    input_shape = (96, 96, 3)\n",
    "    \n",
    "    rnet50 = tf.keras.applications.resnet50.ResNet50(\n",
    "        include_top=False,\n",
    "        weights='imagenet',\n",
    "        input_tensor=None,\n",
    "        input_shape=input_shape)\n",
    "\n",
    "    inputs = tf.keras.Input(input_shape)\n",
    "    m2 = tf.keras.layers.GlobalAveragePooling2D()(rnet50(inputs))\n",
    "    m2 = tf.keras.layers.Dropout(.1)(m2)\n",
    "    m2 = tf.keras.layers.Flatten()(m2)\n",
    "    m2 = tf.keras.layers.Dense(1, activation= None)(m2)\n",
    "\n",
    "    resnetmodel = tf.keras.Model(inputs=inputs, outputs=m2)\n",
    "    resnetmodel.compile(optimizer = 'adam',\n",
    "                        loss = tf.keras.losses.BinaryCrossentropy(from_logits=True),\n",
    "                        metrics = ['accuracy']) \n",
    "    \n",
    "    return resnetmodel  "
   ]
  },
  {
   "cell_type": "code",
   "execution_count": 46,
   "metadata": {
    "scrolled": false
   },
   "outputs": [
    {
     "name": "stdout",
     "output_type": "stream",
     "text": [
      "Doing fold 1 of 8...\n",
      "\n",
      "- Step 1(a) - brightness adjustment..\n",
      "\n",
      "- Step 1(b) - contrast adjustment..\n",
      "\n",
      "- Step 1(c) - random flips..\n",
      "\n",
      "- Step 1(d) - 90 rotations..\n",
      "\n",
      "- Step 1(e) - 180 rotations..\n",
      "\n",
      "- Step 1(f) - 270 rotations..\n",
      "\n",
      "- Step 1(g) - merging images back..\n",
      "\n",
      "- Preprocessing Done!\n",
      "Epoch 1/10\n",
      "7797/7797 [==============================] - 452s 56ms/step - loss: 0.3193 - accuracy: 0.8603 - val_loss: 0.3228 - val_accuracy: 0.8472\n",
      "Epoch 2/10\n",
      "7797/7797 [==============================] - 438s 56ms/step - loss: 0.2439 - accuracy: 0.8981 - val_loss: 0.2911 - val_accuracy: 0.8689\n",
      "Epoch 3/10\n",
      "7797/7797 [==============================] - 439s 56ms/step - loss: 0.2075 - accuracy: 0.9159 - val_loss: 0.8928 - val_accuracy: 0.6660\n",
      "Epoch 4/10\n",
      "7797/7797 [==============================] - 478s 61ms/step - loss: 0.1804 - accuracy: 0.9279 - val_loss: 0.2247 - val_accuracy: 0.9165\n",
      "Epoch 5/10\n",
      "7797/7797 [==============================] - 466s 60ms/step - loss: 0.1558 - accuracy: 0.9382 - val_loss: 0.3065 - val_accuracy: 0.8873\n",
      "Epoch 6/10\n",
      "7797/7797 [==============================] - 474s 61ms/step - loss: 0.1330 - accuracy: 0.9480 - val_loss: 0.2654 - val_accuracy: 0.9034\n",
      "Epoch 7/10\n",
      "7797/7797 [==============================] - 447s 57ms/step - loss: 0.1096 - accuracy: 0.9574 - val_loss: 0.2312 - val_accuracy: 0.9056\n",
      "Epoch 8/10\n",
      "7797/7797 [==============================] - 444s 57ms/step - loss: 0.0889 - accuracy: 0.9657 - val_loss: 0.2476 - val_accuracy: 0.9097\n",
      "Epoch 9/10\n",
      "7797/7797 [==============================] - 447s 57ms/step - loss: 0.0714 - accuracy: 0.9724 - val_loss: 0.2904 - val_accuracy: 0.9027\n",
      "Epoch 10/10\n",
      "7797/7797 [==============================] - 435s 56ms/step - loss: 0.0596 - accuracy: 0.9771 - val_loss: 0.2981 - val_accuracy: 0.9097\n",
      "Doing fold 2 of 8...\n",
      "\n",
      "- Step 1(a) - brightness adjustment..\n",
      "\n",
      "- Step 1(b) - contrast adjustment..\n",
      "\n",
      "- Step 1(c) - random flips..\n",
      "\n",
      "- Step 1(d) - 90 rotations..\n",
      "\n",
      "- Step 1(e) - 180 rotations..\n",
      "\n",
      "- Step 1(f) - 270 rotations..\n",
      "\n",
      "- Step 1(g) - merging images back..\n",
      "\n",
      "- Preprocessing Done!\n",
      "Epoch 1/10\n",
      "7797/7797 [==============================] - 446s 56ms/step - loss: 0.3448 - accuracy: 0.8476 - val_loss: 0.6243 - val_accuracy: 0.7780\n",
      "Epoch 2/10\n",
      "7797/7797 [==============================] - 440s 56ms/step - loss: 0.2586 - accuracy: 0.8912 - val_loss: 0.3318 - val_accuracy: 0.8746\n",
      "Epoch 3/10\n",
      "7797/7797 [==============================] - 442s 57ms/step - loss: 0.2207 - accuracy: 0.9088 - val_loss: 0.3965 - val_accuracy: 0.7970\n",
      "Epoch 4/10\n",
      "7797/7797 [==============================] - 465s 60ms/step - loss: 0.1911 - accuracy: 0.9230 - val_loss: 0.3785 - val_accuracy: 0.7929\n",
      "Epoch 5/10\n",
      "7797/7797 [==============================] - 440s 56ms/step - loss: 0.1670 - accuracy: 0.9329 - val_loss: 0.2082 - val_accuracy: 0.9091\n",
      "Epoch 6/10\n",
      "7797/7797 [==============================] - 463s 59ms/step - loss: 0.1447 - accuracy: 0.9425 - val_loss: 0.2076 - val_accuracy: 0.9088\n",
      "Epoch 7/10\n",
      "7797/7797 [==============================] - 439s 56ms/step - loss: 0.1227 - accuracy: 0.9516 - val_loss: 0.6194 - val_accuracy: 0.7683\n",
      "Epoch 8/10\n",
      "7797/7797 [==============================] - 471s 60ms/step - loss: 0.1007 - accuracy: 0.9604 - val_loss: 0.2763 - val_accuracy: 0.9012\n",
      "Epoch 9/10\n",
      "7797/7797 [==============================] - 492s 63ms/step - loss: 0.0828 - accuracy: 0.9670 - val_loss: 0.2645 - val_accuracy: 0.9077\n",
      "Epoch 10/10\n",
      "7797/7797 [==============================] - 489s 63ms/step - loss: 0.0667 - accuracy: 0.9739 - val_loss: 0.2985 - val_accuracy: 0.9222\n",
      "Doing fold 3 of 8...\n",
      "\n",
      "- Step 1(a) - brightness adjustment..\n",
      "\n",
      "- Step 1(b) - contrast adjustment..\n",
      "\n",
      "- Step 1(c) - random flips..\n",
      "\n",
      "- Step 1(d) - 90 rotations..\n",
      "\n",
      "- Step 1(e) - 180 rotations..\n",
      "\n",
      "- Step 1(f) - 270 rotations..\n",
      "\n",
      "- Step 1(g) - merging images back..\n",
      "\n",
      "- Preprocessing Done!\n",
      "Epoch 1/10\n",
      "7797/7797 [==============================] - 447s 56ms/step - loss: 0.3526 - accuracy: 0.8428 - val_loss: 0.4298 - val_accuracy: 0.8506\n",
      "Epoch 2/10\n",
      "7797/7797 [==============================] - 440s 56ms/step - loss: 0.2759 - accuracy: 0.8836 - val_loss: 0.2630 - val_accuracy: 0.8837\n",
      "Epoch 3/10\n",
      "7797/7797 [==============================] - 439s 56ms/step - loss: 0.2406 - accuracy: 0.9001 - val_loss: 0.2939 - val_accuracy: 0.8576\n",
      "Epoch 4/10\n",
      "7797/7797 [==============================] - 449s 58ms/step - loss: 0.2084 - accuracy: 0.9143 - val_loss: 0.2283 - val_accuracy: 0.9086\n",
      "Epoch 5/10\n",
      "7797/7797 [==============================] - 441s 57ms/step - loss: 0.1818 - accuracy: 0.9272 - val_loss: 0.2122 - val_accuracy: 0.9092\n",
      "Epoch 6/10\n",
      "7797/7797 [==============================] - 450s 58ms/step - loss: 0.1592 - accuracy: 0.9366 - val_loss: 0.2162 - val_accuracy: 0.9221\n",
      "Epoch 7/10\n",
      "7797/7797 [==============================] - 451s 58ms/step - loss: 0.1370 - accuracy: 0.9462 - val_loss: 0.2154 - val_accuracy: 0.9143\n",
      "Epoch 8/10\n",
      "7797/7797 [==============================] - 466s 60ms/step - loss: 0.1161 - accuracy: 0.9551 - val_loss: 0.2192 - val_accuracy: 0.9245\n",
      "Epoch 9/10\n",
      "7797/7797 [==============================] - 492s 63ms/step - loss: 0.0960 - accuracy: 0.9624 - val_loss: 0.2016 - val_accuracy: 0.9296\n",
      "Epoch 10/10\n",
      "7797/7797 [==============================] - 465s 60ms/step - loss: 0.0784 - accuracy: 0.9696 - val_loss: 0.4154 - val_accuracy: 0.8842\n",
      "Doing fold 4 of 8...\n",
      "\n",
      "- Step 1(a) - brightness adjustment..\n",
      "\n",
      "- Step 1(b) - contrast adjustment..\n",
      "\n",
      "- Step 1(c) - random flips..\n",
      "\n",
      "- Step 1(d) - 90 rotations..\n",
      "\n",
      "- Step 1(e) - 180 rotations..\n",
      "\n",
      "- Step 1(f) - 270 rotations..\n",
      "\n",
      "- Step 1(g) - merging images back..\n",
      "\n",
      "- Preprocessing Done!\n",
      "Epoch 1/10\n",
      "7797/7797 [==============================] - 444s 56ms/step - loss: 0.3268 - accuracy: 0.8565 - val_loss: 0.4751 - val_accuracy: 0.8031\n",
      "Epoch 2/10\n",
      "7797/7797 [==============================] - 444s 57ms/step - loss: 0.2503 - accuracy: 0.8948 - val_loss: 0.2739 - val_accuracy: 0.9042\n",
      "Epoch 3/10\n",
      "7797/7797 [==============================] - 455s 58ms/step - loss: 0.2175 - accuracy: 0.9111 - val_loss: 0.2071 - val_accuracy: 0.9163\n",
      "Epoch 4/10\n",
      "7797/7797 [==============================] - 480s 62ms/step - loss: 0.1867 - accuracy: 0.9247 - val_loss: 0.4223 - val_accuracy: 0.8076\n",
      "Epoch 5/10\n",
      "7797/7797 [==============================] - 458s 59ms/step - loss: 0.1654 - accuracy: 0.9340 - val_loss: 0.1921 - val_accuracy: 0.9286\n",
      "Epoch 6/10\n",
      "7797/7797 [==============================] - 465s 60ms/step - loss: 0.1392 - accuracy: 0.9450 - val_loss: 0.3632 - val_accuracy: 0.8520\n",
      "Epoch 7/10\n",
      "7797/7797 [==============================] - 477s 61ms/step - loss: 0.1175 - accuracy: 0.9541 - val_loss: 0.2380 - val_accuracy: 0.9125\n",
      "Epoch 8/10\n",
      "7797/7797 [==============================] - 486s 62ms/step - loss: 0.0957 - accuracy: 0.9629 - val_loss: 0.2370 - val_accuracy: 0.9230\n",
      "Epoch 9/10\n",
      "7797/7797 [==============================] - 466s 60ms/step - loss: 0.0771 - accuracy: 0.9701 - val_loss: 0.2675 - val_accuracy: 0.9050\n",
      "Epoch 10/10\n",
      "7797/7797 [==============================] - 442s 57ms/step - loss: 0.0633 - accuracy: 0.9754 - val_loss: 0.2794 - val_accuracy: 0.9168\n",
      "Doing fold 5 of 8...\n",
      "\n",
      "- Step 1(a) - brightness adjustment..\n",
      "\n",
      "- Step 1(b) - contrast adjustment..\n",
      "\n",
      "- Step 1(c) - random flips..\n",
      "\n",
      "- Step 1(d) - 90 rotations..\n",
      "\n",
      "- Step 1(e) - 180 rotations..\n",
      "\n",
      "- Step 1(f) - 270 rotations..\n",
      "\n",
      "- Step 1(g) - merging images back..\n",
      "\n",
      "- Preprocessing Done!\n",
      "Epoch 1/10\n",
      "7797/7797 [==============================] - 443s 56ms/step - loss: 0.3190 - accuracy: 0.8597 - val_loss: 0.3664 - val_accuracy: 0.8310\n",
      "Epoch 2/10\n",
      "7797/7797 [==============================] - 440s 56ms/step - loss: 0.2553 - accuracy: 0.8917 - val_loss: 0.3344 - val_accuracy: 0.8297\n",
      "Epoch 3/10\n",
      "7797/7797 [==============================] - 437s 56ms/step - loss: 0.2152 - accuracy: 0.9106 - val_loss: 0.4192 - val_accuracy: 0.8314\n",
      "Epoch 4/10\n",
      "7797/7797 [==============================] - 440s 56ms/step - loss: 0.1863 - accuracy: 0.9242 - val_loss: 0.2127 - val_accuracy: 0.9164\n",
      "Epoch 5/10\n",
      "7797/7797 [==============================] - 464s 60ms/step - loss: 0.1627 - accuracy: 0.9348 - val_loss: 0.2211 - val_accuracy: 0.8995\n",
      "Epoch 6/10\n",
      "7797/7797 [==============================] - 447s 57ms/step - loss: 0.1392 - accuracy: 0.9452 - val_loss: 0.2292 - val_accuracy: 0.9138\n",
      "Epoch 7/10\n",
      "7797/7797 [==============================] - 445s 57ms/step - loss: 0.1160 - accuracy: 0.9545 - val_loss: 0.2020 - val_accuracy: 0.9218\n",
      "Epoch 8/10\n",
      "7797/7797 [==============================] - 438s 56ms/step - loss: 0.0953 - accuracy: 0.9630 - val_loss: 0.2090 - val_accuracy: 0.9297\n",
      "Epoch 9/10\n",
      "7797/7797 [==============================] - 439s 56ms/step - loss: 0.0780 - accuracy: 0.9699 - val_loss: 0.2455 - val_accuracy: 0.9211\n",
      "Epoch 10/10\n",
      "7797/7797 [==============================] - 435s 56ms/step - loss: 0.0641 - accuracy: 0.9749 - val_loss: 0.3180 - val_accuracy: 0.9047\n",
      "Doing fold 6 of 8...\n",
      "\n",
      "- Step 1(a) - brightness adjustment..\n",
      "\n",
      "- Step 1(b) - contrast adjustment..\n",
      "\n",
      "- Step 1(c) - random flips..\n",
      "\n",
      "- Step 1(d) - 90 rotations..\n",
      "\n",
      "- Step 1(e) - 180 rotations..\n",
      "\n",
      "- Step 1(f) - 270 rotations..\n",
      "\n",
      "- Step 1(g) - merging images back..\n",
      "\n",
      "- Preprocessing Done!\n",
      "Epoch 1/10\n",
      "7797/7797 [==============================] - 447s 56ms/step - loss: 0.3740 - accuracy: 0.8301 - val_loss: 0.4282 - val_accuracy: 0.7673\n",
      "Epoch 2/10\n",
      "7797/7797 [==============================] - 443s 57ms/step - loss: 0.2734 - accuracy: 0.8828 - val_loss: 0.8668 - val_accuracy: 0.6739\n",
      "Epoch 3/10\n",
      "7797/7797 [==============================] - 467s 60ms/step - loss: 0.2324 - accuracy: 0.9035 - val_loss: 0.2903 - val_accuracy: 0.8826\n",
      "Epoch 4/10\n",
      "7797/7797 [==============================] - 443s 57ms/step - loss: 0.2033 - accuracy: 0.9169 - val_loss: 0.3852 - val_accuracy: 0.8487\n",
      "Epoch 5/10\n",
      "7797/7797 [==============================] - 453s 58ms/step - loss: 0.1798 - accuracy: 0.9282 - val_loss: 0.3942 - val_accuracy: 0.8163\n",
      "Epoch 6/10\n",
      "7797/7797 [==============================] - 445s 57ms/step - loss: 0.1629 - accuracy: 0.9348 - val_loss: 0.1995 - val_accuracy: 0.9215\n",
      "Epoch 7/10\n",
      "7797/7797 [==============================] - 456s 59ms/step - loss: 0.1517 - accuracy: 0.9398 - val_loss: 0.2290 - val_accuracy: 0.8991\n",
      "Epoch 8/10\n",
      "7797/7797 [==============================] - 447s 57ms/step - loss: 0.1235 - accuracy: 0.9516 - val_loss: 0.2554 - val_accuracy: 0.8838\n",
      "Epoch 9/10\n",
      "7797/7797 [==============================] - 457s 59ms/step - loss: 0.1038 - accuracy: 0.9602 - val_loss: 0.2759 - val_accuracy: 0.9022\n",
      "Epoch 10/10\n",
      "7797/7797 [==============================] - 445s 57ms/step - loss: 0.0854 - accuracy: 0.9668 - val_loss: 0.3749 - val_accuracy: 0.8801\n",
      "Doing fold 7 of 8...\n",
      "\n",
      "- Step 1(a) - brightness adjustment..\n",
      "\n",
      "- Step 1(b) - contrast adjustment..\n",
      "\n",
      "- Step 1(c) - random flips..\n",
      "\n",
      "- Step 1(d) - 90 rotations..\n",
      "\n",
      "- Step 1(e) - 180 rotations..\n",
      "\n",
      "- Step 1(f) - 270 rotations..\n",
      "\n",
      "- Step 1(g) - merging images back..\n",
      "\n",
      "- Preprocessing Done!\n",
      "Epoch 1/10\n",
      "7797/7797 [==============================] - 447s 56ms/step - loss: 0.3283 - accuracy: 0.8551 - val_loss: 0.4704 - val_accuracy: 0.7720\n",
      "Epoch 2/10\n",
      "7797/7797 [==============================] - 455s 58ms/step - loss: 0.2476 - accuracy: 0.8962 - val_loss: 0.3730 - val_accuracy: 0.8237\n",
      "Epoch 3/10\n",
      "7797/7797 [==============================] - 439s 56ms/step - loss: 0.2131 - accuracy: 0.9127 - val_loss: 0.3739 - val_accuracy: 0.8136\n",
      "Epoch 4/10\n",
      "7797/7797 [==============================] - 439s 56ms/step - loss: 0.1833 - accuracy: 0.9258 - val_loss: 0.2919 - val_accuracy: 0.8529\n",
      "Epoch 5/10\n",
      "7797/7797 [==============================] - 442s 57ms/step - loss: 0.1594 - accuracy: 0.9365 - val_loss: 0.2294 - val_accuracy: 0.9242\n",
      "Epoch 6/10\n",
      "7797/7797 [==============================] - 463s 59ms/step - loss: 0.1375 - accuracy: 0.9454 - val_loss: 0.2093 - val_accuracy: 0.9139\n",
      "Epoch 7/10\n",
      "7797/7797 [==============================] - 440s 56ms/step - loss: 0.1137 - accuracy: 0.9552 - val_loss: 0.2324 - val_accuracy: 0.9115\n",
      "Epoch 8/10\n",
      "7797/7797 [==============================] - 444s 57ms/step - loss: 0.0935 - accuracy: 0.9637 - val_loss: 0.4301 - val_accuracy: 0.8575\n",
      "Epoch 9/10\n",
      "7797/7797 [==============================] - 488s 63ms/step - loss: 0.0760 - accuracy: 0.9704 - val_loss: 0.2580 - val_accuracy: 0.9310\n",
      "Epoch 10/10\n",
      "7797/7797 [==============================] - 443s 57ms/step - loss: 0.0620 - accuracy: 0.9760 - val_loss: 0.2685 - val_accuracy: 0.9193\n",
      "Doing fold 8 of 8...\n",
      "\n",
      "- Step 1(a) - brightness adjustment..\n",
      "\n",
      "- Step 1(b) - contrast adjustment..\n",
      "\n",
      "- Step 1(c) - random flips..\n",
      "\n",
      "- Step 1(d) - 90 rotations..\n",
      "\n",
      "- Step 1(e) - 180 rotations..\n",
      "\n",
      "- Step 1(f) - 270 rotations..\n",
      "\n",
      "- Step 1(g) - merging images back..\n",
      "\n",
      "- Preprocessing Done!\n",
      "Epoch 1/10\n",
      "7797/7797 [==============================] - 443s 56ms/step - loss: 0.3454 - accuracy: 0.8484 - val_loss: 0.5028 - val_accuracy: 0.7081\n",
      "Epoch 2/10\n",
      "7797/7797 [==============================] - 444s 57ms/step - loss: 0.2643 - accuracy: 0.8873 - val_loss: 0.2483 - val_accuracy: 0.9009\n",
      "Epoch 3/10\n",
      "7797/7797 [==============================] - 454s 58ms/step - loss: 0.2292 - accuracy: 0.9050 - val_loss: 0.3523 - val_accuracy: 0.8296\n",
      "Epoch 4/10\n",
      "7797/7797 [==============================] - 450s 58ms/step - loss: 0.2015 - accuracy: 0.9175 - val_loss: 0.3527 - val_accuracy: 0.8698\n",
      "Epoch 5/10\n",
      "7797/7797 [==============================] - 1720s 221ms/step - loss: 0.1774 - accuracy: 0.9286 - val_loss: 0.2178 - val_accuracy: 0.9132\n",
      "Epoch 6/10\n",
      "7797/7797 [==============================] - 407s 52ms/step - loss: 0.1533 - accuracy: 0.9390 - val_loss: 0.2131 - val_accuracy: 0.9083\n",
      "Epoch 7/10\n",
      "7797/7797 [==============================] - 407s 52ms/step - loss: 0.1328 - accuracy: 0.9480 - val_loss: 0.2799 - val_accuracy: 0.8904\n",
      "Epoch 8/10\n",
      "7797/7797 [==============================] - 406s 52ms/step - loss: 0.1101 - accuracy: 0.9573 - val_loss: 0.2467 - val_accuracy: 0.9056\n",
      "Epoch 9/10\n",
      "7797/7797 [==============================] - 407s 52ms/step - loss: 0.0908 - accuracy: 0.9647 - val_loss: 0.2524 - val_accuracy: 0.9191\n",
      "Epoch 10/10\n",
      "7797/7797 [==============================] - 408s 52ms/step - loss: 0.0754 - accuracy: 0.9703 - val_loss: 0.3278 - val_accuracy: 0.8969\n"
     ]
    },
    {
     "data": {
      "image/png": "[encoded data removed]",
      "text/plain": [
       "<Figure size 1200x400 with 2 Axes>"
      ]
     },
     "metadata": {},
     "output_type": "display_data"
    }
   ],
   "source": [
    "CONTRAST_FACTOR = 3  # This is unused\n",
    "DELTA = 0.3          # This is unused\n",
    "\n",
    "n_splits = 8\n",
    "batch_size = 32\n",
    "\n",
    "loss, val_loss, accuracy, val_accuracy = [], [], [], []\n",
    "\n",
    "\n",
    "for kfold, (train, validation) in enumerate(StratifiedKFold(n_splits=n_splits,\n",
    "                                                            shuffle=True).split(X_train_kfold, y_train_kfold)):\n",
    "\n",
    "    print(f\"Doing fold {kfold+1} of {n_splits}...\")\n",
    "\n",
    "    with tf.device('/cpu:0'):\n",
    "        train_data = tf.gather(X_train_kfold, train)\n",
    "        validation_data = tf.gather(X_train_kfold, validation)\n",
    "        \n",
    "        ## Added in 28-Oct version: image augmentation:\n",
    "        \n",
    "        # Brightness - In fact unused, as Step 1(c) uses the original train_data rather than train_data_aug from this step\n",
    "        print(\"\\n- Step 1(a) - brightness adjustment..\")\n",
    "        train_data_aug = adjust_brightness(train_data, delta = DELTA)\n",
    "        gc.collect()\n",
    "        tf.keras.backend.clear_session()\n",
    "        \n",
    "        # Contrast - In fact unused, as Step 1(c) uses the original train_data rather than train_data_aug from this step\n",
    "        print(\"\\n- Step 1(b) - contrast adjustment..\")\n",
    "        train_data_aug = adjust_contrast(train_data, contrast_factor = CONTRAST_FACTOR)\n",
    "        gc.collect()\n",
    "        tf.keras.backend.clear_session()\n",
    "        \n",
    "        # Random Flip - apply to original as well\n",
    "        print(\"\\n- Step 1(c) - random flips..\")\n",
    "        train_data_aug = random_flip_left_right(train_data)\n",
    "        gc.collect()\n",
    "        tf.keras.backend.clear_session()\n",
    "        \n",
    "        # Raotations 90 - new images created\n",
    "        print(\"\\n- Step 1(d) - 90 rotations..\")\n",
    "        train_data_aug_90 = rotate_image(train_data_aug)\n",
    "        gc.collect()\n",
    "        tf.keras.backend.clear_session()\n",
    "        \n",
    "        # Raotations 180 - new images created\n",
    "        print(\"\\n- Step 1(e) - 180 rotations..\")\n",
    "        train_data_aug_180 = rotate_image(train_data_aug, k=2)\n",
    "        gc.collect()\n",
    "        tf.keras.backend.clear_session()\n",
    "        \n",
    "        # Raotations 270 - new images created\n",
    "        print(\"\\n- Step 1(f) - 270 rotations..\")\n",
    "        train_data_aug_270 = rotate_image(train_data_aug, k=3)\n",
    "        gc.collect()\n",
    "        tf.keras.backend.clear_session()\n",
    "        \n",
    "        # Merging new images\n",
    "        print(\"\\n- Step 1(g) - merging images back..\")\n",
    "        train_data_aug = tf.concat([train_data,\n",
    "                                       train_data_aug_90,\n",
    "                                       train_data_aug_180,\n",
    "                                       train_data_aug_270],\n",
    "                                      axis = 0)\n",
    "        y_train_kfold_aug = tf.concat([y_train_kfold[train],\n",
    "                                      y_train_kfold[train],\n",
    "                                      y_train_kfold[train],\n",
    "                                      y_train_kfold[train]],\n",
    "                                      axis = 0)\n",
    "        gc.collect()\n",
    "        tf.keras.backend.clear_session()\n",
    "        \n",
    "        print(\"\\n- Preprocessing Done!\")\n",
    "    \n",
    "    # instantiate the model\n",
    "    model = build_ResNet()\n",
    "    \n",
    "    with tf.device('/cpu:0'):\n",
    "        try:\n",
    "            del training_batch_generator\n",
    "        except:\n",
    "            None\n",
    "        try:\n",
    "            del validation_batch_generator\n",
    "        except:\n",
    "            None\n",
    "        \n",
    "        gc.collect()\n",
    "        \n",
    "        training_batch_generator = My_Custom_Generator(np.repeat(train_data_aug, 3, -1),\n",
    "                                                       y_train_kfold_aug,\n",
    "                                                       batch_size)\n",
    "        validation_batch_generator = My_Custom_Generator(np.repeat(validation_data, 3, -1),\n",
    "                                                         y_train_kfold[validation],\n",
    "                                                         batch_size)\n",
    "    \n",
    "    # run the model \n",
    "    history = model.fit(training_batch_generator,\n",
    "                        steps_per_epoch = int(train_data_aug.shape[0] // batch_size),\n",
    "                        epochs = 10,\n",
    "                        verbose = 1,\n",
    "                        validation_data = validation_batch_generator,\n",
    "                        validation_steps = int(validation_data.shape[0] // batch_size))\n",
    "    \n",
    "    # adding some of the mertics we need    \n",
    "    loss.append(history.history['loss'])\n",
    "    val_loss.append(history.history['val_loss'])\n",
    "    accuracy.append(history.history['accuracy'])\n",
    "    val_accuracy.append(history.history['val_accuracy'])\n",
    "    \n",
    "    # save the model and clear garbage\n",
    "    model_name = f\"ResNet_Batch2_Fold{kfold+1}_Justin.h5\"\n",
    "    \n",
    "    model.save(model_name)\n",
    "    \n",
    "    gc.collect()\n",
    "    \n",
    "plot_model_eval(loss, val_loss, accuracy, val_accuracy, show_std=True) "
   ]
  },
  {
   "cell_type": "markdown",
   "metadata": {},
   "source": [
    "### F.4 - Evaluating the ResNet Model"
   ]
  },
  {
   "cell_type": "code",
   "execution_count": 47,
   "metadata": {},
   "outputs": [],
   "source": [
    "# saving the losses and accuracies\n",
    "d = {'Loss': loss,\n",
    "     'Val_loss': val_loss,\n",
    "     'Acc': accuracy,\n",
    "     'Val_acc': val_accuracy}\n",
    "loss_df = pd.DataFrame(data=d)\n",
    "\n",
    "loss_df.to_csv('Batch2_Loss_Values.csv', index=True)"
   ]
  },
  {
   "cell_type": "code",
   "execution_count": 48,
   "metadata": {},
   "outputs": [],
   "source": [
    "def ensemble_voting_binary(model_list, X_test):\n",
    "    '''\n",
    "    Custom function to have an ensemble of pre-saved models voting on the results.\n",
    "    Assumes (i) the models return logits; (ii) binary classification task.\n",
    "    ----\n",
    "    Params:\n",
    "    model_list: list of model names to load\n",
    "    X_test: features to be fed into the models for predictions\n",
    "    ----\n",
    "    Return:\n",
    "    final_vote: array for comparing against y_test\n",
    "    '''\n",
    "    total_probas = np.zeros(shape=(len(model_list), X_test.shape[0]))\n",
    "    total_votes = np.zeros(shape=(len(model_list), X_test.shape[0]))\n",
    "    \n",
    "    for idx, model_name in enumerate(model_list):\n",
    "        # load model\n",
    "        model = tf.keras.models.load_model(model_name)\n",
    "        \n",
    "        # predict logits\n",
    "        pred_logits_model = model.predict(X_test)\n",
    "        probas_model = tf.sigmoid(pred_logits_model)\n",
    "        probas_model = probas_model.numpy().flatten()*100\n",
    "        \n",
    "        # convert to predictions\n",
    "        preds_model = [1 if x>50.0 else 0 for x in probas_model]\n",
    "        \n",
    "        # append the predictions and probabilities to the total_probas and total_votes\n",
    "        total_probas[idx] = probas_model\n",
    "        total_votes[idx] = preds_model\n",
    "        \n",
    "        gc.collect()\n",
    "    \n",
    "    # calculating averages across the model predictions\n",
    "    average_probas = np.mean(total_probas, axis=0)\n",
    "    average_votes = np.mean(total_votes, axis=0)\n",
    "    \n",
    "    # in case of a tie in votes, looks at the mean probability\n",
    "    final_vote = [1 if x>0.5 else (1 if (x==0.5 and average_probas[idx]>50.0) else 0) for idx, x in enumerate(average_votes)]\n",
    "    \n",
    "    return final_vote        "
   ]
  },
  {
   "cell_type": "code",
   "execution_count": 49,
   "metadata": {},
   "outputs": [
    {
     "name": "stdout",
     "output_type": "stream",
     "text": [
      "557/557 [==============================] - 8s 13ms/step\n",
      "557/557 [==============================] - 8s 13ms/step\n",
      "557/557 [==============================] - 8s 13ms/step\n",
      "557/557 [==============================] - 8s 13ms/step\n",
      "557/557 [==============================] - 8s 13ms/step\n",
      "557/557 [==============================] - 8s 13ms/step\n",
      "557/557 [==============================] - 8s 13ms/step\n",
      "557/557 [==============================] - 8s 13ms/step\n",
      "ROC AUC Score =  0.9419257097968802\n"
     ]
    },
    {
     "data": {
      "image/png": "[encoded data removed]",
      "text/plain": [
       "<Figure size 640x480 with 2 Axes>"
      ]
     },
     "metadata": {},
     "output_type": "display_data"
    }
   ],
   "source": [
    "model_list = ['ResNet_Batch2_Fold1_Justin.h5', 'ResNet_Batch2_Fold2_Justin.h5',\n",
    "              'ResNet_Batch2_Fold3_Justin.h5', 'ResNet_Batch2_Fold4_Justin.h5',\n",
    "              'ResNet_Batch2_Fold5_Justin.h5', 'ResNet_Batch2_Fold6_Justin.h5',\n",
    "              'ResNet_Batch2_Fold7_Justin.h5', 'ResNet_Batch2_Fold8_Justin.h5']\n",
    "X_test_threechannels = np.repeat(X_test, 3, -1)\n",
    "\n",
    "predictions_ensemble = np.array(ensemble_voting_binary(model_list, X_test_threechannels))\n",
    "confusion_matrix_ensemble = confusion_matrix(np.ceil(y_test).astype(int), predictions_ensemble)\n",
    "\n",
    "#plot_confusion_matrix(confusion_matrix_cnn_3, ['Cancer', 'No Cancer'])\n",
    "print('ROC AUC Score = ',roc_auc_score(np.ceil(y_test).astype(int), predictions_ensemble))\n",
    "\n",
    "fig, ax = plot_confusion_matrix(conf_mat=confusion_matrix_ensemble,\n",
    "                                show_absolute=True,\n",
    "                                show_normed=True,\n",
    "                                colorbar=True,\n",
    "                                cmap = 'Dark2')\n",
    "plt.show()"
   ]
  },
  {
   "cell_type": "code",
   "execution_count": 50,
   "metadata": {},
   "outputs": [
    {
     "data": {
      "image/png": "[encoded data removed]",
      "text/plain": [
       "<Figure size 640x480 with 1 Axes>"
      ]
     },
     "metadata": {},
     "output_type": "display_data"
    }
   ],
   "source": [
    "### NOTE: THIS IS A WRONG IMPLEMENTATION OF THE AUC FUNCTION ###\n",
    "### The correct one is in the file \"J10_Comparing_Contrast_Models.ipynb\".\n",
    "fpr_ensemble, tpr_ensemble, thresholds_ensemble = roc_curve(np.ceil(y_test).astype(int), predictions_ensemble)\n",
    "auc_ensemble = auc(fpr_ensemble, tpr_ensemble)\n",
    "\n",
    "plt.figure(1)\n",
    "plt.plot([0, 1], [0, 1], 'k--')\n",
    "plt.plot(fpr_ensemble, tpr_ensemble, label='area = {:.2f}'.format(auc_ensemble))\n",
    "plt.xlabel('False positive rate')\n",
    "plt.ylabel('True positive rate')\n",
    "plt.title('ROC Curve ResNet Ensemble')\n",
    "plt.legend(loc='best')\n",
    "plt.show()"
   ]
  }
 ],
 "metadata": {
  "accelerator": "TPU",
  "colab": {
   "collapsed_sections": [
    "LVFUDthMpIRC",
    "Oj7_lkEuSEgK",
    "3ul4kgxkYvSU",
    "blbLoLnvn8t2"
   ],
   "machine_shape": "hm",
   "provenance": [],
   "toc_visible": true
  },
  "kernelspec": {
   "display_name": "Python 3 (ipykernel)",
   "language": "python",
   "name": "python3"
  },
  "language_info": {
   "codemirror_mode": {
    "name": "ipython",
    "version": 3
   },
   "file_extension": ".py",
   "mimetype": "text/x-python",
   "name": "python",
   "nbconvert_exporter": "python",
   "pygments_lexer": "ipython3",
   "version": "3.9.13"
  }
 },
 "nbformat": 4,
 "nbformat_minor": 1
}
