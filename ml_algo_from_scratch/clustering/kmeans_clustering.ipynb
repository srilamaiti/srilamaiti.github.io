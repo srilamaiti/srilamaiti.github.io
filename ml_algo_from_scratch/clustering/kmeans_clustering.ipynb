{
  "nbformat": 4,
  "nbformat_minor": 0,
  "metadata": {
    "colab": {
      "provenance": [],
      "authorship_tag": "ABX9TyOKOpkMYdA3nVR8bVtSs6NG",
      "include_colab_link": true
    },
    "kernelspec": {
      "name": "python3",
      "display_name": "Python 3"
    },
    "language_info": {
      "name": "python"
    }
  },
  "cells": [
    {
      "cell_type": "markdown",
      "metadata": {
        "id": "view-in-github",
        "colab_type": "text"
      },
      "source": [
        "<a href=\"https://colab.research.google.com/github/srilamaiti/srilamaiti.github.io/blob/main/ml_algo_from_scratch/clustering/kmeans_clustering.ipynb\" target=\"_parent\"><img src=\"https://colab.research.google.com/assets/colab-badge.svg\" alt=\"Open In Colab\"/></a>"
      ]
    },
    {
      "cell_type": "code",
      "execution_count": 5,
      "metadata": {
        "id": "-RsCPV1bmuoM"
      },
      "outputs": [],
      "source": [
        "import pandas as pd\n",
        "import numpy as np\n",
        "import random as rd\n",
        "import matplotlib.pyplot as plt\n",
        "from sklearn.datasets import make_blobs\n",
        "from sklearn.cluster import KMeans\n",
        "from sklearn.metrics import silhouette_score\n",
        "from sklearn.preprocessing import StandardScaler\n",
        "import math\n",
        "from scipy.spatial.distance import euclidean\n",
        "import random as rd\n",
        "import time\n",
        "rd.seed(42)"
      ]
    },
    {
      "cell_type": "code",
      "source": [
        "class k_means:\n",
        "    def __init__(self, k = 2, max_iterations = 500, tolerance_level = .00001):\n",
        "        self.k = k\n",
        "        self.max_iterations = max_iterations\n",
        "        self.tolerance_level = tolerance_level\n",
        "\n",
        "    def distance_between_points(self, point1, point2):\n",
        "        x1, y1 = point1\n",
        "        x2, y2 = point2\n",
        "        return math.sqrt((x2 - x1)**2 + (y2 - y1)**2)\n",
        "\n",
        "    def initialize_centroids(self, data):\n",
        "        centroids = data[np.random.choice(data.shape[0], self.k, replace=False)]\n",
        "        return centroids\n",
        "\n",
        "    def update_centroids(self, closest_centroids):\n",
        "        points_df = pd.DataFrame(closest_centroids, columns=['point', 'cluster_id'])['point'].apply(pd.Series)\n",
        "        cluster_ids = pd.DataFrame(closest_centroids).iloc[:, -1].to_frame()  # Convert to DataFrame\n",
        "\n",
        "        result = pd.concat([points_df, cluster_ids], axis=1)\n",
        "        result.columns = ['x', 'y', 'cluster']\n",
        "        return np.array(result.groupby('cluster').agg({'x': 'mean', 'y': 'mean'}))\n",
        "\n",
        "    def fit(self, X):\n",
        "        # Initialize centroids randomly\n",
        "        self.centroids = self.initialize_centroids(X)\n",
        "        self.closest_centroids = []\n",
        "        iteration = 0\n",
        "        while iteration < self.max_iterations:\n",
        "            for x in X:\n",
        "                distance = []\n",
        "                for i, c in enumerate(self.centroids):\n",
        "                    distance.append((i, self.distance_between_points(x, c)))\n",
        "                distance.sort(key = lambda x: x[1])\n",
        "                self.closest_centroids.append((x, distance[0][0]))\n",
        "\n",
        "            new_centroids = self.update_centroids(self.closest_centroids)\n",
        "            if np.all(np.abs(self.centroids - new_centroids) < self.tolerance_level):\n",
        "                break\n",
        "            self.centroids = new_centroids\n",
        "            iteration += 1\n",
        "            self.closest_centroids = []\n",
        "\n",
        "    def predict(self):\n",
        "        return pd.DataFrame(self.closest_centroids).iloc[:, -1]\n"
      ],
      "metadata": {
        "id": "VfoL3Umomwxh"
      },
      "execution_count": 103,
      "outputs": []
    },
    {
      "cell_type": "code",
      "source": [
        "n_samples=10000\n",
        "k_clusters = 3\n",
        "max_iterations = 500\n",
        "tolerance_level = .00001"
      ],
      "metadata": {
        "id": "eUeJDKBgIGWl"
      },
      "execution_count": 83,
      "outputs": []
    },
    {
      "cell_type": "code",
      "source": [
        "# Generate synthetic data using sklearn.datasets.make_blobs\n",
        "X, _ = make_blobs(n_samples=n_samples, centers=k_clusters, random_state=42)\n",
        "X_sclaed = StandardScaler().fit_transform(X)"
      ],
      "metadata": {
        "id": "G5kCP3wpI_qK"
      },
      "execution_count": 92,
      "outputs": []
    },
    {
      "cell_type": "code",
      "source": [
        "custom_kmeans = k_means(k = k_clusters, max_iterations = max_iterations, tolerance_level = tolerance_level)\n",
        "custom_kmeans.fit(X_sclaed)\n",
        "labels_custom_kmeans  = custom_kmeans.predict()\n",
        "labels_custom_kmeans"
      ],
      "metadata": {
        "colab": {
          "base_uri": "https://localhost:8080/",
          "height": 458
        },
        "id": "O3lsjsX-mw0S",
        "outputId": "12e5dbf6-b3b6-4742-dc91-47c3ce1dd0fc"
      },
      "execution_count": 104,
      "outputs": [
        {
          "output_type": "execute_result",
          "data": {
            "text/plain": [
              "0       2\n",
              "1       0\n",
              "2       2\n",
              "3       0\n",
              "4       0\n",
              "       ..\n",
              "9995    2\n",
              "9996    0\n",
              "9997    0\n",
              "9998    2\n",
              "9999    2\n",
              "Name: 1, Length: 10000, dtype: int64"
            ],
            "text/html": [
              "<div>\n",
              "<style scoped>\n",
              "    .dataframe tbody tr th:only-of-type {\n",
              "        vertical-align: middle;\n",
              "    }\n",
              "\n",
              "    .dataframe tbody tr th {\n",
              "        vertical-align: top;\n",
              "    }\n",
              "\n",
              "    .dataframe thead th {\n",
              "        text-align: right;\n",
              "    }\n",
              "</style>\n",
              "<table border=\"1\" class=\"dataframe\">\n",
              "  <thead>\n",
              "    <tr style=\"text-align: right;\">\n",
              "      <th></th>\n",
              "      <th>1</th>\n",
              "    </tr>\n",
              "  </thead>\n",
              "  <tbody>\n",
              "    <tr>\n",
              "      <th>0</th>\n",
              "      <td>2</td>\n",
              "    </tr>\n",
              "    <tr>\n",
              "      <th>1</th>\n",
              "      <td>0</td>\n",
              "    </tr>\n",
              "    <tr>\n",
              "      <th>2</th>\n",
              "      <td>2</td>\n",
              "    </tr>\n",
              "    <tr>\n",
              "      <th>3</th>\n",
              "      <td>0</td>\n",
              "    </tr>\n",
              "    <tr>\n",
              "      <th>4</th>\n",
              "      <td>0</td>\n",
              "    </tr>\n",
              "    <tr>\n",
              "      <th>...</th>\n",
              "      <td>...</td>\n",
              "    </tr>\n",
              "    <tr>\n",
              "      <th>9995</th>\n",
              "      <td>2</td>\n",
              "    </tr>\n",
              "    <tr>\n",
              "      <th>9996</th>\n",
              "      <td>0</td>\n",
              "    </tr>\n",
              "    <tr>\n",
              "      <th>9997</th>\n",
              "      <td>0</td>\n",
              "    </tr>\n",
              "    <tr>\n",
              "      <th>9998</th>\n",
              "      <td>2</td>\n",
              "    </tr>\n",
              "    <tr>\n",
              "      <th>9999</th>\n",
              "      <td>2</td>\n",
              "    </tr>\n",
              "  </tbody>\n",
              "</table>\n",
              "<p>10000 rows × 1 columns</p>\n",
              "</div><br><label><b>dtype:</b> int64</label>"
            ]
          },
          "metadata": {},
          "execution_count": 104
        }
      ]
    },
    {
      "cell_type": "code",
      "source": [
        "kmeans = KMeans(n_clusters=k_clusters)\n",
        "kmeans.fit(X_sclaed)\n",
        "labels  = kmeans.predict(X_sclaed) # The error was due to missing X_sclaed\n",
        "labels"
      ],
      "metadata": {
        "colab": {
          "base_uri": "https://localhost:8080/"
        },
        "id": "ItTykr8OHMu1",
        "outputId": "aa754549-81ab-433a-e733-8f49425df8f8"
      },
      "execution_count": 105,
      "outputs": [
        {
          "output_type": "execute_result",
          "data": {
            "text/plain": [
              "array([2, 0, 2, ..., 0, 2, 2], dtype=int32)"
            ]
          },
          "metadata": {},
          "execution_count": 105
        }
      ]
    },
    {
      "cell_type": "code",
      "source": [
        "labels_custom_kmeans == labels"
      ],
      "metadata": {
        "colab": {
          "base_uri": "https://localhost:8080/",
          "height": 458
        },
        "id": "vJrkLrYwmw3M",
        "outputId": "dd17b55d-a5b9-4d1a-fddc-75b15f84158d"
      },
      "execution_count": 106,
      "outputs": [
        {
          "output_type": "execute_result",
          "data": {
            "text/plain": [
              "0       True\n",
              "1       True\n",
              "2       True\n",
              "3       True\n",
              "4       True\n",
              "        ... \n",
              "9995    True\n",
              "9996    True\n",
              "9997    True\n",
              "9998    True\n",
              "9999    True\n",
              "Name: 1, Length: 10000, dtype: bool"
            ],
            "text/html": [
              "<div>\n",
              "<style scoped>\n",
              "    .dataframe tbody tr th:only-of-type {\n",
              "        vertical-align: middle;\n",
              "    }\n",
              "\n",
              "    .dataframe tbody tr th {\n",
              "        vertical-align: top;\n",
              "    }\n",
              "\n",
              "    .dataframe thead th {\n",
              "        text-align: right;\n",
              "    }\n",
              "</style>\n",
              "<table border=\"1\" class=\"dataframe\">\n",
              "  <thead>\n",
              "    <tr style=\"text-align: right;\">\n",
              "      <th></th>\n",
              "      <th>1</th>\n",
              "    </tr>\n",
              "  </thead>\n",
              "  <tbody>\n",
              "    <tr>\n",
              "      <th>0</th>\n",
              "      <td>True</td>\n",
              "    </tr>\n",
              "    <tr>\n",
              "      <th>1</th>\n",
              "      <td>True</td>\n",
              "    </tr>\n",
              "    <tr>\n",
              "      <th>2</th>\n",
              "      <td>True</td>\n",
              "    </tr>\n",
              "    <tr>\n",
              "      <th>3</th>\n",
              "      <td>True</td>\n",
              "    </tr>\n",
              "    <tr>\n",
              "      <th>4</th>\n",
              "      <td>True</td>\n",
              "    </tr>\n",
              "    <tr>\n",
              "      <th>...</th>\n",
              "      <td>...</td>\n",
              "    </tr>\n",
              "    <tr>\n",
              "      <th>9995</th>\n",
              "      <td>True</td>\n",
              "    </tr>\n",
              "    <tr>\n",
              "      <th>9996</th>\n",
              "      <td>True</td>\n",
              "    </tr>\n",
              "    <tr>\n",
              "      <th>9997</th>\n",
              "      <td>True</td>\n",
              "    </tr>\n",
              "    <tr>\n",
              "      <th>9998</th>\n",
              "      <td>True</td>\n",
              "    </tr>\n",
              "    <tr>\n",
              "      <th>9999</th>\n",
              "      <td>True</td>\n",
              "    </tr>\n",
              "  </tbody>\n",
              "</table>\n",
              "<p>10000 rows × 1 columns</p>\n",
              "</div><br><label><b>dtype:</b> bool</label>"
            ]
          },
          "metadata": {},
          "execution_count": 106
        }
      ]
    },
    {
      "cell_type": "code",
      "source": [],
      "metadata": {
        "id": "eb8A02ozmw9U"
      },
      "execution_count": null,
      "outputs": []
    }
  ]
}